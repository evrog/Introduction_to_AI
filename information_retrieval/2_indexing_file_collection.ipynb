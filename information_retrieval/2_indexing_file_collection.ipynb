{
  "nbformat": 4,
  "nbformat_minor": 0,
  "metadata": {
    "colab": {
      "provenance": []
    },
    "kernelspec": {
      "name": "python3",
      "display_name": "Python 3"
    },
    "language_info": {
      "name": "python"
    }
  },
  "cells": [
    {
      "cell_type": "markdown",
      "source": [
        "В этом ноутбуке мы проиндексируем, то есть создадим краткие выжимки из коллекции файлов, которая лежит у меня на гуглодиске вот тут: https://drive.google.com/drive/folders/1EI79srkWdS343k-j_dSL2_8-puo6ryD7?usp=sharing . Я буду открывать каждый файл, прочитывать его содержание и брать оттуда кусочек начала и несколько ключевых слов. Полученное содержание я сохраню в текстовый файл, который станет промптом для ChatGPT. Индексация нужна, т.к. в промпт мы много текста запихнуть не моежм, следовательно, нужно использовать выжимку. Можно брать и не самое начало, а, например, кусочек из середины. Есть разные техники извлечения ключевых слов. Я буду использовать самые простые методы, так сказать, \"в лоб\". Полученный промпт я буду использовать вот в этом файле https://docs.google.com/spreadsheets/d/1wYVMO_BgTZhsHRrNdyff4Wfq0b7J6ojlHiJkKNJJRNc/edit?usp=sharing , чтобы задавать ChatGPT вопросы о наших файлах. В коллекции у меня файлы, которые я уже использовала ранее: \"Война и мир\" Толстого, \"Васяткино озеро\" Астафьева, Макиавелли на итальянском и английском из поста Александра про параллельные корпуса и, вишенка на торте, кусочек словаря ругательств русского языка с сайта ЛитРес (18+) - это чтобы вопросы были поинтереснее. Так что, если вам нет 18-ти, то... вы и так не могете мой канал читать, потому что я там написала же в закрепленном сообщении \"18+\" - че вы тут делаете?"
      ],
      "metadata": {
        "id": "Uge8JgwnSnpw"
      }
    },
    {
      "cell_type": "code",
      "source": [
        "# В этот раз загружать все файлы при помощи команды wget я не буду. Я подключу\n",
        "# этот ноутбук к своему гуглдиску. Поэтому вам запустить мой код не получится -\n",
        "# у вас нет доступа к этой папке. Но вы можете скопировать ее на свой диск\n",
        "# и изменить потом в моем коде ссылку на эту папку.\n",
        "path_to_folder = '/content/drive/MyDrive/Innovation and Bots/TG-channel/notebooks/my_file_collection'"
      ],
      "metadata": {
        "id": "Ei9Wc2WuV4Az"
      },
      "execution_count": null,
      "outputs": []
    },
    {
      "cell_type": "code",
      "execution_count": null,
      "metadata": {
        "id": "bB8gF1CBSlBD"
      },
      "outputs": [],
      "source": [
        "# Чтобы собрать все адреса файлов из папки, в которой они лежат, я буду использовать модуль glob.\n",
        "import glob"
      ]
    },
    {
      "cell_type": "code",
      "source": [
        "# Теперь получим пути ко всем файлам.\n",
        "my_files = glob.glob(path_to_folder+'/*')"
      ],
      "metadata": {
        "id": "xuYCvaB6VbQp"
      },
      "execution_count": null,
      "outputs": []
    },
    {
      "cell_type": "code",
      "source": [
        "# Вот они.\n",
        "my_files"
      ],
      "metadata": {
        "colab": {
          "base_uri": "https://localhost:8080/"
        },
        "id": "27mMeVQDXKyh",
        "outputId": "023a7938-4f40-41b5-8c0f-2c3fd245e8ca"
      },
      "execution_count": null,
      "outputs": [
        {
          "output_type": "execute_result",
          "data": {
            "text/plain": [
              "['/content/drive/MyDrive/Innovation and Bots/TG-channel/notebooks/my_file_collection/Макиавелли_итальянский.txt',\n",
              " '/content/drive/MyDrive/Innovation and Bots/TG-channel/notebooks/my_file_collection/Макиавелли_английский.txt',\n",
              " '/content/drive/MyDrive/Innovation and Bots/TG-channel/notebooks/my_file_collection/Васяткино_озеро.txt',\n",
              " '/content/drive/MyDrive/Innovation and Bots/TG-channel/notebooks/my_file_collection/Словарь_ругательств.txt',\n",
              " '/content/drive/MyDrive/Innovation and Bots/TG-channel/notebooks/my_file_collection/Война_и_мир.txt']"
            ]
          },
          "metadata": {},
          "execution_count": 55
        }
      ]
    },
    {
      "cell_type": "code",
      "source": [
        "# Извлечем имя файла, без пути к нему.\n",
        "remove_chars = len(path_to_folder)\n",
        "filename = my_files[0][remove_chars+1:]\n",
        "print(filename)"
      ],
      "metadata": {
        "colab": {
          "base_uri": "https://localhost:8080/"
        },
        "id": "csyQvIGJiUyE",
        "outputId": "0beea7d0-f6c4-4e20-faa7-84dd78ee0cfe"
      },
      "execution_count": null,
      "outputs": [
        {
          "output_type": "stream",
          "name": "stdout",
          "text": [
            "Макиавелли_итальянский.txt\n"
          ]
        }
      ]
    },
    {
      "cell_type": "code",
      "source": [
        "# Теперь напишем функцию, которая из каждого файла будет доставать то самое,\n",
        "# мякотку: кусочек начала и ключевые слова. Начало достать будет изи.\n",
        "# Вот пример как достать первые 200 знаков.\n",
        "with open(my_files[0], 'r') as my_file:\n",
        "    text = my_file.read()\n",
        "    beginning = text[:200]\n",
        "print(beginning)"
      ],
      "metadata": {
        "colab": {
          "base_uri": "https://localhost:8080/"
        },
        "id": "-30ZZa1qXRVB",
        "outputId": "a6c0fbb2-4443-4a9f-a734-51d8ed1fdddd"
      },
      "execution_count": null,
      "outputs": [
        {
          "output_type": "stream",
          "name": "stdout",
          "text": [
            "NICCOLO MACHIAVELLI%%%%%author.\n",
            "Il Principe%%%%%title.\n",
            "al MAGNIFICO LORENZO DI PIERO DE’ MEDICI.\n",
            "Sogliono il più delle volte coloro che desiderano acquistare grazia appresso un Principe, farsegli inna\n"
          ]
        }
      ]
    },
    {
      "cell_type": "code",
      "source": [
        "# Чтобы извлечь ключевые слова, выберем из файлов самые частотные слова минус\n",
        "# стоп-слова - частые слова, которые имеют в основном грамматический смысл\n",
        "# (\"ты\", \"я\", \"и\", \"вместо\" и т.д.). Список стоп-слов возьмем из библиотеки\n",
        "# NLTK для русского, английского и итальянского.\n",
        "import nltk\n",
        "nltk.download('stopwords')"
      ],
      "metadata": {
        "colab": {
          "base_uri": "https://localhost:8080/"
        },
        "id": "cXfIuEgYYzsK",
        "outputId": "4f20c132-0991-45eb-d7ee-8bb35c9b555e"
      },
      "execution_count": null,
      "outputs": [
        {
          "output_type": "stream",
          "name": "stderr",
          "text": [
            "[nltk_data] Downloading package stopwords to /root/nltk_data...\n",
            "[nltk_data]   Unzipping corpora/stopwords.zip.\n"
          ]
        },
        {
          "output_type": "execute_result",
          "data": {
            "text/plain": [
              "True"
            ]
          },
          "metadata": {},
          "execution_count": 7
        }
      ]
    },
    {
      "cell_type": "code",
      "source": [
        "from nltk.corpus import stopwords\n",
        "\n",
        "ru_stopwords = stopwords.words('russian')\n",
        "en_stopwords = stopwords.words('english')\n",
        "it_stopwords = stopwords.words('italian')"
      ],
      "metadata": {
        "id": "MJ4km62fZh_L"
      },
      "execution_count": null,
      "outputs": []
    },
    {
      "cell_type": "code",
      "source": [
        "# Посмотрим на русские стоп-слова.\n",
        "print(ru_stopwords)"
      ],
      "metadata": {
        "colab": {
          "base_uri": "https://localhost:8080/"
        },
        "id": "3y8FXZsKZc0c",
        "outputId": "2f104387-6764-4a48-db24-597a43653fde"
      },
      "execution_count": null,
      "outputs": [
        {
          "output_type": "stream",
          "name": "stdout",
          "text": [
            "['и', 'в', 'во', 'не', 'что', 'он', 'на', 'я', 'с', 'со', 'как', 'а', 'то', 'все', 'она', 'так', 'его', 'но', 'да', 'ты', 'к', 'у', 'же', 'вы', 'за', 'бы', 'по', 'только', 'ее', 'мне', 'было', 'вот', 'от', 'меня', 'еще', 'нет', 'о', 'из', 'ему', 'теперь', 'когда', 'даже', 'ну', 'вдруг', 'ли', 'если', 'уже', 'или', 'ни', 'быть', 'был', 'него', 'до', 'вас', 'нибудь', 'опять', 'уж', 'вам', 'ведь', 'там', 'потом', 'себя', 'ничего', 'ей', 'может', 'они', 'тут', 'где', 'есть', 'надо', 'ней', 'для', 'мы', 'тебя', 'их', 'чем', 'была', 'сам', 'чтоб', 'без', 'будто', 'чего', 'раз', 'тоже', 'себе', 'под', 'будет', 'ж', 'тогда', 'кто', 'этот', 'того', 'потому', 'этого', 'какой', 'совсем', 'ним', 'здесь', 'этом', 'один', 'почти', 'мой', 'тем', 'чтобы', 'нее', 'сейчас', 'были', 'куда', 'зачем', 'всех', 'никогда', 'можно', 'при', 'наконец', 'два', 'об', 'другой', 'хоть', 'после', 'над', 'больше', 'тот', 'через', 'эти', 'нас', 'про', 'всего', 'них', 'какая', 'много', 'разве', 'три', 'эту', 'моя', 'впрочем', 'хорошо', 'свою', 'этой', 'перед', 'иногда', 'лучше', 'чуть', 'том', 'нельзя', 'такой', 'им', 'более', 'всегда', 'конечно', 'всю', 'между']\n"
          ]
        }
      ]
    },
    {
      "cell_type": "code",
      "source": [
        "# Теперь сольем все стоп-слова в один список.\n",
        "all_stopwords = ru_stopwords+en_stopwords+it_stopwords\n",
        "print(' '.join(all_stopwords))"
      ],
      "metadata": {
        "colab": {
          "base_uri": "https://localhost:8080/"
        },
        "id": "41mkX5FGZlQz",
        "outputId": "8187e480-8532-41a8-d5bb-652f45c9edb4"
      },
      "execution_count": null,
      "outputs": [
        {
          "output_type": "stream",
          "name": "stdout",
          "text": [
            "и в во не что он на я с со как а то все она так его но да ты к у же вы за бы по только ее мне было вот от меня еще нет о из ему теперь когда даже ну вдруг ли если уже или ни быть был него до вас нибудь опять уж вам ведь там потом себя ничего ей может они тут где есть надо ней для мы тебя их чем была сам чтоб без будто чего раз тоже себе под будет ж тогда кто этот того потому этого какой совсем ним здесь этом один почти мой тем чтобы нее сейчас были куда зачем всех никогда можно при наконец два об другой хоть после над больше тот через эти нас про всего них какая много разве три эту моя впрочем хорошо свою этой перед иногда лучше чуть том нельзя такой им более всегда конечно всю между i me my myself we our ours ourselves you you're you've you'll you'd your yours yourself yourselves he him his himself she she's her hers herself it it's its itself they them their theirs themselves what which who whom this that that'll these those am is are was were be been being have has had having do does did doing a an the and but if or because as until while of at by for with about against between into through during before after above below to from up down in out on off over under again further then once here there when where why how all any both each few more most other some such no nor not only own same so than too very s t can will just don don't should should've now d ll m o re ve y ain aren aren't couldn couldn't didn didn't doesn doesn't hadn hadn't hasn hasn't haven haven't isn isn't ma mightn mightn't mustn mustn't needn needn't shan shan't shouldn shouldn't wasn wasn't weren weren't won won't wouldn wouldn't ad al allo ai agli all agl alla alle con col coi da dal dallo dai dagli dall dagl dalla dalle di del dello dei degli dell degl della delle in nel nello nei negli nell negl nella nelle su sul sullo sui sugli sull sugl sulla sulle per tra contro io tu lui lei noi voi loro mio mia miei mie tuo tua tuoi tue suo sua suoi sue nostro nostra nostri nostre vostro vostra vostri vostre mi ti ci vi lo la li le gli ne il un uno una ma ed se perché anche come dov dove che chi cui non più quale quanto quanti quanta quante quello quelli quella quelle questo questi questa queste si tutto tutti a c e i l o ho hai ha abbiamo avete hanno abbia abbiate abbiano avrò avrai avrà avremo avrete avranno avrei avresti avrebbe avremmo avreste avrebbero avevo avevi aveva avevamo avevate avevano ebbi avesti ebbe avemmo aveste ebbero avessi avesse avessimo avessero avendo avuto avuta avuti avute sono sei è siamo siete sia siate siano sarò sarai sarà saremo sarete saranno sarei saresti sarebbe saremmo sareste sarebbero ero eri era eravamo eravate erano fui fosti fu fummo foste furono fossi fosse fossimo fossero essendo faccio fai facciamo fanno faccia facciate facciano farò farai farà faremo farete faranno farei faresti farebbe faremmo fareste farebbero facevo facevi faceva facevamo facevate facevano feci facesti fece facemmo faceste fecero facessi facesse facessimo facessero facendo sto stai sta stiamo stanno stia stiate stiano starò starai starà staremo starete staranno starei staresti starebbe staremmo stareste starebbero stavo stavi stava stavamo stavate stavano stetti stesti stette stemmo steste stettero stessi stesse stessimo stessero stando\n"
          ]
        }
      ]
    },
    {
      "cell_type": "code",
      "source": [
        "from collections import Counter"
      ],
      "metadata": {
        "id": "5TFPEA9Nez6U"
      },
      "execution_count": null,
      "outputs": []
    },
    {
      "cell_type": "code",
      "source": [
        "# Получим самые частотные слова из Макиавелли. Выше мы создали переменную text.\n",
        "# сделаем отбор грязненько, без умной токенизации типа spacy, т.к. это toy example -\n",
        "# игрушечный пример. Но он и так все хорошо покажет.\n",
        "all_words = text.lower().split()\n",
        "c = Counter(all_words)\n",
        "most_common = c.most_common(200)\n",
        "most_common_without_stopwords = [mc[0] for mc in most_common if mc[0] not in all_stopwords]\n",
        "print(f'Из двухсот осталось {len(most_common_without_stopwords)} слов.')\n",
        "print(most_common_without_stopwords)"
      ],
      "metadata": {
        "colab": {
          "base_uri": "https://localhost:8080/"
        },
        "id": "dFSZAYtreDN5",
        "outputId": "e0b81b89-cae5-48f2-8d60-5e1e952bb75f"
      },
      "execution_count": null,
      "outputs": [
        {
          "output_type": "stream",
          "name": "stdout",
          "text": [
            "Из двухсот осталось 118 слов.\n",
            "['perchè', 'principe', 'de’', 'nè', 'essere', 'quando', 'quali', 'sempre', 'può', 'stato', 'cose', 'egli', 'mai', 'senza', 'deve', 'parte', 'uomini', 'altri', 'ogni', 'modo', 'virtù', 'ne’', 'bene', 'quel', 'avere', 'ancora', 'adunque', 'a’', 'alcuno', 'fusse', 'tutte', 'fare', 'tempi', 'cosa', 'da’', 'necessario', 'possono', 'sopra', 'prima', 'loro,', 'principe,', 'stato,', 'tenere', 'qualche', 'principi', 'esser', 'fatto', 'tempo', 'difficultà', 'dipoi', 'duca', 'tanto', 'stati', 'però', 'capitolo', 'fortuna', 'fa', 'sè', 'fortuna,', 'l’uno', 'papa', 'loro.', 'alessandro', 'azioni', 'molti', 'voglio', 'solo', 'principato', 'l’altro', 'solamente', 'ordini', 'soldati', 'qualunque', 'uomo', 'così', 'altre', 'aver', 'far', 'questo,', 'molto', 'primo', 'popolo', 'possa', 'altro', 'qualità', 'regno', 'sotto', 'due', 'ciascuno', 'tenuto', 'sì', 'principi,', 'dopo', 'pertanto', 'gran', 'grande', 'nuovo', 'altri,', 'qual', 'città', 'benchè', 'uomini,', 'cagioni', 'quelli,', 'potere', 'qui', 'cagione', 'debbe', 'fuggire', 'tanta', 'cose,', 'donde', 'grandi,', 'nondimeno', 'natura', 'ben', 'popoli,', 'modo,']\n"
          ]
        }
      ]
    },
    {
      "cell_type": "markdown",
      "source": [
        "Теперь соберем функцию, которая на вход принимает файл, а на выходе дает кусочек для промпта. Я буду использовать некоторые (глобальные) переменные, которые создала выше (remove_chars, all_words, Counter)."
      ],
      "metadata": {
        "id": "LQcp8XQbgr4o"
      }
    },
    {
      "cell_type": "code",
      "source": [
        "def extract_data(filename):\n",
        "    name = filename[remove_chars+1:]\n",
        "    for_prompt = \"Название файла: \" + name + '\\n\\nНачало текста:\\n'\n",
        "    with open(filename, 'r') as my_file:\n",
        "        text = my_file.read()\n",
        "        for_prompt += text[:200]+'\\n\\n'\n",
        "    all_words = text.lower().split()\n",
        "    c = Counter(all_words)\n",
        "    most_common = c.most_common(200)\n",
        "    most_common_without_stopwords = [mc[0] for mc in most_common if mc[0] not in all_stopwords]\n",
        "    for_prompt += 'Ключевые слова: '+' '.join(most_common_without_stopwords)+'\\n'\n",
        "    return for_prompt"
      ],
      "metadata": {
        "id": "bupUrUXpgw3Y"
      },
      "execution_count": null,
      "outputs": []
    },
    {
      "cell_type": "code",
      "source": [
        "# Вот такая красотища получается для Макиавелли:\n",
        "print(extract_data(my_files[0]))"
      ],
      "metadata": {
        "colab": {
          "base_uri": "https://localhost:8080/"
        },
        "id": "lxjl_LODh7OT",
        "outputId": "39cb540b-8e8a-4642-e260-2572db48bc09"
      },
      "execution_count": null,
      "outputs": [
        {
          "output_type": "stream",
          "name": "stdout",
          "text": [
            "Название файла: Макиавелли_итальянский.txt\n",
            "\n",
            "Начало текста:\n",
            "NICCOLO MACHIAVELLI%%%%%author.\n",
            "Il Principe%%%%%title.\n",
            "al MAGNIFICO LORENZO DI PIERO DE’ MEDICI.\n",
            "Sogliono il più delle volte coloro che desiderano acquistare grazia appresso un Principe, farsegli inna\n",
            "\n",
            "Ключевые слова: perchè principe de’ nè essere quando quali sempre può stato cose egli mai senza deve parte uomini altri ogni modo virtù ne’ bene quel avere ancora adunque a’ alcuno fusse tutte fare tempi cosa da’ necessario possono sopra prima loro, principe, stato, tenere qualche principi esser fatto tempo difficultà dipoi duca tanto stati però capitolo fortuna fa sè fortuna, l’uno papa loro. alessandro azioni molti voglio solo principato l’altro solamente ordini soldati qualunque uomo così altre aver far questo, molto primo popolo possa altro qualità regno sotto due ciascuno tenuto sì principi, dopo pertanto gran grande nuovo altri, qual città benchè uomini, cagioni quelli, potere qui cagione debbe fuggire tanta cose, donde grandi, nondimeno natura ben popoli, modo,\n",
            "\n"
          ]
        }
      ]
    },
    {
      "cell_type": "code",
      "source": [
        "# Теперь создадим промпт, который будем юзать с чат-гптой.\n",
        "total_prompt = ''\n",
        "\n",
        "for f in my_files:\n",
        "    total_prompt += '\\n'+extract_data(f)\n",
        "\n",
        "print(total_prompt)"
      ],
      "metadata": {
        "colab": {
          "base_uri": "https://localhost:8080/"
        },
        "id": "3ePQY5gkj-h2",
        "outputId": "aea4a2ea-0aed-4c40-ea1c-f96e540d1f20"
      },
      "execution_count": null,
      "outputs": [
        {
          "output_type": "stream",
          "name": "stdout",
          "text": [
            "\n",
            "Название файла: Макиавелли_итальянский.txt\n",
            "\n",
            "Начало текста:\n",
            "NICCOLO MACHIAVELLI%%%%%author.\n",
            "Il Principe%%%%%title.\n",
            "al MAGNIFICO LORENZO DI PIERO DE’ MEDICI.\n",
            "Sogliono il più delle volte coloro che desiderano acquistare grazia appresso un Principe, farsegli inna\n",
            "\n",
            "Ключевые слова: perchè principe de’ nè essere quando quali sempre può stato cose egli mai senza deve parte uomini altri ogni modo virtù ne’ bene quel avere ancora adunque a’ alcuno fusse tutte fare tempi cosa da’ necessario possono sopra prima loro, principe, stato, tenere qualche principi esser fatto tempo difficultà dipoi duca tanto stati però capitolo fortuna fa sè fortuna, l’uno papa loro. alessandro azioni molti voglio solo principato l’altro solamente ordini soldati qualunque uomo così altre aver far questo, molto primo popolo possa altro qualità regno sotto due ciascuno tenuto sì principi, dopo pertanto gran grande nuovo altri, qual città benchè uomini, cagioni quelli, potere qui cagione debbe fuggire tanta cose, donde grandi, nondimeno natura ben popoli, modo,\n",
            "\n",
            "Название файла: Макиавелли_английский.txt\n",
            "\n",
            "Начало текста:\n",
            "Niccolo Machiavelli%%%%%author.\n",
            "The Prince%%%%%title.\n",
            "To the Magnificent Lorenzo Di Piero De’ Medici.\n",
            "Those who strive to obtain the good graces of a prince are accustomed to come before him with such\n",
            "\n",
            "Ключевые слова: one prince would ought may always him, either men many them, people cannot new never therefore, good much make great necessary without time made hold keep first able them. way things prince, state that, take could every well king fear two found although princes others man yet fortune also shall become wish considered thus it, arms duke chapter entirely another therefore long little find must who, him. order concerning pope people, acquired kingdom seen secure whilst know consider afterwards let men, upon armed affairs italy might because, others, say state, this, wise reputation times see princes, himself, difficulties country them; and, one, neither power alexander favour nothing soldiers actions nevertheless held citizens\n",
            "\n",
            "Название файла: Васяткино_озеро.txt\n",
            "\n",
            "Начало текста:\n",
            "Виктор Астафьев\n",
            "Васюткино озеро\n",
            "Это озеро не отыщешь на карте. Небольшое оно. Небольшое, зато памятное для Васютки. Еще бы! Мала ли честь для тринадцатилетнего мальчишки — озеро, названное его именем!\n",
            "\n",
            "Ключевые слова: — васютка это и, васютка. васютка, мальчик озеро лес начал озеро, несколько мать ружье снова очень григорий лесу ты, кто-то принялся что-то стал ну, да, озера сторону пока леса. долго увидел там, впереди глухарь берега что, сколько дедушка енисея берегу рукой нем одну рыбы дальше одна осталось шел снял васютки возле лесу, ладно, быть, стало костер ветра вон среди руки пошел заметил может, васютке дед рыбаки хотелось берега. рыбаков глубь мать. думал едва где-то поднял птица ружье, стрелять ноги стоял бросился мешок, упал заговорил значит, эх, казалось, сразу слышал сухие ночь из-под глаза голову я! махнул небо облака э-эй, густые лицо нет, пароход карте васюткино васютки. оно григория отца рыба\n",
            "\n",
            "Название файла: Словарь_ругательств.txt\n",
            "\n",
            "Начало текста:\n",
            "https://www.litres.ru/book/pavel-kolbasin/slovar-necenzurnyh-brannyh-maternyh-slov-vyrazheniy-i-zhest-68624593/chitat-onlayn/\n",
            "\n",
            "Внима̀ние! Приу̀тствует и содѐржится нецензу̀рная лѐксика!\n",
            "\n",
            "\n",
            "Возмо̀жно,\n",
            "\n",
            "Ключевые слова: – ава̀рия применя̀емые нечто механизма происшествие, дорожно транспортное https://www.litres.ru/book/pavel-kolbasin/slovar-necenzurnyh-brannyh-maternyh-slov-vyrazheniy-i-zhest-68624593/chitat-onlayn/ внима̀ние! приу̀тствует содѐржится нецензу̀рная лѐксика! возмо̀жно, что̀ прису̀тствующих ту̀т сло̀в, выражѐний жѐстов ѐсть ины̀е значѐния. сло̀во, словосочета̀ние, жѐст ѝли дѐйствие значение нецензу̀рными мо̀гут явля̀ться разлѝчные профессиона̀льные тѐрмины слова̀ въотношѐнии сущѐств. та̀кже късущества̀м, когда̀ онѝ несоотвѐтствуют определѐнию применённого тѐрмина (явля̀ется клевето̀й). разгова̀ривать гро̀мким го̀лосом (крѝчать, ора̀ть) вънеподходя̀щей ситуа̀ции, счита̀ется нецензу̀рным. (гро̀мкий го̀лос применѝм въусло̀виях плохо̀й слы̀шемости) абалду̀й нехорошее существо, оскарбление абдудо̀литься справить малую нужду прямо нижнее бельё снимая оново абсу̀рд неуместное, неадекватное, непонятное абу̀за, обу̀за некто обременяющее, существование которым тягость абыка̀к некачественно выполненная работа внештатная ситуация, выход строя, последствия устранимы локализация возможна собственными ремонтными службами черезвычайное нарушение работе происшествие автокатастро̀фа повлекшее собой серьёзные повреждения транспортных средств участвовавших происшествии, травмы, либо гибель водителей, пассажиров, пешеходов. аго̀ния конвульсии, происходящие существом непосредственно смертью а̀д (хэ̀л) [hѐll (а̀d)] (а̀нгл.) литературно созданное место грешники смерти отбывают наказание совершённые грехи а̀дская машѝна очень сложный механизм огромными частично ещё неизвестными возможностями акупа̀нты существа извне захватившие власть определённой территории а̀лчность стремление обладать огромным количеством благ алька̀ида {al-qaida, القاعدة} террористическая организация арабских стран альфо̀нс существо мужского пола, выманивающее финансовые средства существ женского пола обольщая\n",
            "\n",
            "Название файла: Война_и_мир.txt\n",
            "\n",
            "Начало текста:\n",
            "Том первый\n",
            "\n",
            "Часть первая\n",
            "\n",
            "I\n",
            "\n",
            "– Eh bien, mon prince. G&#234;nes et Lucques ne sont plus que des apanages, des поместья, de la famille Buonaparte. Non, je vous pr&#233;viens que si vous ne me dites pas \n",
            "\n",
            "Ключевые слова: – это сказал князь и, - сказала он, пьер очень андрей de то, который говорил ну, ежели наташа князя время которые ростов своей нет, того, своего том, княжна лицо да, мог он. анна несколько его. vous et что-то марья она, своим que его, граф которое глаза спросил николай которая которого которой наташа, что, пьер, ваше андрей, было, стал свое говорила je своих думал ах, тебе mon этих глядя дело так, которую быть, же, отвечал несмотря день князю ростов, свои хотел котором особенно всем все, знаю, него. эта старый\n",
            "\n"
          ]
        }
      ]
    },
    {
      "cell_type": "markdown",
      "source": [
        "Я копирую текст, который получился выше и сохранен в переменную total_prompt, и переношу его в ячейку в файле гугл-таблиц \"GPT for sheets 2\" https://docs.google.com/spreadsheets/d/1wYVMO_BgTZhsHRrNdyff4Wfq0b7J6ojlHiJkKNJJRNc/edit?usp=drive_link - далее я буду работать в нем."
      ],
      "metadata": {
        "id": "Cxn1hzJ0myai"
      }
    }
  ]
}