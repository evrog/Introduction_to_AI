{
  "nbformat": 4,
  "nbformat_minor": 0,
  "metadata": {
    "colab": {
      "provenance": []
    },
    "kernelspec": {
      "name": "python3",
      "display_name": "Python 3"
    },
    "language_info": {
      "name": "python"
    }
  },
  "cells": [
    {
      "cell_type": "markdown",
      "source": [
        "Information retrieval - информационный поиск.\n",
        "\n",
        "Вот есть у нас, положим, коллекция песен."
      ],
      "metadata": {
        "id": "XtITFtnxFzss"
      }
    },
    {
      "cell_type": "code",
      "execution_count": null,
      "metadata": {
        "id": "HMejYJjf-XBc"
      },
      "outputs": [],
      "source": [
        "song_collection = [\"Эта песня простая\",\n",
        "                   \"Песня про зайцев\",\n",
        "                   \"Я в моменте\",\n",
        "                   \"Я это ты, ты это я\",\n",
        "                   \"Индийский чай\",\n",
        "                   \"В синем море, в белой пене\",\n",
        "                   \"Ягода малинка\",\n",
        "                   \"Ты горишь как огонь\",\n",
        "                   \"Никаких больше вечеринок\",\n",
        "                   \"Покинула чат\"]"
      ]
    },
    {
      "cell_type": "markdown",
      "source": [
        "Мы хотим в это коллекции найти песню про зайцев. Это будет изи. Но сначала разберемся, что на входе и что на выходе у нашего поисковика.\n",
        "\n",
        "Input (вход): текстовая строка, поисковый запрос (\"песня про зайцев\") - он же query (квИри).\n",
        "\n",
        "Output (выход): порядковый номер песни в коллекции. Напоминаю, что в списках нумерация элементов списка начинается с 0."
      ],
      "metadata": {
        "id": "7Uv7GvE1Kh08"
      }
    },
    {
      "cell_type": "code",
      "source": [
        "query_1 = 'Песня про зайцев'"
      ],
      "metadata": {
        "id": "WA3nZ8l2LTor"
      },
      "execution_count": null,
      "outputs": []
    },
    {
      "cell_type": "code",
      "source": [
        "# Изи-пизи-лемон-сквизи\n",
        "song_collection.index(query_1)"
      ],
      "metadata": {
        "colab": {
          "base_uri": "https://localhost:8080/"
        },
        "id": "pIO__blqLcm7",
        "outputId": "0cf18b26-1a16-452a-f0c0-96e27db57188"
      },
      "execution_count": null,
      "outputs": [
        {
          "output_type": "execute_result",
          "data": {
            "text/plain": [
              "1"
            ]
          },
          "metadata": {},
          "execution_count": 3
        }
      ]
    },
    {
      "cell_type": "markdown",
      "source": [
        "Но не все пользователи такие послушные, что название песни печатают точно так, как оно в коллекции..."
      ],
      "metadata": {
        "id": "vHFgm2IjLnUa"
      }
    },
    {
      "cell_type": "code",
      "source": [
        "query_2 = 'песня, про зайцев'\n",
        "song_collection.index(query_2)"
      ],
      "metadata": {
        "colab": {
          "base_uri": "https://localhost:8080/",
          "height": 193
        },
        "id": "1jIvubCpLt4F",
        "outputId": "2983d85c-ac0d-49e9-b425-ae71fcc0edc3"
      },
      "execution_count": null,
      "outputs": [
        {
          "output_type": "error",
          "ename": "ValueError",
          "evalue": "ignored",
          "traceback": [
            "\u001b[0;31m---------------------------------------------------------------------------\u001b[0m",
            "\u001b[0;31mValueError\u001b[0m                                Traceback (most recent call last)",
            "\u001b[0;32m<ipython-input-4-a7c55588b732>\u001b[0m in \u001b[0;36m<cell line: 2>\u001b[0;34m()\u001b[0m\n\u001b[1;32m      1\u001b[0m \u001b[0mquery_2\u001b[0m \u001b[0;34m=\u001b[0m \u001b[0;34m'песня про зайцев'\u001b[0m\u001b[0;34m\u001b[0m\u001b[0;34m\u001b[0m\u001b[0m\n\u001b[0;32m----> 2\u001b[0;31m \u001b[0msong_collection\u001b[0m\u001b[0;34m.\u001b[0m\u001b[0mindex\u001b[0m\u001b[0;34m(\u001b[0m\u001b[0mquery_2\u001b[0m\u001b[0;34m)\u001b[0m\u001b[0;34m\u001b[0m\u001b[0;34m\u001b[0m\u001b[0m\n\u001b[0m",
            "\u001b[0;31mValueError\u001b[0m: 'песня про зайцев' is not in list"
          ]
        }
      ]
    },
    {
      "cell_type": "markdown",
      "source": [
        "Нам нужен препроцессинг (предобработка) текстов как запроса, так и названий песен в коллекции. Сделаем функцию, которая получает на входе сырой текст, а на выходе возвращает обработанный текст."
      ],
      "metadata": {
        "id": "8N779pABL1My"
      }
    },
    {
      "cell_type": "code",
      "source": [
        "def preprocessor(text):\n",
        "    text = text.lower()\n",
        "    text = text.replace(',', '')\n",
        "    return text"
      ],
      "metadata": {
        "id": "y6P496YNL-UE"
      },
      "execution_count": null,
      "outputs": []
    },
    {
      "cell_type": "markdown",
      "source": [
        "Обработаем сначала нашу коллекцию."
      ],
      "metadata": {
        "id": "Ph1aQZ8PMlKm"
      }
    },
    {
      "cell_type": "code",
      "source": [
        "preprocessed_collection = []\n",
        "for sc in song_collection:\n",
        "    preprocessed_collection.append(preprocessor(sc))"
      ],
      "metadata": {
        "id": "sL38Ed6rMA-q"
      },
      "execution_count": null,
      "outputs": []
    },
    {
      "cell_type": "code",
      "source": [
        "preprocessed_collection"
      ],
      "metadata": {
        "colab": {
          "base_uri": "https://localhost:8080/"
        },
        "id": "nHwsaBbGM6Fl",
        "outputId": "f00c1091-9059-4a1f-b7d6-1a72e98fb42e"
      },
      "execution_count": null,
      "outputs": [
        {
          "output_type": "execute_result",
          "data": {
            "text/plain": [
              "['эта песня простая',\n",
              " 'песня про зайцев',\n",
              " 'я в моменте',\n",
              " 'я это ты ты это я',\n",
              " 'индийский чай',\n",
              " 'в синем море в белой пене',\n",
              " 'ягода малинка',\n",
              " 'ты горишь как огонь',\n",
              " 'никаких больше вечеринок',\n",
              " 'покинула чат']"
            ]
          },
          "metadata": {},
          "execution_count": 11
        }
      ]
    },
    {
      "cell_type": "markdown",
      "source": [
        "Теперь обработаем query."
      ],
      "metadata": {
        "id": "q5VevucxNKuT"
      }
    },
    {
      "cell_type": "code",
      "source": [
        "preprocessed_query_2 = preprocessor(query_2)"
      ],
      "metadata": {
        "id": "IUi0xWGTNIkr"
      },
      "execution_count": null,
      "outputs": []
    },
    {
      "cell_type": "code",
      "source": [
        "preprocessed_query_2"
      ],
      "metadata": {
        "colab": {
          "base_uri": "https://localhost:8080/",
          "height": 35
        },
        "id": "LSq7iq9rNU8a",
        "outputId": "90c587f7-a909-45a8-c320-8635180800f2"
      },
      "execution_count": null,
      "outputs": [
        {
          "output_type": "execute_result",
          "data": {
            "text/plain": [
              "'песня про зайцев'"
            ],
            "application/vnd.google.colaboratory.intrinsic+json": {
              "type": "string"
            }
          },
          "metadata": {},
          "execution_count": 13
        }
      ]
    },
    {
      "cell_type": "code",
      "source": [
        "preprocessed_collection.index(preprocessed_query_2)"
      ],
      "metadata": {
        "colab": {
          "base_uri": "https://localhost:8080/"
        },
        "id": "hiXgb5-5NW3q",
        "outputId": "daacd64c-7653-406d-840a-056de79190b8"
      },
      "execution_count": null,
      "outputs": [
        {
          "output_type": "execute_result",
          "data": {
            "text/plain": [
              "1"
            ]
          },
          "metadata": {},
          "execution_count": 16
        }
      ]
    },
    {
      "cell_type": "markdown",
      "source": [
        "Чуть сложнее, но все-таки довольно просто будет найти песню про море и песню про чай."
      ],
      "metadata": {
        "id": "syv_pwD8NpRT"
      }
    },
    {
      "cell_type": "code",
      "source": [
        "query_3 = 'море'\n",
        "query_4 = 'чай'"
      ],
      "metadata": {
        "id": "QyE9OdiFN70E"
      },
      "execution_count": null,
      "outputs": []
    },
    {
      "cell_type": "code",
      "source": [
        "for pc in preprocessed_collection:\n",
        "    if query_3 in pc:\n",
        "        print(\"Песня про море: \", preprocessed_collection.index(pc))\n",
        "    if query_4 in pc:\n",
        "        print(\"Песня про чай: \", preprocessed_collection.index(pc))"
      ],
      "metadata": {
        "colab": {
          "base_uri": "https://localhost:8080/"
        },
        "id": "G5Ysc7I9Nj2j",
        "outputId": "b77c87cc-eba2-4bcb-8677-0f17be6f646e"
      },
      "execution_count": null,
      "outputs": [
        {
          "output_type": "stream",
          "name": "stdout",
          "text": [
            "Песня про чай:  4\n",
            "Песня про море:  5\n"
          ]
        }
      ]
    },
    {
      "cell_type": "markdown",
      "source": [
        "А теперь попробуем найти песню про вечеринки. В нашей коллекции это слово встречается только в форме \"вечеринок\". Позовем на помощь лемматизатор - программу, которая возвращает начальную форму слова. Для глагола это будет инфинитив, для существительного - единственное число (если есть), именительный падеж, и т.д. Будем использовать библиотеку Spacy. Сначала нужно установить модель для русского языка. Грузится долговато - терпение, только терпение!"
      ],
      "metadata": {
        "id": "I8g2Yq0vQ-NK"
      }
    },
    {
      "cell_type": "code",
      "source": [
        "!python -m spacy download ru_core_news_lg"
      ],
      "metadata": {
        "id": "3GUjyl17R01S"
      },
      "execution_count": null,
      "outputs": []
    },
    {
      "cell_type": "code",
      "source": [
        "import spacy"
      ],
      "metadata": {
        "id": "5UwAO9PdULlz"
      },
      "execution_count": null,
      "outputs": []
    },
    {
      "cell_type": "code",
      "source": [
        "nlp = spacy.load('ru_core_news_lg')"
      ],
      "metadata": {
        "id": "Kifks4ZfUOVU"
      },
      "execution_count": null,
      "outputs": []
    },
    {
      "cell_type": "markdown",
      "source": [
        "Создадим функцию, которая будет преобразовывать текст в набор лемм (начальных форм слов)."
      ],
      "metadata": {
        "id": "Xu4UE5rcUjpD"
      }
    },
    {
      "cell_type": "code",
      "source": [
        "def lemmatizer(text):\n",
        "    spacy_text = nlp(text)\n",
        "    lemmas = ''\n",
        "    for st in spacy_text:\n",
        "        lemmas += st.lemma_+' '\n",
        "    return lemmas"
      ],
      "metadata": {
        "id": "jRvyPhKdUehr"
      },
      "execution_count": null,
      "outputs": []
    },
    {
      "cell_type": "markdown",
      "source": [
        "Вот такой текст получается в итоге."
      ],
      "metadata": {
        "id": "Sg7p6PkUVWyr"
      }
    },
    {
      "cell_type": "code",
      "source": [
        "lemmatizer(song_collection[0])"
      ],
      "metadata": {
        "colab": {
          "base_uri": "https://localhost:8080/",
          "height": 35
        },
        "id": "y7jqhFEoVH9S",
        "outputId": "904863ae-5310-424d-930b-ce64623c2a2e"
      },
      "execution_count": null,
      "outputs": [
        {
          "output_type": "execute_result",
          "data": {
            "text/plain": [
              "'этот песня простой '"
            ],
            "application/vnd.google.colaboratory.intrinsic+json": {
              "type": "string"
            }
          },
          "metadata": {},
          "execution_count": 26
        }
      ]
    },
    {
      "cell_type": "markdown",
      "source": [
        "Лемматизируем коллекцию."
      ],
      "metadata": {
        "id": "grTKgQsJVdWi"
      }
    },
    {
      "cell_type": "code",
      "source": [
        "lemmatized_songs = []\n",
        "for sc in song_collection:\n",
        "    lemmatized_songs.append(lemmatizer(sc))"
      ],
      "metadata": {
        "id": "E0DDOg4hVZg9"
      },
      "execution_count": null,
      "outputs": []
    },
    {
      "cell_type": "code",
      "source": [
        "lemmatized_songs"
      ],
      "metadata": {
        "colab": {
          "base_uri": "https://localhost:8080/"
        },
        "id": "rK7699hoVsUy",
        "outputId": "0ce7fbc8-ab8e-43e2-a4f1-5d81c40f763d"
      },
      "execution_count": null,
      "outputs": [
        {
          "output_type": "execute_result",
          "data": {
            "text/plain": [
              "['этот песня простой ',\n",
              " 'песня про заяц ',\n",
              " 'я в момент ',\n",
              " 'я это ты , ты это я ',\n",
              " 'индийский чай ',\n",
              " 'в синий море , в белый пена ',\n",
              " 'ягода малинка ',\n",
              " 'ты гореть как огонь ',\n",
              " 'никакой больше вечеринка ',\n",
              " 'покинуть чат ']"
            ]
          },
          "metadata": {},
          "execution_count": 28
        }
      ]
    },
    {
      "cell_type": "code",
      "source": [
        "query_5 = 'вечеринка'"
      ],
      "metadata": {
        "id": "7z1yvz_9WGiK"
      },
      "execution_count": null,
      "outputs": []
    },
    {
      "cell_type": "code",
      "source": [
        "for pc in lemmatized_songs:\n",
        "    if query_5 in pc:\n",
        "        print(\"Песня про вечеринку: \", lemmatized_songs.index(pc))"
      ],
      "metadata": {
        "colab": {
          "base_uri": "https://localhost:8080/"
        },
        "id": "t-qrTAO0Vwyr",
        "outputId": "f930c7e2-7112-40b3-8539-3bd08a462d82"
      },
      "execution_count": null,
      "outputs": [
        {
          "output_type": "stream",
          "name": "stdout",
          "text": [
            "Песня про вечеринку:  8\n"
          ]
        }
      ]
    },
    {
      "cell_type": "markdown",
      "source": [
        "А теперь усложним все запредельно. Поищем-ка песни про любовь! Стоит отметить, что любовь - это очень сложное понятие. Поэтому результатом будет не какая-то конкретная пенся, а весь список песен, сортированный от самой \"любовной\" песни до самой \"нелюбовной\". Будем использовать семантические вектора, которым будут посвящены еще несколько постов в этом месяце. А пока просто посмотрим на них как на какую-то магию ✨"
      ],
      "metadata": {
        "id": "WGS-vZBtWTwh"
      }
    },
    {
      "cell_type": "code",
      "source": [
        "def semantizer(text):\n",
        "    spacy_text = nlp(text)\n",
        "    return spacy_text.vector"
      ],
      "metadata": {
        "id": "rHpTGVjvWS6Y"
      },
      "execution_count": null,
      "outputs": []
    },
    {
      "cell_type": "code",
      "source": [
        "semantized_songs = []\n",
        "for sc in song_collection:\n",
        "    semantized_songs.append(semantizer(sc))"
      ],
      "metadata": {
        "id": "B2znBTjCXBOb"
      },
      "execution_count": null,
      "outputs": []
    },
    {
      "cell_type": "markdown",
      "source": [
        "Семантический вектор каждой песни теперь - это набор из 300 чисел."
      ],
      "metadata": {
        "id": "but3ExnpXSPa"
      }
    },
    {
      "cell_type": "code",
      "source": [
        "semantized_songs[0].shape"
      ],
      "metadata": {
        "colab": {
          "base_uri": "https://localhost:8080/"
        },
        "id": "EKZTPFH5XNVy",
        "outputId": "908ce7bf-f027-4d9b-d8b1-e9eda0cb58aa"
      },
      "execution_count": null,
      "outputs": [
        {
          "output_type": "execute_result",
          "data": {
            "text/plain": [
              "(300,)"
            ]
          },
          "metadata": {},
          "execution_count": 37
        }
      ]
    },
    {
      "cell_type": "markdown",
      "source": [
        "Теперь семантизируем любовь."
      ],
      "metadata": {
        "id": "Ho3uVT4CXaW5"
      }
    },
    {
      "cell_type": "code",
      "source": [
        "love_vector = semantizer('любовь')"
      ],
      "metadata": {
        "id": "OAu796efXZuR"
      },
      "execution_count": null,
      "outputs": []
    },
    {
      "cell_type": "markdown",
      "source": [
        "В ноутбуке про векторизацию я рассказывала, как отличать смешные твиты от несмешных через расстояние между векторами твитов. https://colab.research.google.com/drive/1B5_WI_zkth-lFo-HQpSGlOXz0TFgTP42?usp=sharing\n",
        "\n",
        "В нашей задаче информационного поиска песен про любовь будем делать это через меру под названием \"косинусная близость\" - о ней тоже будет отдельный пост."
      ],
      "metadata": {
        "id": "5GHTQUgeXnd6"
      }
    },
    {
      "cell_type": "code",
      "source": [
        "from numpy import dot\n",
        "from numpy.linalg import norm"
      ],
      "metadata": {
        "id": "vwIlD58hYxmq"
      },
      "execution_count": null,
      "outputs": []
    },
    {
      "cell_type": "code",
      "source": [
        "def similarity(a, b):\n",
        "    return dot(a, b)/(norm(a)*norm(b))"
      ],
      "metadata": {
        "id": "pabJDPL3XYqB"
      },
      "execution_count": null,
      "outputs": []
    },
    {
      "cell_type": "code",
      "source": [
        "print(similarity(semantized_songs[0], love_vector))"
      ],
      "metadata": {
        "colab": {
          "base_uri": "https://localhost:8080/"
        },
        "id": "3Z2ik9feY8dq",
        "outputId": "ae1a93ef-2381-455f-dfa2-0bf0c18cd646"
      },
      "execution_count": null,
      "outputs": [
        {
          "output_type": "stream",
          "name": "stdout",
          "text": [
            "0.36921203\n"
          ]
        }
      ]
    },
    {
      "cell_type": "markdown",
      "source": [
        "А теперь оценим, какие, по мнению ИИ, песни больше поют о любви, а какие - меньше."
      ],
      "metadata": {
        "id": "6_mlS7N0ZEBk"
      }
    },
    {
      "cell_type": "code",
      "source": [
        "for sems in semantized_songs:\n",
        "    print(similarity(sems, love_vector))"
      ],
      "metadata": {
        "colab": {
          "base_uri": "https://localhost:8080/"
        },
        "id": "Zfoym7Q2ZMjq",
        "outputId": "4371ed59-8e9a-45e8-f284-85f2626cddce"
      },
      "execution_count": null,
      "outputs": [
        {
          "output_type": "stream",
          "name": "stdout",
          "text": [
            "0.36921203\n",
            "0.24015385\n",
            "0.15716562\n",
            "0.42140687\n",
            "0.12162422\n",
            "0.10965233\n",
            "-0.089701205\n",
            "0.21724573\n",
            "0.21324694\n",
            "-0.066468276\n"
          ]
        }
      ]
    },
    {
      "cell_type": "markdown",
      "source": [
        "Победитель рейтинга: \"Я это ты, ты это я\" (0.42140687) - с этим трудно не согласиться. На втором месте \"Эта песня простая\" (0.36921203) - хм, ну возможно.. \"Ягода малинка\" и \"Покинула чат\" - антилидеры нашего рейтинга. Мне кажется, тут есть над чем поработать. Но, опять же, это же только по заголовкам. В общем, инфомрационный поиск все еще очень далек от совершенства. Следовательно, и нам с вами работа найдется 😀"
      ],
      "metadata": {
        "id": "GJsRMSH_ZXni"
      }
    }
  ]
}