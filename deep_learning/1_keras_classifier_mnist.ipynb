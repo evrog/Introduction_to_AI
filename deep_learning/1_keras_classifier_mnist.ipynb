{
  "nbformat": 4,
  "nbformat_minor": 0,
  "metadata": {
    "colab": {
      "provenance": []
    },
    "kernelspec": {
      "name": "python3",
      "display_name": "Python 3"
    },
    "language_info": {
      "name": "python"
    }
  },
  "cells": [
    {
      "cell_type": "markdown",
      "source": [
        "В этом ноутбуке я строю довольно простую глубокую нейросеть при помощи библиотеки Keras, чтобы классифицировать рукописные изображения цифв в известном датасете Mnist."
      ],
      "metadata": {
        "id": "k0B1OX_owPUd"
      }
    },
    {
      "cell_type": "code",
      "execution_count": null,
      "metadata": {
        "id": "WhDgAQxPPBEj"
      },
      "outputs": [],
      "source": [
        "# Импортируем библиотеки функций. Keras, наверно, самая известная библиотека\n",
        "# для построения нейронных сетей. https://keras.io/\n",
        "#             За эту полосу не выходим из вежливости к другим разработчикам.  ->\n",
        "import keras\n",
        "from keras.datasets import mnist"
      ]
    },
    {
      "cell_type": "code",
      "source": [
        "# Загружаем данные из библиотеки Keras. Можно использовать свои данные,\n",
        "# но их сначала надо подготовить. Обычно библиотеки для машин-лернинга\n",
        "# содержат несколько готовых датасетов, чтобы на них потренироваться\n",
        "# запускать разные функции.\n",
        "# Во фразе \"machine learning\" слово лернинг отвечает за обучение.\n",
        "# Сначала нам надо обучить (learn) классификатор,\n",
        "# на тренировочном наборе (train set), а потом проверить, как хорошо\n",
        "# он обучился на тестовом наборе (test set).\n",
        "# Ответы, то есть числа, которые нарисованы на картинке,\n",
        "# хранятся в y_train и y_test.\n",
        "# Откуда берется терминология декартовых координат (оси X и Y) -\n",
        "# отдельная тема.\n",
        "(x_train, y_train), (x_test, y_test) = keras.datasets.mnist.load_data()"
      ],
      "metadata": {
        "id": "GeE-zFBMRKh7"
      },
      "execution_count": null,
      "outputs": []
    },
    {
      "cell_type": "code",
      "source": [
        "# Датасет mnist - это известнейший набор для компьютерного зрения.\n",
        "# Он содержит 70К вручную написанных цифр от 0 до 9.\n",
        "# Mnist стал известен, благодаря французкому ученому Яну Лекуну.\n",
        "# https://en.wikipedia.org/wiki/Yann_LeCun\n",
        "# Он первый сотоварищи предложил архитектуру нейронной сети,\n",
        "# которая распознавала числа из mnist наравне с человеком.\n",
        "# Архитектуру назвали Convolutional neural network\n",
        "# (сверточная нейронная сеть).\n",
        "# Изображения черно-белые, 28х28 пикселей. Можно их посмотреть:\n",
        "import matplotlib.pyplot as plt\n",
        "plt.imshow(x_train[1], cmap=plt.get_cmap('binary'))"
      ],
      "metadata": {
        "colab": {
          "base_uri": "https://localhost:8080/",
          "height": 447
        },
        "id": "TOaRZ-iVQY04",
        "outputId": "35f8f98b-0a70-4303-abf8-8c00ebc7c14c"
      },
      "execution_count": null,
      "outputs": [
        {
          "output_type": "execute_result",
          "data": {
            "text/plain": [
              "<matplotlib.image.AxesImage at 0x7fc49102e920>"
            ]
          },
          "metadata": {},
          "execution_count": 3
        },
        {
          "output_type": "display_data",
          "data": {
            "text/plain": [
              "<Figure size 640x480 with 1 Axes>"
            ],
            "image/png": "[encoded data removed]"
          },
          "metadata": {}
        }
      ]
    },
    {
      "cell_type": "code",
      "source": [
        "# Построим несложный машинный классификатор, который будет определять,\n",
        "# какое число изображено на картинке из датасета.\n",
        "# Импортируем функции для создания слоев сети.\n",
        "from keras.models import Sequential\n",
        "from keras.layers import Dense, Dropout"
      ],
      "metadata": {
        "id": "IeHtwt5YUvl8"
      },
      "execution_count": null,
      "outputs": []
    },
    {
      "cell_type": "code",
      "source": [
        "# Создаем сеть: накладываем пару слоев друг на друга.\n",
        "# Таких сетей в тырнете много. Главное, правильно выставить им параметры,\n",
        "# чтобы именно ваши данные в них можно было засунуть.\n",
        "# Кто догадается, почему именно такие числа выставлены сейчас в параметрах сети,\n",
        "# тот - большой молодец. (Вспомните признаки нашего датасета.)\n",
        "model = Sequential()\n",
        "model.add(Dense(397, input_shape = (784,), activation = \"sigmoid\"))\n",
        "model.add(Dropout(0.3))\n",
        "model.add(Dense(175, activation = \"relu\"))\n",
        "model.add(Dense(10, activation = \"softmax\"))"
      ],
      "metadata": {
        "id": "xjOpJ_GnXrVk"
      },
      "execution_count": null,
      "outputs": []
    },
    {
      "cell_type": "code",
      "source": [
        "# \"Компайлим\" \"модельку\" - передаем все параметры функции, которая добавит\n",
        "# еще несколько параметров, о которых надо говорить отдельно.\n",
        "# В основном они связаны с контролем над процессом обучения\n",
        "# при переходе от слоя к слою.\n",
        "model.compile(optimizer='adam',\n",
        "              loss='categorical_crossentropy',\n",
        "              metrics=['accuracy'])"
      ],
      "metadata": {
        "id": "WqqpfqY-YWyh"
      },
      "execution_count": null,
      "outputs": []
    },
    {
      "cell_type": "code",
      "source": [
        "# Прежде чем пихать датасет в нейронку, его тоже надо немного переделать.\n",
        "# Картинка 28*28 - это список из 28 рядов целых чисел от 0 до 255.\n",
        "# А машинные классификаторы едят в основном вектора вида (0, 3, 2, 0, ...),\n",
        "# то есть одномерные ряды чисел: по одному ряду для каждого экземпляра класса.\n",
        "# Шаманим датасет, чтобы он был списком векторов.\n",
        "# (Вдалеке раздаются звуки шаманского бубна.)\n",
        "trainX = x_train.reshape(-1, 784)\n",
        "testX = x_test.reshape(-1, 784)"
      ],
      "metadata": {
        "id": "RWHSaGRoZT07"
      },
      "execution_count": null,
      "outputs": []
    },
    {
      "cell_type": "code",
      "source": [
        "# Теперь надо подшаманить классы - ответы (какое число нарисовано),\n",
        "# которые содержатся в y_train и y_test. Форма у них сейчас такая:\n",
        "y_train"
      ],
      "metadata": {
        "colab": {
          "base_uri": "https://localhost:8080/"
        },
        "id": "0IIDRceXaRYm",
        "outputId": "6649b432-f130-41c4-c7e4-ec4e16b228c8"
      },
      "execution_count": null,
      "outputs": [
        {
          "output_type": "execute_result",
          "data": {
            "text/plain": [
              "array([5, 0, 4, ..., 5, 6, 8], dtype=uint8)"
            ]
          },
          "metadata": {},
          "execution_count": 9
        }
      ]
    },
    {
      "cell_type": "code",
      "source": [
        "# А надо тоже векторную - так просит keras.\n",
        "# Импортнем для этого еще одну великую библиотеку TensorFlow.\n",
        "import tensorflow\n",
        "from tensorflow.keras.utils import to_categorical\n",
        "num_classes = 10\n",
        "trainY_for_keras = tensorflow.keras.utils.to_categorical(y_train, num_classes)\n",
        "testY_for_keras = tensorflow.keras.utils.to_categorical(y_test, num_classes)"
      ],
      "metadata": {
        "id": "O7tladL2e2Dr"
      },
      "execution_count": null,
      "outputs": []
    },
    {
      "cell_type": "code",
      "source": [
        "# Получилось так: каждый ответ - это вектор, где 1 стоит на позиции,\n",
        "# обозначающей искомое число. Нулевая, значит, 0 и т.д.\n",
        "trainY_for_keras"
      ],
      "metadata": {
        "colab": {
          "base_uri": "https://localhost:8080/"
        },
        "id": "fLaSJLUwe8kc",
        "outputId": "e5375131-cf0a-43fa-f2c8-92cd6b1656dd"
      },
      "execution_count": null,
      "outputs": [
        {
          "output_type": "execute_result",
          "data": {
            "text/plain": [
              "array([[0., 0., 0., ..., 0., 0., 0.],\n",
              "       [1., 0., 0., ..., 0., 0., 0.],\n",
              "       [0., 0., 0., ..., 0., 0., 0.],\n",
              "       ...,\n",
              "       [0., 0., 0., ..., 0., 0., 0.],\n",
              "       [0., 0., 0., ..., 0., 0., 0.],\n",
              "       [0., 0., 0., ..., 0., 1., 0.]], dtype=float32)"
            ]
          },
          "metadata": {},
          "execution_count": 11
        }
      ]
    },
    {
      "cell_type": "code",
      "source": [
        "# Теперь будем \"фитить\" нашу \"модельку\", т.е. скормим ей наши данные,\n",
        "# чтобы она прогнала их через все слои и настроила свои \"веса\" (weights).\n",
        "# Весь цимес моделек именно в весах.\n",
        "# Что они такое на самом деле - это надо отдельно обсуждать.\n",
        "model.fit(trainX,\n",
        "          trainY_for_keras,\n",
        "          batch_size=128,\n",
        "          epochs=5,\n",
        "          validation_split=0.1)"
      ],
      "metadata": {
        "colab": {
          "base_uri": "https://localhost:8080/"
        },
        "id": "aLTmoV64aqNj",
        "outputId": "58357694-6289-4992-aacc-1c6e5c315309"
      },
      "execution_count": null,
      "outputs": [
        {
          "output_type": "stream",
          "name": "stdout",
          "text": [
            "Epoch 1/5\n",
            "422/422 [==============================] - 14s 29ms/step - loss: 0.5326 - accuracy: 0.8313 - val_loss: 0.2431 - val_accuracy: 0.9295\n",
            "Epoch 2/5\n",
            "422/422 [==============================] - 8s 18ms/step - loss: 0.3546 - accuracy: 0.8887 - val_loss: 0.2001 - val_accuracy: 0.9415\n",
            "Epoch 3/5\n",
            "422/422 [==============================] - 6s 14ms/step - loss: 0.3142 - accuracy: 0.9004 - val_loss: 0.1776 - val_accuracy: 0.9452\n",
            "Epoch 4/5\n",
            "422/422 [==============================] - 7s 16ms/step - loss: 0.2935 - accuracy: 0.9086 - val_loss: 0.1678 - val_accuracy: 0.9497\n",
            "Epoch 5/5\n",
            "422/422 [==============================] - 6s 14ms/step - loss: 0.2670 - accuracy: 0.9155 - val_loss: 0.1420 - val_accuracy: 0.9582\n"
          ]
        },
        {
          "output_type": "execute_result",
          "data": {
            "text/plain": [
              "<keras.callbacks.History at 0x7fc4881cf490>"
            ]
          },
          "metadata": {},
          "execution_count": 12
        }
      ]
    },
    {
      "cell_type": "code",
      "source": [
        "# Теперь пусть наша моделька предскажет число для векторов\n",
        "# из тренировочного набора. Таким образом мы сможем проверить,\n",
        "# насколько хорошо она обучилась.\n",
        "predicted = model.predict(testX)"
      ],
      "metadata": {
        "colab": {
          "base_uri": "https://localhost:8080/"
        },
        "id": "N-6teMKCa6fz",
        "outputId": "d5a2256a-c859-4bed-9f2a-2160c1709f92"
      },
      "execution_count": null,
      "outputs": [
        {
          "output_type": "stream",
          "name": "stdout",
          "text": [
            "313/313 [==============================] - 2s 5ms/step\n"
          ]
        }
      ]
    },
    {
      "cell_type": "code",
      "source": [
        "# Посмотрим, что она напредсказывала. О бозецьки, што ето за страшные числа??\n",
        "# Это вероятности принадлежности каждого вектора одному из 10 классов.\n",
        "predicted"
      ],
      "metadata": {
        "colab": {
          "base_uri": "https://localhost:8080/"
        },
        "id": "fDVSPZzFauNj",
        "outputId": "141c7faf-da23-4fcf-f32c-2a1f074495fe"
      },
      "execution_count": null,
      "outputs": [
        {
          "output_type": "execute_result",
          "data": {
            "text/plain": [
              "array([[1.3198236e-06, 9.8183818e-07, 1.2995090e-04, ..., 9.9975395e-01,\n",
              "        3.8356964e-07, 2.3166001e-05],\n",
              "       [8.3439802e-05, 2.1895049e-03, 9.9073046e-01, ..., 4.1557169e-06,\n",
              "        5.4364587e-04, 4.9810780e-07],\n",
              "       [1.7519605e-08, 9.9948508e-01, 5.5890096e-06, ..., 4.9967697e-04,\n",
              "        1.6121910e-06, 1.0958137e-06],\n",
              "       ...,\n",
              "       [2.4085732e-06, 1.6534174e-06, 2.2028669e-05, ..., 1.1996836e-03,\n",
              "        1.4641016e-03, 2.8002720e-02],\n",
              "       [7.3815708e-04, 3.2731806e-04, 1.8436265e-07, ..., 1.5612924e-05,\n",
              "        9.5194420e-03, 1.7575021e-05],\n",
              "       [7.2075764e-04, 1.4200649e-05, 1.6580288e-03, ..., 5.8416202e-07,\n",
              "        8.6146290e-05, 3.6706861e-06]], dtype=float32)"
            ]
          },
          "metadata": {},
          "execution_count": 18
        }
      ]
    },
    {
      "cell_type": "code",
      "source": [
        "# Переведем их в удобоваримую форму: используем функцию argmax -\n",
        "# нахождение максимального значения в ряде чисел.\n",
        "# Эта функция возвращает позицию в ряде, на которой оно находится.\n",
        "import numpy as np\n",
        "predicted_max=np.argmax(predicted, axis=1)"
      ],
      "metadata": {
        "id": "PW7V-f61awWm"
      },
      "execution_count": null,
      "outputs": []
    },
    {
      "cell_type": "code",
      "source": [
        "# Вот такая красота у нас получилась:\n",
        "predicted_max"
      ],
      "metadata": {
        "colab": {
          "base_uri": "https://localhost:8080/"
        },
        "id": "Q1MclEtPbqaN",
        "outputId": "c68b4750-f528-4c64-d4ae-778ec21bb885"
      },
      "execution_count": null,
      "outputs": [
        {
          "output_type": "execute_result",
          "data": {
            "text/plain": [
              "array([7, 2, 1, ..., 4, 5, 6])"
            ]
          },
          "metadata": {},
          "execution_count": 24
        }
      ]
    },
    {
      "cell_type": "code",
      "source": [
        "# Теперь нам надо сравнить предсказанные моделью числа с правильными ответами.\n",
        "# На первый взгляд моделька обучилась хорошо.\n",
        "y_test"
      ],
      "metadata": {
        "colab": {
          "base_uri": "https://localhost:8080/"
        },
        "id": "KM2j2cO4ckX1",
        "outputId": "7ba2703d-a4c8-4250-da46-4299254ffce7"
      },
      "execution_count": null,
      "outputs": [
        {
          "output_type": "execute_result",
          "data": {
            "text/plain": [
              "array([7, 2, 1, ..., 4, 5, 6], dtype=uint8)"
            ]
          },
          "metadata": {},
          "execution_count": 26
        }
      ]
    },
    {
      "cell_type": "code",
      "source": [
        "# Но есть общепризнанные метрики, которые позволят сделать\n",
        "# более точное сравнение. Используем еще одну великую библиотеку\n",
        "# ScikitLearn:\n",
        "from sklearn import metrics"
      ],
      "metadata": {
        "id": "OIDAPXOkbuxx"
      },
      "execution_count": null,
      "outputs": []
    },
    {
      "cell_type": "code",
      "source": [
        "# Про f1_score нужно говорить отдельно, но чем он ближе к 1, тем лучше.\n",
        "# А вот дальше \"матрица конфузии\" (матрица ошибок, confusion matrix)\n",
        "# в принципе интуитивно понятно все объясняет.\n",
        "print(metrics.f1_score(y_test, predicted_max, average='weighted'))\n",
        "print(metrics.classification_report(y_test, predicted_max))\n",
        "print(metrics.confusion_matrix(y_test, predicted_max))\n",
        "# А есть модельки, у которых 100% успешность. Ну что, у кожаных нет и шанса? ;)"
      ],
      "metadata": {
        "colab": {
          "base_uri": "https://localhost:8080/"
        },
        "id": "rQMfQNMQby6b",
        "outputId": "ac64a1aa-aec5-4337-c707-a29db706fb7b"
      },
      "execution_count": null,
      "outputs": [
        {
          "output_type": "stream",
          "name": "stdout",
          "text": [
            "0.9488122215522435\n",
            "              precision    recall  f1-score   support\n",
            "\n",
            "           0       0.94      0.99      0.97       980\n",
            "           1       0.97      0.99      0.98      1135\n",
            "           2       0.95      0.94      0.95      1032\n",
            "           3       0.93      0.94      0.93      1010\n",
            "           4       0.96      0.94      0.95       982\n",
            "           5       0.95      0.91      0.93       892\n",
            "           6       0.96      0.95      0.96       958\n",
            "           7       0.95      0.95      0.95      1028\n",
            "           8       0.93      0.94      0.94       974\n",
            "           9       0.94      0.93      0.93      1009\n",
            "\n",
            "    accuracy                           0.95     10000\n",
            "   macro avg       0.95      0.95      0.95     10000\n",
            "weighted avg       0.95      0.95      0.95     10000\n",
            "\n",
            "[[ 969    0    0    1    0    3    5    1    1    0]\n",
            " [   0 1125    3    1    0    2    2    0    2    0]\n",
            " [  10    1  973   11    3    1    3   11   19    0]\n",
            " [   2    2   13  953    0   14    0   13   12    1]\n",
            " [   2    1    6    0  921    1   10    4    4   33]\n",
            " [  10    1    3   31    3  814    7    5   13    5]\n",
            " [  18    3    4    2    5   11  908    0    7    0]\n",
            " [   1   11   15    4    1    1    0  975    2   18]\n",
            " [   6    3    5   14    4    7    7    8  917    3]\n",
            " [  10    7    2   13   19    4    0   13    7  934]]\n"
          ]
        }
      ]
    }
  ]
}