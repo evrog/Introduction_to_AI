{
  "nbformat": 4,
  "nbformat_minor": 0,
  "metadata": {
    "colab": {
      "provenance": []
    },
    "kernelspec": {
      "name": "python3",
      "display_name": "Python 3"
    },
    "language_info": {
      "name": "python"
    }
  },
  "cells": [
    {
      "cell_type": "markdown",
      "source": [
        "В этом ноутбуке мы используем библиотеку Tesseract для распознавания текста в файле PDF и на фото. Эта задача называется OCR, optical character recognition - Оптическое распознавание символов."
      ],
      "metadata": {
        "id": "GFOiu7Cfy50c"
      }
    },
    {
      "cell_type": "code",
      "execution_count": 1,
      "metadata": {
        "colab": {
          "base_uri": "https://localhost:8080/"
        },
        "id": "CsdInImFpqkU",
        "outputId": "c79ca699-ff7a-4d37-88b9-6b2aa3f8d0a9"
      },
      "outputs": [
        {
          "output_type": "stream",
          "name": "stdout",
          "text": [
            "Reading package lists... Done\n",
            "Building dependency tree... Done\n",
            "Reading state information... Done\n",
            "The following NEW packages will be installed:\n",
            "  poppler-utils\n",
            "0 upgraded, 1 newly installed, 0 to remove and 49 not upgraded.\n",
            "Need to get 186 kB of archives.\n",
            "After this operation, 696 kB of additional disk space will be used.\n",
            "Get:1 http://archive.ubuntu.com/ubuntu jammy-updates/main amd64 poppler-utils amd64 22.02.0-2ubuntu0.6 [186 kB]\n",
            "Fetched 186 kB in 0s (1,048 kB/s)\n",
            "Selecting previously unselected package poppler-utils.\n",
            "(Reading database ... 124574 files and directories currently installed.)\n",
            "Preparing to unpack .../poppler-utils_22.02.0-2ubuntu0.6_amd64.deb ...\n",
            "Unpacking poppler-utils (22.02.0-2ubuntu0.6) ...\n",
            "Setting up poppler-utils (22.02.0-2ubuntu0.6) ...\n",
            "Processing triggers for man-db (2.10.2-1) ...\n",
            "Reading package lists... Done\n",
            "Building dependency tree... Done\n",
            "Reading state information... Done\n",
            "The following additional packages will be installed:\n",
            "  tesseract-ocr-eng tesseract-ocr-osd\n",
            "The following NEW packages will be installed:\n",
            "  tesseract-ocr tesseract-ocr-eng tesseract-ocr-osd\n",
            "0 upgraded, 3 newly installed, 0 to remove and 49 not upgraded.\n",
            "Need to get 4,816 kB of archives.\n",
            "After this operation, 15.6 MB of additional disk space will be used.\n",
            "Get:1 http://archive.ubuntu.com/ubuntu jammy/universe amd64 tesseract-ocr-eng all 1:4.00~git30-7274cfa-1.1 [1,591 kB]\n",
            "Get:2 http://archive.ubuntu.com/ubuntu jammy/universe amd64 tesseract-ocr-osd all 1:4.00~git30-7274cfa-1.1 [2,990 kB]\n",
            "Get:3 http://archive.ubuntu.com/ubuntu jammy/universe amd64 tesseract-ocr amd64 4.1.1-2.1build1 [236 kB]\n",
            "Fetched 4,816 kB in 0s (13.9 MB/s)\n",
            "Selecting previously unselected package tesseract-ocr-eng.\n",
            "(Reading database ... 124604 files and directories currently installed.)\n",
            "Preparing to unpack .../tesseract-ocr-eng_1%3a4.00~git30-7274cfa-1.1_all.deb ...\n",
            "Unpacking tesseract-ocr-eng (1:4.00~git30-7274cfa-1.1) ...\n",
            "Selecting previously unselected package tesseract-ocr-osd.\n",
            "Preparing to unpack .../tesseract-ocr-osd_1%3a4.00~git30-7274cfa-1.1_all.deb ...\n",
            "Unpacking tesseract-ocr-osd (1:4.00~git30-7274cfa-1.1) ...\n",
            "Selecting previously unselected package tesseract-ocr.\n",
            "Preparing to unpack .../tesseract-ocr_4.1.1-2.1build1_amd64.deb ...\n",
            "Unpacking tesseract-ocr (4.1.1-2.1build1) ...\n",
            "Setting up tesseract-ocr-eng (1:4.00~git30-7274cfa-1.1) ...\n",
            "Setting up tesseract-ocr-osd (1:4.00~git30-7274cfa-1.1) ...\n",
            "Setting up tesseract-ocr (4.1.1-2.1build1) ...\n",
            "Processing triggers for man-db (2.10.2-1) ...\n",
            "Reading package lists... Done\n",
            "Building dependency tree... Done\n",
            "Reading state information... Done\n",
            "The following additional packages will be installed:\n",
            "  libarchive-dev libleptonica-dev\n",
            "The following NEW packages will be installed:\n",
            "  libarchive-dev libleptonica-dev libtesseract-dev\n",
            "0 upgraded, 3 newly installed, 0 to remove and 49 not upgraded.\n",
            "Need to get 3,743 kB of archives.\n",
            "After this operation, 16.0 MB of additional disk space will be used.\n",
            "Get:1 http://archive.ubuntu.com/ubuntu jammy-updates/main amd64 libarchive-dev amd64 3.6.0-1ubuntu1.3 [581 kB]\n",
            "Get:2 http://archive.ubuntu.com/ubuntu jammy/universe amd64 libleptonica-dev amd64 1.82.0-3build1 [1,562 kB]\n",
            "Get:3 http://archive.ubuntu.com/ubuntu jammy/universe amd64 libtesseract-dev amd64 4.1.1-2.1build1 [1,600 kB]\n",
            "Fetched 3,743 kB in 0s (12.8 MB/s)\n",
            "Selecting previously unselected package libarchive-dev:amd64.\n",
            "(Reading database ... 124651 files and directories currently installed.)\n",
            "Preparing to unpack .../libarchive-dev_3.6.0-1ubuntu1.3_amd64.deb ...\n",
            "Unpacking libarchive-dev:amd64 (3.6.0-1ubuntu1.3) ...\n",
            "Selecting previously unselected package libleptonica-dev.\n",
            "Preparing to unpack .../libleptonica-dev_1.82.0-3build1_amd64.deb ...\n",
            "Unpacking libleptonica-dev (1.82.0-3build1) ...\n",
            "Selecting previously unselected package libtesseract-dev:amd64.\n",
            "Preparing to unpack .../libtesseract-dev_4.1.1-2.1build1_amd64.deb ...\n",
            "Unpacking libtesseract-dev:amd64 (4.1.1-2.1build1) ...\n",
            "Setting up libleptonica-dev (1.82.0-3build1) ...\n",
            "Setting up libarchive-dev:amd64 (3.6.0-1ubuntu1.3) ...\n",
            "Setting up libtesseract-dev:amd64 (4.1.1-2.1build1) ...\n",
            "Processing triggers for man-db (2.10.2-1) ...\n"
          ]
        }
      ],
      "source": [
        "# Сначала надо поставить программы, от которых зависит библиотека pytesseract\n",
        "# на Python. Эти программы ставятся операционной системой не только для работы\n",
        "# в Python, поэтому используются команды apt-get и apt.\n",
        "!apt-get install poppler-utils\n",
        "!apt install tesseract-ocr\n",
        "!apt install libtesseract-dev"
      ]
    },
    {
      "cell_type": "code",
      "source": [
        "# Теперь доставим саму библиотеку и несколько библиотек, от которых она зависит,\n",
        "# используя команду pip.\n",
        "!pip install pytesseract python-docx PyMuPDF"
      ],
      "metadata": {
        "colab": {
          "base_uri": "https://localhost:8080/"
        },
        "id": "Ni92O9ZXqKNE",
        "outputId": "040c09fb-e7d1-4438-8dae-e3e829a35cfb"
      },
      "execution_count": 2,
      "outputs": [
        {
          "output_type": "stream",
          "name": "stdout",
          "text": [
            "Collecting pytesseract\n",
            "  Downloading pytesseract-0.3.13-py3-none-any.whl.metadata (11 kB)\n",
            "Collecting python-docx\n",
            "  Downloading python_docx-1.1.2-py3-none-any.whl.metadata (2.0 kB)\n",
            "Collecting PyMuPDF\n",
            "  Downloading pymupdf-1.25.2-cp39-abi3-manylinux2014_x86_64.manylinux_2_17_x86_64.whl.metadata (3.4 kB)\n",
            "Requirement already satisfied: packaging>=21.3 in /usr/local/lib/python3.11/dist-packages (from pytesseract) (24.2)\n",
            "Requirement already satisfied: Pillow>=8.0.0 in /usr/local/lib/python3.11/dist-packages (from pytesseract) (11.1.0)\n",
            "Requirement already satisfied: lxml>=3.1.0 in /usr/local/lib/python3.11/dist-packages (from python-docx) (5.3.0)\n",
            "Requirement already satisfied: typing-extensions>=4.9.0 in /usr/local/lib/python3.11/dist-packages (from python-docx) (4.12.2)\n",
            "Downloading pytesseract-0.3.13-py3-none-any.whl (14 kB)\n",
            "Downloading python_docx-1.1.2-py3-none-any.whl (244 kB)\n",
            "\u001b[2K   \u001b[90m━━━━━━━━━━━━━━━━━━━━━━━━━━━━━━━━━━━━━━━━\u001b[0m \u001b[32m244.3/244.3 kB\u001b[0m \u001b[31m5.4 MB/s\u001b[0m eta \u001b[36m0:00:00\u001b[0m\n",
            "\u001b[?25hDownloading pymupdf-1.25.2-cp39-abi3-manylinux2014_x86_64.manylinux_2_17_x86_64.whl (20.0 MB)\n",
            "\u001b[2K   \u001b[90m━━━━━━━━━━━━━━━━━━━━━━━━━━━━━━━━━━━━━━━━\u001b[0m \u001b[32m20.0/20.0 MB\u001b[0m \u001b[31m74.4 MB/s\u001b[0m eta \u001b[36m0:00:00\u001b[0m\n",
            "\u001b[?25hInstalling collected packages: python-docx, pytesseract, PyMuPDF\n",
            "Successfully installed PyMuPDF-1.25.2 pytesseract-0.3.13 python-docx-1.1.2\n"
          ]
        }
      ]
    },
    {
      "cell_type": "markdown",
      "source": [
        "Для начала мы подгрузили все необходимые библиотеки и программы, конечно, если вы будете пользоваться чем-то кроме коллаба, вам придется устанавливать программы вручную"
      ],
      "metadata": {
        "id": "TMCQL5sLqdjp"
      }
    },
    {
      "cell_type": "code",
      "source": [
        "# Импортируем все необходимые библиотеки.\n",
        "import fitz  # Это PyMuPDF, который мы ставили выше.\n",
        "from PIL import Image\n",
        "import pytesseract\n",
        "from docx import Document\n",
        "import io"
      ],
      "metadata": {
        "id": "4t32hb9OqWC-"
      },
      "execution_count": 3,
      "outputs": []
    },
    {
      "cell_type": "code",
      "source": [
        "# Это программа для подгрузки моделей OCR для русского языка.\n",
        "!apt-get install tesseract-ocr-rus\n"
      ],
      "metadata": {
        "colab": {
          "base_uri": "https://localhost:8080/"
        },
        "id": "dDhuC-DivWeD",
        "outputId": "9cd09435-68f1-431a-c31b-efb3e8d46460"
      },
      "execution_count": 4,
      "outputs": [
        {
          "output_type": "stream",
          "name": "stdout",
          "text": [
            "Reading package lists... Done\n",
            "Building dependency tree... Done\n",
            "Reading state information... Done\n",
            "The following NEW packages will be installed:\n",
            "  tesseract-ocr-rus\n",
            "0 upgraded, 1 newly installed, 0 to remove and 49 not upgraded.\n",
            "Need to get 1,271 kB of archives.\n",
            "After this operation, 3,877 kB of additional disk space will be used.\n",
            "Get:1 http://archive.ubuntu.com/ubuntu jammy/universe amd64 tesseract-ocr-rus all 1:4.00~git30-7274cfa-1.1 [1,271 kB]\n",
            "Fetched 1,271 kB in 0s (4,586 kB/s)\n",
            "Selecting previously unselected package tesseract-ocr-rus.\n",
            "(Reading database ... 124784 files and directories currently installed.)\n",
            "Preparing to unpack .../tesseract-ocr-rus_1%3a4.00~git30-7274cfa-1.1_all.deb ...\n",
            "Unpacking tesseract-ocr-rus (1:4.00~git30-7274cfa-1.1) ...\n",
            "Setting up tesseract-ocr-rus (1:4.00~git30-7274cfa-1.1) ...\n"
          ]
        }
      ]
    },
    {
      "cell_type": "code",
      "source": [
        "# Позже эти функции сослужат нам добрую службу.\n",
        "# Но пока их можно просто бездумно встаить в код.\n",
        "\n",
        "def filterInvalidXMLChars(string):\n",
        "    \"\"\"Фильтрует недопустимые символы XML из строки.\"\"\"\n",
        "\n",
        "    def isValidXMLChar(char):\n",
        "        \"\"\"Проверяет, является ли символ допустимым в XML.\"\"\"\n",
        "        c = ord(char)\n",
        "        return (\n",
        "            0x20 <= c <= 0xD7FF or\n",
        "            0xE000 <= c <= 0xFFFD or\n",
        "            0x10000 <= c <= 0x10FFFF or\n",
        "            c in (0x9, 0xA, 0xD)\n",
        "        )\n",
        "\n",
        "    return ''.join(filter(isValidXMLChar, string))"
      ],
      "metadata": {
        "id": "w_ko1UjCyyuF"
      },
      "execution_count": 5,
      "outputs": []
    },
    {
      "cell_type": "code",
      "source": [
        "# Как пример возьмем вот этот документ. Скачаем его командой wget и сохраним\n",
        "# под именем sample.pdf.\n",
        "!wget 'https://docs.google.com/uc?export=download&id=12sRmlDOly8X6CUR_V4Xfjrh052VlM6Jo' -O 'sample.pdf'"
      ],
      "metadata": {
        "colab": {
          "base_uri": "https://localhost:8080/"
        },
        "id": "bxYuxcN4Njr8",
        "outputId": "b0a5695b-accb-4f9c-bf13-d2ec8c591a5e"
      },
      "execution_count": 6,
      "outputs": [
        {
          "output_type": "stream",
          "name": "stdout",
          "text": [
            "--2025-01-26 18:06:18--  https://docs.google.com/uc?export=download&id=12sRmlDOly8X6CUR_V4Xfjrh052VlM6Jo\n",
            "Resolving docs.google.com (docs.google.com)... 108.177.12.139, 108.177.12.113, 108.177.12.100, ...\n",
            "Connecting to docs.google.com (docs.google.com)|108.177.12.139|:443... connected.\n",
            "HTTP request sent, awaiting response... 303 See Other\n",
            "Location: https://drive.usercontent.google.com/download?id=12sRmlDOly8X6CUR_V4Xfjrh052VlM6Jo&export=download [following]\n",
            "--2025-01-26 18:06:18--  https://drive.usercontent.google.com/download?id=12sRmlDOly8X6CUR_V4Xfjrh052VlM6Jo&export=download\n",
            "Resolving drive.usercontent.google.com (drive.usercontent.google.com)... 172.217.203.132, 2607:f8b0:400c:c07::84\n",
            "Connecting to drive.usercontent.google.com (drive.usercontent.google.com)|172.217.203.132|:443... connected.\n",
            "HTTP request sent, awaiting response... 200 OK\n",
            "Length: 181046 (177K) [application/octet-stream]\n",
            "Saving to: ‘sample.pdf’\n",
            "\n",
            "sample.pdf          100%[===================>] 176.80K  --.-KB/s    in 0.005s  \n",
            "\n",
            "2025-01-26 18:06:20 (32.6 MB/s) - ‘sample.pdf’ saved [181046/181046]\n",
            "\n"
          ]
        }
      ]
    },
    {
      "cell_type": "code",
      "source": [
        "# Инициализация документа\n",
        "doc = Document()\n",
        "\n",
        "# Открываем PDF\n",
        "pdf_document = \"sample.pdf\"\n",
        "doc_pdf = fitz.open(pdf_document)\n",
        "\n",
        "for page_number in range(doc_pdf.page_count):\n",
        "    page = doc_pdf.load_page(page_number)\n",
        "    pix = page.get_pixmap()\n",
        "\n",
        "    # Конвертируем страницу в изображение\n",
        "    img = Image.open(io.BytesIO(pix.tobytes(\"png\")))\n",
        "\n",
        "\n",
        "    # Укажите нужный язык \"lang=''\", например 'rus' для русского.\n",
        "    # Нам нужно подгрузить модель для распознования. Для этого нужно узнать\n",
        "    # код языка (https://tesseract-ocr.github.io/tessdoc/Data-Files-in-different-versions.html)\n",
        "    # Выше мы уже скачали нужную модель при помощи команды\n",
        "    # !apt-get install tesseract-ocr-(код языка, например tesseract-ocr-rus).\n",
        "\n",
        "    # Теперь вызываем Тессеракт.\n",
        "    # Через '+' можно добавить распознование конкретных языков, если знаете,\n",
        "    # какие языки в тексте.\n",
        "    text = pytesseract.image_to_string(img, lang='eng+rus')\n",
        "\n",
        "    # Добавляем текст на новую страницу в файле DOCX.\n",
        "    # add_paragraph может начать ругаться на получившийся результа и выдать ошибку:\n",
        "    # \"All strings must be XML compatible: Unicode or ASCII, no NULL bytes or control characters\"\n",
        "    # Так происходит из-за того, что OCR не смог корректно распознать символы.\n",
        "    # Поэтому мы добавили ту самую функцию filterInvalidXMLChars, которую инициализировали выше.\n",
        "    doc.add_paragraph(filterInvalidXMLChars(text))\n",
        "\n",
        "# Сохраняем полученный документ. Его можно найти на панели слева - в файлах.\n",
        "doc.save(\"output.docx\")"
      ],
      "metadata": {
        "id": "N3g7KxRMrKvg"
      },
      "execution_count": 7,
      "outputs": []
    },
    {
      "cell_type": "code",
      "source": [
        "# А теперь посмотрим, что за текст мы получили. Не идеально, но кто же идеален?\n",
        "text"
      ],
      "metadata": {
        "id": "CJGvV49rT7OM",
        "colab": {
          "base_uri": "https://localhost:8080/",
          "height": 123
        },
        "outputId": "8bd3ac30-f9ae-4b53-a0c3-53c5b70ecad7"
      },
      "execution_count": 8,
      "outputs": [
        {
          "output_type": "execute_result",
          "data": {
            "text/plain": [
              "\"O that you were yourself, ut love you are\\nNo longer yours, than you your self here lve,\\n‘gains this coming end you should prepare,\\n‘and your sweet semblance to some ather give.\\nSo should that beauty which you hold in lease\\nFind no determination, then you were\\n\\nYour self again after your sels decease,\\n\\n\\\\When your sweet issue your sweet form should\\nbear.\\n\\nWho lets so fair @ house fall to decay,\\n\\n\\\\Which husbandry in honour might uphold,\\nAgainst the stormy gusts of winters day\\n\\n‘and barren rage of death's eternal cold?\\n\\nCO none but unthrits, dear my love you know,\\nYou had a father, lt your son says.\\n\\nНе изменяйся, будь самим собой.\\nТы можешь быть собой, пока жива\\nKorga me смерть разрушит образтвой\\nПусть будет итото на тебя похом.\\n\\n \\n\\nТебе природой красота дана\\nНа очень кратний сроки потому\\nПускай поправу перейдет она\\nнаследнику прямому твоему,\\n\\nзаботливых руках прекрасный дом.\\nHe aporuer перед натиском зимы,\\n\\nИ никогда не воцарится в нем\\n`Дыханье смерти, холода итьмы.\\n\\nО, пить, ногда настанет твой нонец,\\nЗвучат слова: -Былу меня отец\\n\\x0c\""
            ],
            "application/vnd.google.colaboratory.intrinsic+json": {
              "type": "string"
            }
          },
          "metadata": {},
          "execution_count": 8
        }
      ]
    }
  ]
}