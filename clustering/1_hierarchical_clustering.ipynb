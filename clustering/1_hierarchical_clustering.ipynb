{
  "nbformat": 4,
  "nbformat_minor": 0,
  "metadata": {
    "colab": {
      "provenance": []
    },
    "kernelspec": {
      "name": "python3",
      "display_name": "Python 3"
    },
    "language_info": {
      "name": "python"
    }
  },
  "cells": [
    {
      "cell_type": "markdown",
      "source": [
        "На примере векторов текстов мы демонстрируем работу алгоритма иерархической кластеризации."
      ],
      "metadata": {
        "id": "UVNCkzxH1Kvc"
      }
    },
    {
      "cell_type": "code",
      "execution_count": null,
      "metadata": {
        "id": "1xVJIZTsIMb5"
      },
      "outputs": [],
      "source": [
        "# Возьмем код из ноутбука по векторизации и превратим наши твиты в вектора.\n",
        "# Напоминю, что первые четыре твита  типо юморные, а вторые - нет.\n",
        "tweets = ['буратино утонул',\n",
        "          'водяной утонул',\n",
        "          'русалка села на шпагат',\n",
        "          'змея села на шпагат',\n",
        "          'у любви у нашей села батарейка',\n",
        "          'лодка села на мель',\n",
        "          'русалка и водяной в гостях у сказки',\n",
        "          'змея в траве фото']\n",
        "\n",
        "vocabulary = []\n",
        "for tweet in tweets:\n",
        "    tweet_split = tweet.split()\n",
        "    for token in tweet_split:\n",
        "        if token not in vocabulary:\n",
        "            vocabulary.append(token)\n",
        "\n",
        "tweet_vectors = []\n",
        "for ft in tweets:\n",
        "    tweet_vec = []\n",
        "    ft_split = ft.split()\n",
        "    for v in vocabulary:\n",
        "        tweet_vec.append(ft_split.count(v))\n",
        "    tweet_vectors.append(tweet_vec)"
      ]
    },
    {
      "cell_type": "code",
      "source": [
        "# Посмотрим на полученные вектора - их можно представить как точки\n",
        "# в многомерном пространстве. Значит, между ними можно померить расстояние.\n",
        "tweet_vectors"
      ],
      "metadata": {
        "colab": {
          "base_uri": "https://localhost:8080/"
        },
        "id": "zN28XNIhMXaN",
        "outputId": "b6a18fff-81d6-44f8-fef4-f497e91f7608"
      },
      "execution_count": null,
      "outputs": [
        {
          "output_type": "execute_result",
          "data": {
            "text/plain": [
              "[[1, 1, 0, 0, 0, 0, 0, 0, 0, 0, 0, 0, 0, 0, 0, 0, 0, 0, 0, 0],\n",
              " [0, 1, 1, 0, 0, 0, 0, 0, 0, 0, 0, 0, 0, 0, 0, 0, 0, 0, 0, 0],\n",
              " [0, 0, 0, 1, 1, 1, 1, 0, 0, 0, 0, 0, 0, 0, 0, 0, 0, 0, 0, 0],\n",
              " [0, 0, 0, 0, 1, 1, 1, 1, 0, 0, 0, 0, 0, 0, 0, 0, 0, 0, 0, 0],\n",
              " [0, 0, 0, 0, 1, 0, 0, 0, 2, 1, 1, 1, 0, 0, 0, 0, 0, 0, 0, 0],\n",
              " [0, 0, 0, 0, 1, 1, 0, 0, 0, 0, 0, 0, 1, 1, 0, 0, 0, 0, 0, 0],\n",
              " [0, 0, 1, 1, 0, 0, 0, 0, 1, 0, 0, 0, 0, 0, 1, 1, 1, 1, 0, 0],\n",
              " [0, 0, 0, 0, 0, 0, 0, 1, 0, 0, 0, 0, 0, 0, 0, 1, 0, 0, 1, 1]]"
            ]
          },
          "metadata": {},
          "execution_count": 2
        }
      ]
    },
    {
      "cell_type": "code",
      "source": [
        "# Будем мерить евклидово расстояние. Это то же самое, что расстояние от\n",
        "# ну, например, своего стула до экрана компьютера, только в системе координат.\n",
        "# Оно вычисляется по теореме Пифагора. Есть две точки - отложим\n",
        "# перпендикуляры к осям, которые образуют наше n-мерное пространство,\n",
        "# по каждой оси вычислим расстояние между точками, суммируем\n",
        "# результат и возьмем из него квадратный корень.\n",
        "def euclidian(a, b):\n",
        "    n_dims = len(a)\n",
        "    sum_of_squares = 0\n",
        "    for dim in range(n_dims):\n",
        "        sum_of_squares += (a[dim] - b[dim]) ** 2\n",
        "    return sum_of_squares ** 0.5\n",
        "\n",
        "print(euclidian(tweet_vectors[0], tweet_vectors[7]))"
      ],
      "metadata": {
        "colab": {
          "base_uri": "https://localhost:8080/"
        },
        "id": "f9fzkUMgO8yt",
        "outputId": "2f50c4fd-963f-4e4d-f60c-ba1eb28e881b"
      },
      "execution_count": null,
      "outputs": [
        {
          "output_type": "stream",
          "name": "stdout",
          "text": [
            "2.449489742783178\n"
          ]
        }
      ]
    },
    {
      "cell_type": "code",
      "source": [
        "# Будем кластеризовать наши твиты так: сначала попарно объединим их в группы\n",
        "# по принципу наибольшей близости. Если у нас будет три и более твитов,\n",
        "# которые одинаково близко расположены, тогда все равно тоже записываем\n",
        "# их в один кластер. Создадим копию векторов, чтобы исключать из него\n",
        "# кластеры, которые мы уже установили.\n",
        "dict_of_vectors = {}\n",
        "for key in range(len(tweet_vectors)):\n",
        "    dict_of_vectors[key] = tweet_vectors[key]"
      ],
      "metadata": {
        "id": "rzEoinIMSj5m"
      },
      "execution_count": null,
      "outputs": []
    },
    {
      "cell_type": "code",
      "source": [
        "# Создадим список всех возможных пар и измерим расстояние между ними.\n",
        "# Результат запишем в словарь.\n",
        "dict_of_pairs = {}\n",
        "all_pos = list(range(len(tweet_vectors)))\n",
        "for ap in all_pos[:-1]:\n",
        "    for next_p in all_pos[ap+1:]:\n",
        "        dict_of_pairs[(ap, next_p)] = euclidian(tweet_vectors[ap],\n",
        "                                                tweet_vectors[next_p])"
      ],
      "metadata": {
        "id": "fWQc6CLmJHrS"
      },
      "execution_count": null,
      "outputs": []
    },
    {
      "cell_type": "code",
      "source": [
        "dict_of_pairs"
      ],
      "metadata": {
        "colab": {
          "base_uri": "https://localhost:8080/"
        },
        "id": "TLDNXFzH-4sW",
        "outputId": "772febd8-e4c1-4f57-9b94-1057cb8bf6a7"
      },
      "execution_count": null,
      "outputs": [
        {
          "output_type": "execute_result",
          "data": {
            "text/plain": [
              "{(0, 1): 1.4142135623730951,\n",
              " (0, 2): 2.449489742783178,\n",
              " (0, 3): 2.449489742783178,\n",
              " (0, 4): 3.1622776601683795,\n",
              " (0, 5): 2.449489742783178,\n",
              " (0, 6): 3.0,\n",
              " (0, 7): 2.449489742783178,\n",
              " (1, 2): 2.449489742783178,\n",
              " (1, 3): 2.449489742783178,\n",
              " (1, 4): 3.1622776601683795,\n",
              " (1, 5): 2.449489742783178,\n",
              " (1, 6): 2.6457513110645907,\n",
              " (1, 7): 2.449489742783178,\n",
              " (2, 3): 1.4142135623730951,\n",
              " (2, 4): 3.1622776601683795,\n",
              " (2, 5): 2.0,\n",
              " (2, 6): 3.0,\n",
              " (2, 7): 2.8284271247461903,\n",
              " (3, 4): 3.1622776601683795,\n",
              " (3, 5): 2.0,\n",
              " (3, 6): 3.3166247903554,\n",
              " (3, 7): 2.449489742783178,\n",
              " (4, 5): 3.1622776601683795,\n",
              " (4, 6): 3.3166247903554,\n",
              " (4, 7): 3.4641016151377544,\n",
              " (5, 6): 3.3166247903554,\n",
              " (5, 7): 2.8284271247461903,\n",
              " (6, 7): 3.0}"
            ]
          },
          "metadata": {},
          "execution_count": 6
        }
      ]
    },
    {
      "cell_type": "code",
      "source": [
        "# Найдем в нашем словаре пары с наименьшим евклидовым расстоянием.\n",
        "minimum_val = min(dict_of_pairs.values())\n",
        "print(minimum_val)"
      ],
      "metadata": {
        "colab": {
          "base_uri": "https://localhost:8080/"
        },
        "id": "gHMDYs5RNqoz",
        "outputId": "16c1ea80-c995-42fd-9211-c9c32ca9fb1f"
      },
      "execution_count": null,
      "outputs": [
        {
          "output_type": "stream",
          "name": "stdout",
          "text": [
            "1.4142135623730951\n"
          ]
        }
      ]
    },
    {
      "cell_type": "code",
      "source": [
        "# Посмотрим, какие пары образовались у нас на самом нижнем уровне.\n",
        "first_pairs = []\n",
        "for k, v in dict_of_pairs.items():\n",
        "    if v == minimum_val:\n",
        "        print(k)\n",
        "        first_pairs.append(k)"
      ],
      "metadata": {
        "colab": {
          "base_uri": "https://localhost:8080/"
        },
        "id": "MwH3pYAqOnuk",
        "outputId": "8072903c-bf5b-4212-d525-44891678e701"
      },
      "execution_count": null,
      "outputs": [
        {
          "output_type": "stream",
          "name": "stdout",
          "text": [
            "(0, 1)\n",
            "(2, 3)\n"
          ]
        }
      ]
    },
    {
      "cell_type": "code",
      "source": [
        "# Изобразим их в виде первого уровня нашей дендрограммы.\n",
        "# Ширина блоков: от 0 до 1 у первого и от 2 до 3 у второго.\n",
        "# Высота блоков: минимальное расстояние между векторами.\n",
        "import matplotlib.pyplot as plt\n",
        "from matplotlib.patches import Rectangle\n",
        "\n",
        "fig, ax = plt.subplots()\n",
        "ax.set_xlim(0, 3.5)\n",
        "ax.set_ylim(0, 2)\n",
        "ax.add_patch(Rectangle((0, 0), 1, minimum_val,\n",
        "                       edgecolor='black', facecolor='white'))\n",
        "ax.add_patch(Rectangle((2, 0), 1, minimum_val,\n",
        "                       edgecolor='black', facecolor='white'))\n",
        "plt.show()"
      ],
      "metadata": {
        "colab": {
          "base_uri": "https://localhost:8080/",
          "height": 435
        },
        "id": "KbthgDexQhxq",
        "outputId": "b37ed924-0b85-40c6-8bf1-a1fce18a910a"
      },
      "execution_count": null,
      "outputs": [
        {
          "output_type": "display_data",
          "data": {
            "text/plain": [
              "<Figure size 640x480 with 1 Axes>"
            ],
            "image/png": "[encoded data removed]"
          },
          "metadata": {}
        }
      ]
    },
    {
      "cell_type": "code",
      "source": [
        "# Удалим кластеризованные пары из нашего словаря\n",
        "# и снова найдем минимальное расстояние.\n",
        "for fp in first_pairs:\n",
        "    dict_of_pairs.pop(fp)\n",
        "\n",
        "minimum_val_2 = min(dict_of_pairs.values())\n",
        "print(minimum_val_2)"
      ],
      "metadata": {
        "colab": {
          "base_uri": "https://localhost:8080/"
        },
        "id": "EVnf1u5DWF0E",
        "outputId": "eaddea2a-91bd-475b-e257-41bfe43bbd66"
      },
      "execution_count": null,
      "outputs": [
        {
          "output_type": "stream",
          "name": "stdout",
          "text": [
            "2.0\n"
          ]
        }
      ]
    },
    {
      "cell_type": "code",
      "source": [
        "# Найдем пары второго уровня. Твиты 2 и 3 соединились с твитом 5.\n",
        "second_pairs = []\n",
        "for k, v in dict_of_pairs.items():\n",
        "    if v == minimum_val_2:\n",
        "        print(k)\n",
        "        second_pairs.append(k)"
      ],
      "metadata": {
        "colab": {
          "base_uri": "https://localhost:8080/"
        },
        "id": "Y2AkZ2KEWsPD",
        "outputId": "48183dd5-6948-41e9-b5cd-2bc2ba8c0889"
      },
      "execution_count": null,
      "outputs": [
        {
          "output_type": "stream",
          "name": "stdout",
          "text": [
            "(2, 5)\n",
            "(3, 5)\n"
          ]
        }
      ]
    },
    {
      "cell_type": "code",
      "source": [
        "# Изобразим полученный результат на дендрограмме.\n",
        "# Обратите внимание, что, т.к. число 4 не вошло пока в кластер,\n",
        "# число 5 занимает его место.\n",
        "fig, ax = plt.subplots()\n",
        "ax.set_xlim(0, 5.5)\n",
        "ax.set_ylim(0, 2.5)\n",
        "\n",
        "ax.add_patch(Rectangle((2.5, 0), 2.5, minimum_val_2,\n",
        "                       edgecolor='black', facecolor='white'))\n",
        "ax.add_patch(Rectangle((0, 0), 1, minimum_val,\n",
        "                       edgecolor='black', facecolor='white'))\n",
        "ax.add_patch(Rectangle((2, 0), 1, minimum_val,\n",
        "                       edgecolor='black', facecolor='white'))\n",
        "plt.xticks([0, 1, 2, 3, 5])\n",
        "\n",
        "plt.show()"
      ],
      "metadata": {
        "colab": {
          "base_uri": "https://localhost:8080/",
          "height": 435
        },
        "id": "3ik_g_WHW1mb",
        "outputId": "d4f205bf-1432-4e8e-db8d-8b6e7bbca43b"
      },
      "execution_count": null,
      "outputs": [
        {
          "output_type": "display_data",
          "data": {
            "text/plain": [
              "<Figure size 640x480 with 1 Axes>"
            ],
            "image/png": "[encoded data removed]"
          },
          "metadata": {}
        }
      ]
    },
    {
      "cell_type": "code",
      "source": [
        "# Удалим слившиеся пары из нашего словаря.\n",
        "for sp in second_pairs:\n",
        "    dict_of_pairs.pop(sp)"
      ],
      "metadata": {
        "id": "Z0Ju5AavYChN"
      },
      "execution_count": null,
      "outputs": []
    },
    {
      "cell_type": "code",
      "source": [
        "# И еще удалим пары, где есть 2 и 3, т.к. они теперь в кластере \"5\",\n",
        "# и где есть 0, т.к. он теперь в кластере \"1\".\n",
        "for k in list(dict_of_pairs.keys()):\n",
        "    if 0 in k or 2 in k or 3 in k:\n",
        "        dict_of_pairs.pop(k)\n",
        "\n",
        "minimum_val_3 = min(dict_of_pairs.values())\n",
        "print(minimum_val_3)"
      ],
      "metadata": {
        "colab": {
          "base_uri": "https://localhost:8080/"
        },
        "id": "PFms5I5jiw_l",
        "outputId": "113776ad-02a6-4109-e460-9879be6dc180"
      },
      "execution_count": null,
      "outputs": [
        {
          "output_type": "stream",
          "name": "stdout",
          "text": [
            "2.449489742783178\n"
          ]
        }
      ]
    },
    {
      "cell_type": "code",
      "source": [
        "# Найдем пары третьего уровня.\n",
        "# Тут у нас есть конкуренция: можно слить  1 и 5 либо 1 и 7.\n",
        "# Т.к. 5 - это кластер побольше, сливаем 1 с 7.\n",
        "# Принцип тут такой: чтобы не создавать мегакластеры, в\n",
        "# которые попадают большинство элементов, т.к.\n",
        "# на каком-то уровне две точки из разных кластеров оказались рядом,\n",
        "# лучше слить новую точку с кластером поменьше, но поплотнее.\n",
        "# Т.е. нам надо сначала обрисовать маленькие листики, потом веточки,\n",
        "# потом ствол дерева и, наконец, дойти до корня.\n",
        "# Процесс, который помогает определить, как лучше сливать точки,\n",
        "# называется linkage. Существует множество алгоритмов для linkage.\n",
        "# Вот тут есть путаное объяснение этого процесса на английском\n",
        "# https://docs.scipy.org/doc/scipy/reference/generated/scipy.cluster.hierarchy.linkage.html\n",
        "# Но если у вас на каком-то уровне окажутся два кластера одинакового размера,\n",
        "# то они присоединятся к первой попавшейся ветви.\n",
        "# \"In case of tied minimum distances, a pair is randomly chosen,\n",
        "# thus being able to generate several structurally different dendrograms.\n",
        "# Alternatively, all tied pairs may be joined at the same time,\n",
        "# generating a unique dendrogram.\"\n",
        "# https://en.wikipedia.org/wiki/Hierarchical_clustering\n",
        "# Так что для этого алгоритма бывает важно перемешать элементы\n",
        "# и сравнить результат.\n",
        "\n",
        "third_pairs = []\n",
        "for k, v in dict_of_pairs.items():\n",
        "    if v == minimum_val_3:\n",
        "        print(k)\n",
        "        third_pairs.append(k)"
      ],
      "metadata": {
        "colab": {
          "base_uri": "https://localhost:8080/"
        },
        "id": "iJOHj9TzYNyi",
        "outputId": "0f58255e-62b2-4395-eeae-6e8429fe4ded"
      },
      "execution_count": null,
      "outputs": [
        {
          "output_type": "stream",
          "name": "stdout",
          "text": [
            "(1, 5)\n",
            "(1, 7)\n"
          ]
        }
      ]
    },
    {
      "cell_type": "code",
      "source": [
        "# Рисовать это в matplotlib \"геморно\". Так что сразу перерисую результат\n",
        "# в библиотеке scikit-learn + scipy.\n",
        "# Копипаста кода взята отсюда:\n",
        "# https://scikit-learn.org/stable/auto_examples/cluster/plot_agglomerative_dendrogram.html\n",
        "import numpy as np\n",
        "from scipy.cluster.hierarchy import dendrogram\n",
        "from sklearn.cluster import AgglomerativeClustering\n",
        "\n",
        "def plot_dendrogram(model, **kwargs):\n",
        "    # Create linkage matrix and then plot the dendrogram\n",
        "\n",
        "    # create the counts of samples under each node\n",
        "    counts = np.zeros(model.children_.shape[0])\n",
        "    n_samples = len(model.labels_)\n",
        "    for i, merge in enumerate(model.children_):\n",
        "        current_count = 0\n",
        "        for child_idx in merge:\n",
        "            if child_idx < n_samples:\n",
        "                current_count += 1  # leaf node\n",
        "            else:\n",
        "                current_count += counts[child_idx - n_samples]\n",
        "        counts[i] = current_count\n",
        "\n",
        "    linkage_matrix = np.column_stack(\n",
        "        [model.children_, model.distances_, counts]\n",
        "    ).astype(float)\n",
        "\n",
        "    # Plot the corresponding dendrogram\n",
        "    dendrogram(linkage_matrix, **kwargs)\n",
        "\n",
        "X = tweet_vectors\n",
        "\n",
        "# setting distance_threshold=0 ensures we compute the full tree.\n",
        "# От себя добавлю, что по дефолту этот алгоритм использует 'ward linkage'.\n",
        "# Ну тот алгоритм выбора, какие следующие две точки слить,\n",
        "# о котором я писала выше.\n",
        "model = AgglomerativeClustering(distance_threshold=0, n_clusters=None)\n",
        "\n",
        "model = model.fit(X)\n",
        "plt.title(\"Дендрограмма иерархической кластеризации\")\n",
        "plot_dendrogram(model)\n",
        "plt.xlabel(\"Номера твитов в датасете\")\n",
        "plt.show()"
      ],
      "metadata": {
        "colab": {
          "base_uri": "https://localhost:8080/",
          "height": 476
        },
        "id": "ZejgR6RoaG7j",
        "outputId": "05d5f633-b1c1-4852-9220-aae6cfb38daf"
      },
      "execution_count": null,
      "outputs": [
        {
          "output_type": "display_data",
          "data": {
            "text/plain": [
              "<Figure size 640x480 with 1 Axes>"
            ],
            "image/png": "[encoded data removed]"
          },
          "metadata": {}
        }
      ]
    },
    {
      "cell_type": "code",
      "source": [
        "# А давайте теперь переиграем linkage. Пусть будет single\n",
        "# и пусть сливает конкурентов с одинаковым минимальным расстоянием\n",
        "# сразу в один кластер. Смотрите, какая красота!\n",
        "model = AgglomerativeClustering(linkage='single', distance_threshold=0, n_clusters=None)\n",
        "\n",
        "model = model.fit(X)\n",
        "plt.title(\"Дендрограмма иерархической кластеризации\")\n",
        "plot_dendrogram(model)\n",
        "plt.xlabel(\"Номера твитов в датасете\")\n",
        "plt.show()"
      ],
      "metadata": {
        "colab": {
          "base_uri": "https://localhost:8080/",
          "height": 476
        },
        "id": "FxZvYh6hKCqq",
        "outputId": "350e7a61-c759-43d2-a1e1-01ff03888d01"
      },
      "execution_count": null,
      "outputs": [
        {
          "output_type": "display_data",
          "data": {
            "text/plain": [
              "<Figure size 640x480 with 1 Axes>"
            ],
            "image/png": "[encoded data removed]"
          },
          "metadata": {}
        }
      ]
    },
    {
      "cell_type": "markdown",
      "source": [
        "Теперь попробуем проанализировать результат. На первом уровне все шло неплохо. Самыми близкими оказались две пары юморных твитов. Но затем произошло нежелательное событие. Твиты 2 и 3 объединились с пятым, т.к. у них общее слово \"села\". А потом вообще твиты 0 и 1 срослись с 7, т.к. у них много общих нулей. Т.е. отсутствующие слова в твитах сыграли бОльшую роль, чем присутствующие. В лингвистике часто бывает, что есть маркированный класс (юморные твиты, например) и есть все остальное, что создает шум. Поэтому важно моделировать данные так, чтобы задача решалась на важных, отличительных признаках маркированного класса. А мы просто весь словарь запихнули - но в принципе на первом шаге получилось неплохо. Так что выбор уровня дендрограммы тоже вещь полезная."
      ],
      "metadata": {
        "id": "rUpQM7xFgT5M"
      }
    }
  ]
}