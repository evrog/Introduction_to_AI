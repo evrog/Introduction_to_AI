{
  "nbformat": 4,
  "nbformat_minor": 0,
  "metadata": {
    "colab": {
      "provenance": []
    },
    "kernelspec": {
      "name": "python3",
      "display_name": "Python 3"
    },
    "language_info": {
      "name": "python"
    }
  },
  "cells": [
    {
      "cell_type": "markdown",
      "source": [
        "**Word Sense Disambiguation (WSD)** - это автоматическое определение значения слова через соотнесение слова в контексте с одним из словарных определений этого слова в словаре. Например, у слова \"румяна\" есть как привычное нам значение \"косметика для лица\", так и более редкое - \"трава, которую использовали для румян\". Сейчас мы попробуем автоматически отделить контексты румян как косметики от тех случаев, где, возможно, имеется в виду трава."
      ],
      "metadata": {
        "id": "qy3A9oBaGsBO"
      }
    },
    {
      "cell_type": "code",
      "source": [
        "# Данные будем обрабатывать библиотекой Pandas.\n",
        "import pandas as pd"
      ],
      "metadata": {
        "id": "MkTB0xC5bdLd"
      },
      "execution_count": null,
      "outputs": []
    },
    {
      "cell_type": "markdown",
      "source": [
        "Для начала используем алгоритм Леска для решения нашей задачи. Согласно алгоритму, если в контексте слова есть слова из одного из его словарных определений, значит, именно это определение и ведет к нужному словарному значению."
      ],
      "metadata": {
        "id": "QxwJ0ihSH0av"
      }
    },
    {
      "cell_type": "code",
      "execution_count": null,
      "metadata": {
        "id": "gR3mTrmsPH0H"
      },
      "outputs": [],
      "source": [
        "# Возьмем два определения слова \"румяна\": энциклопедическое определение\n",
        "# косметического средства с Википедии и определение из лексической\n",
        "# этноботанической базы данных Фитолекс (Phytolex) https://phytolex.eusp.org/.\n",
        "\n",
        "# https://ru.wikipedia.org/wiki/%D0%A0%D1%83%D0%BC%D1%8F%D0%BD%D0%B0\n",
        "definition_rumyana_1 = \"\"\"\n",
        "косметическое средство для наведения румянца на щеках. \"Косметическая краска для наведения румянца.\n",
        "Нанести на лицо р. Пользоваться пудрой и румянами\". Его наносят в виде пудры или крема.\n",
        "Используется для придания более свежего и молодого вида и/или чтобы подчеркнуть скулы.\n",
        "В настоящее время румяна обычно состоят из цветного порошка на основе талька, который наносится кистью на щёки.\n",
        "В качестве красителя обычно используют сафлор красильный, соединение кармина с гидроксидом аммония, розовую воду, а также другие различные красители.\n",
        "\"\"\"\n",
        "# https://phytolex.eusp.org/citation/Q2l0YXRpb246MTY2MDc=\n",
        "definition_rumyana_2 = \"\"\"\n",
        "Трава двулѣтная, имѣющая стебель и листы какъ бы щетинами покрытые;\n",
        "цвѣточки колосомъ разположенные, синенькїе о пяти длинныхъ тычкахъ и одномъ пестикѣ, волосками покрытыхъ.\n",
        "Изъ подъ кожицы стебля, когда оной переломишь, выступаетъ красной сокъ, коимъ деревенскїя дѣвки румянятся.\n",
        "Ростетъ въ умѣренной полосе Россїи.\n",
        "\"\"\""
      ]
    },
    {
      "cell_type": "markdown",
      "source": [
        "Чтобы получить контексты, в которых мы будем определять, какое из двух значений слова \"румяна\" используется, идем на сайт Национального корпуса русского языка (НКРЯ) https://ruscorpora.ru/. Контекстов будет много, но, скорее всего, о траве \"румяна\" раньше говорили чаще - в народной культуре это был основной источник получения косметического средства. Поэтому ограничим наш набор контекстов. Жмякаем на \"Основной корпус\" и затем рядом со словом \"Подкорпус\" жмякаем на \"Задать\". В \"Основных параметрах текста\" в окне \"Дата содания\" -> \"по\" вносим 1900. Это будет самый поздний год создания произведения, из которого мы хотим взять контексты слова \"Румяна\". Сохраняем подкорпус, нажимая на \"Сохранить без просмотра\". В новой форме \"Слово 1\" -> \"Лемма\" вводим *румяна*.\n",
        "\n",
        "Слово \"румяна\" также может быть кратким прилагательным, например в сочетании \"девка румяна\". В форме \"Грамм. признаки\" жмякаем \"выбрать\". Открывается форма, где указаны все возможные грамматические категории слова. Их очень много, а нам нужно удалить именно случаи, где \"румяна\" - прилагательное. Жмякаем в центре наверху \"Инвертировать выбор\" - все категории оказались чекнуты. Снимаем галочку с \"прилагательное\" и \"предикатив\". Жмякаем \"применить\". Теперь будут выбраны контексты, в которых румяна, скорее всего, существительное (хотя шум, ошибки тоже могут случаться). Получаем 0 текстов с такими признаками (\"По вашему запросу ничего не найдено\") - это оттого, что старые тексты в НКРЯ мало размечены. Бесимся, откатываем назад до заводских настроек, т.е. убираем все галочки из \"Грамм. признаков\". Получаем результат \"87 текстов 115 примеров\".\n",
        "\n",
        "В правом верхнем углу поля с контекстами есть магическая кнопочка \"Сохранить\". Если на нее нажать, то система предложит сначала войти или зарегаться. Я вошла при помощи Яндекс ID. Теперь я могу скачать контексты в форматах Excel, CSV или Word. Вы скачивайте, как вам удобно, а я скачала в .csv. Неочевидно, но... разделитель в этом файле будет \";\" - пришлось слегка помучиться, подбирая его, т.к. на сайте я не нашла, где это указано. Мой файлик с контекстами мы сейчас подгрузим."
      ],
      "metadata": {
        "id": "elaaFXyPZWur"
      }
    },
    {
      "cell_type": "code",
      "source": [
        "# Файл с контекстами я сохранила на своем гугл-диске. Вот так мы его скачиваем в колабе.\n",
        "!wget 'https://docs.google.com/uc?export=download&id=1ngbMhtZABTxs-DaDk5h91TiHvOQVGDZR' -O 'rumyana_contexts.csv'"
      ],
      "metadata": {
        "colab": {
          "base_uri": "https://localhost:8080/"
        },
        "id": "wBx2FKPmHCzw",
        "outputId": "dc2440cc-1888-430e-bb9f-749722197dbe"
      },
      "execution_count": null,
      "outputs": [
        {
          "output_type": "stream",
          "name": "stdout",
          "text": [
            "--2024-11-12 15:26:57--  https://docs.google.com/uc?export=download&id=1ngbMhtZABTxs-DaDk5h91TiHvOQVGDZR\n",
            "Resolving docs.google.com (docs.google.com)... 173.194.217.113, 173.194.217.100, 173.194.217.101, ...\n",
            "Connecting to docs.google.com (docs.google.com)|173.194.217.113|:443... connected.\n",
            "HTTP request sent, awaiting response... 303 See Other\n",
            "Location: https://drive.usercontent.google.com/download?id=1ngbMhtZABTxs-DaDk5h91TiHvOQVGDZR&export=download [following]\n",
            "--2024-11-12 15:26:57--  https://drive.usercontent.google.com/download?id=1ngbMhtZABTxs-DaDk5h91TiHvOQVGDZR&export=download\n",
            "Resolving drive.usercontent.google.com (drive.usercontent.google.com)... 74.125.141.132, 2607:f8b0:400c:c06::84\n",
            "Connecting to drive.usercontent.google.com (drive.usercontent.google.com)|74.125.141.132|:443... connected.\n",
            "HTTP request sent, awaiting response... 200 OK\n",
            "Length: 136205 (133K) [application/octet-stream]\n",
            "Saving to: ‘rumyana_contexts.csv’\n",
            "\n",
            "rumyana_contexts.cs 100%[===================>] 133.01K  --.-KB/s    in 0.004s  \n",
            "\n",
            "2024-11-12 15:26:59 (35.1 MB/s) - ‘rumyana_contexts.csv’ saved [136205/136205]\n",
            "\n"
          ]
        }
      ]
    },
    {
      "cell_type": "code",
      "source": [
        "# Путь к файлу теперь такой.\n",
        "file_with_contexts = 'rumyana_contexts.csv'"
      ],
      "metadata": {
        "id": "LgI_qdq4WJir"
      },
      "execution_count": null,
      "outputs": []
    },
    {
      "cell_type": "code",
      "source": [
        "# Распаковываем цсвшку пандасом.\n",
        "contexts_pd = pd.read_csv(file_with_contexts, sep=';')"
      ],
      "metadata": {
        "id": "etXGymDYbfL9"
      },
      "execution_count": null,
      "outputs": []
    },
    {
      "cell_type": "code",
      "source": [
        "# Вот и, собственно, контексты.\n",
        "contexts = contexts_pd[['Left context', 'Center', 'Right context']].fillna('').astype(str).agg(' '.join, axis=1)"
      ],
      "metadata": {
        "id": "zzJu_XA2buIV"
      },
      "execution_count": null,
      "outputs": []
    },
    {
      "cell_type": "markdown",
      "source": [
        "Наша задача: отделить контексты, в которых под румянами имеется в виду именно растение (фитоним - sic!), которым человек воспользовался или мог воспользоваться, чтобы украсить лицо, от контекстов, где румяна - это вообще любое косметическое средство. Мы это будем делать при помощи алгоритма Lesk. В великой NLP-библиотеке NLTK этот алгоритм реализован для английского языка. https://www.nltk.org/api/nltk.wsd.lesk.html Алгоритм несложный, так что мы его сейчас реализуем на примере наших румян. Суть его такая: берем полнозначные слова из определений и считаем, сколько из них употреблено в контекстном окне искомого слова. Для первого определения это будут слова \"косметический\", \"препарат\", \"подкрашивание\", \"кожа\" и т.д. Для второго - \"трава\", \"двулетний\", \"стебель\" и т.д. Однако у нас есть сложность: второе определение и некоторые наши контексты написаны в старой орфографии. Поэтому сначала предобработаем наши тексты."
      ],
      "metadata": {
        "id": "2QaKgo17BPl5"
      }
    },
    {
      "cell_type": "code",
      "source": [
        "# Т.к. наши тексты есть и в старой орфографии, и в современной, приведем их\n",
        "# к новой орфографии. Для этого заменим некоторые символы. В случае с \"ъ\"\n",
        "# кажется, что замена заденет и современные буквы, но это нам не сыграет\n",
        "# большой роли в дальнейшем.\n",
        "orfo_change = {'ѣ':'е', 'ї':'и', 'і':'и', 'ъ':''}"
      ],
      "metadata": {
        "id": "GCanqvA9By1C"
      },
      "execution_count": null,
      "outputs": []
    },
    {
      "cell_type": "code",
      "source": [
        "# Сохраним контексты из НКРЯ в отдельную переменную.\n",
        "c = contexts_pd[['Left context', 'Right context']].fillna('').astype(str).agg(' '.join, axis=1)"
      ],
      "metadata": {
        "id": "BwwH25N8oOmO"
      },
      "execution_count": null,
      "outputs": []
    },
    {
      "cell_type": "code",
      "source": [
        "# Используем цикл, чтобы реформировать нашу орфографию - перевести в более\n",
        "# современный вид.\n",
        "for oc in orfo_change:\n",
        "    c = c.str.replace(oc, orfo_change[oc])\n",
        "    definition_rumyana_1 = definition_rumyana_1.replace(oc, orfo_change[oc])\n",
        "    definition_rumyana_2 = definition_rumyana_2.replace(oc, orfo_change[oc])"
      ],
      "metadata": {
        "id": "KKQvaHBXpRGf"
      },
      "execution_count": null,
      "outputs": []
    },
    {
      "cell_type": "code",
      "source": [
        "# Вот так, например, теперь выглядит старинное определение румян.\n",
        "definition_rumyana_2"
      ],
      "metadata": {
        "colab": {
          "base_uri": "https://localhost:8080/",
          "height": 53
        },
        "id": "E_e1pUq9prCn",
        "outputId": "91394338-6032-4335-9e85-0daf6111f75b"
      },
      "execution_count": null,
      "outputs": [
        {
          "output_type": "execute_result",
          "data": {
            "text/plain": [
              "'\\nТрава двулетная, имеющая стебель и листы как бы щетинами покрытые; \\nцветочки колосом разположенные, синенькие о пяти длинных тычках и одном пестике, волосками покрытых. \\nИз под кожицы стебля, когда оной переломишь, выступает красной сок, коим деревенския девки румянятся. \\nРостет в умеренной полосе России.\\n'"
            ],
            "application/vnd.google.colaboratory.intrinsic+json": {
              "type": "string"
            }
          },
          "metadata": {},
          "execution_count": 10
        }
      ]
    },
    {
      "cell_type": "code",
      "source": [
        "# Для дальнейшей предобработки нам понадобится библиотека NLTK и регулярные выражения.\n",
        "import nltk\n",
        "\n",
        "from nltk.stem import SnowballStemmer\n",
        "snowball = SnowballStemmer(language=\"russian\")\n",
        "\n",
        "nltk.download('stopwords')\n",
        "from nltk.corpus import stopwords\n",
        "rus_stop_words = stopwords.words(\"russian\")\n",
        "\n",
        "import re"
      ],
      "metadata": {
        "colab": {
          "base_uri": "https://localhost:8080/"
        },
        "id": "jrVQ8O_kq7ja",
        "outputId": "203ba2ab-ebca-4bb4-e379-78c0af50fab2"
      },
      "execution_count": null,
      "outputs": [
        {
          "output_type": "stream",
          "name": "stderr",
          "text": [
            "[nltk_data] Downloading package stopwords to /root/nltk_data...\n",
            "[nltk_data]   Unzipping corpora/stopwords.zip.\n"
          ]
        }
      ]
    },
    {
      "cell_type": "code",
      "source": [
        "# Эта функция предобработает тексты определений и контекстов -\n",
        "# приведет их к более однообразной форме.\n",
        "def preprocess(text):\n",
        "    # Переведем текст в нижний регистр.\n",
        "    text = text.lower()\n",
        "    # Это выражение оставит в тексте только алфавит и цифры.\n",
        "    text = re.sub(r'[^\\w\\s-]+', '', text)\n",
        "    # Теперь удалим стоп-слова из списка токенов.\n",
        "    clean_text = []\n",
        "    for token in text.split():\n",
        "        if token not in rus_stop_words:\n",
        "            clean_text.append(token)\n",
        "    # Используем стеммер Snowball библиотеки NLTK, чтобы получить основы\n",
        "    # слов без окончаний и некоторых суффиксов.\n",
        "    preprocessed_text = [snowball.stem(t) for t in clean_text]\n",
        "    return preprocessed_text"
      ],
      "metadata": {
        "id": "ESfBzCVMwOfO"
      },
      "execution_count": null,
      "outputs": []
    },
    {
      "cell_type": "code",
      "source": [
        "# Вот так будет выглядеть препроцессинг на примере старинной дефиниции слова \"румяна\".\n",
        "preprocess(definition_rumyana_2)"
      ],
      "metadata": {
        "colab": {
          "base_uri": "https://localhost:8080/"
        },
        "id": "wRAD3bcGw-v1",
        "outputId": "d14d8a0f-89b3-490d-8ac8-4b8c56a9cca0"
      },
      "execution_count": null,
      "outputs": [
        {
          "output_type": "execute_result",
          "data": {
            "text/plain": [
              "['трав',\n",
              " 'двулетн',\n",
              " 'имеющ',\n",
              " 'стебел',\n",
              " 'лист',\n",
              " 'щетин',\n",
              " 'покрыт',\n",
              " 'цветочк',\n",
              " 'колос',\n",
              " 'разположен',\n",
              " 'синеньк',\n",
              " 'пят',\n",
              " 'длин',\n",
              " 'тычк',\n",
              " 'одн',\n",
              " 'пестик',\n",
              " 'волоск',\n",
              " 'покрыт',\n",
              " 'кожиц',\n",
              " 'стебл',\n",
              " 'он',\n",
              " 'перелом',\n",
              " 'выступа',\n",
              " 'красн',\n",
              " 'сок',\n",
              " 'ко',\n",
              " 'деревенск',\n",
              " 'девк',\n",
              " 'румян',\n",
              " 'ростет',\n",
              " 'умерен',\n",
              " 'полос',\n",
              " 'росс']"
            ]
          },
          "metadata": {},
          "execution_count": 13
        }
      ]
    },
    {
      "cell_type": "code",
      "source": [
        "# Предобработаем наши контексты из НКРЯ.\n",
        "c_preprocessed = c.apply(preprocess)"
      ],
      "metadata": {
        "id": "Ci1qWvnEAc2k"
      },
      "execution_count": null,
      "outputs": []
    },
    {
      "cell_type": "code",
      "source": [
        "c_preprocessed"
      ],
      "metadata": {
        "collapsed": true,
        "colab": {
          "base_uri": "https://localhost:8080/",
          "height": 458
        },
        "id": "_j5gTExCCGGt",
        "outputId": "09fc0fdb-9c2b-4e30-e6b6-c31956479174"
      },
      "execution_count": null,
      "outputs": [
        {
          "output_type": "execute_result",
          "data": {
            "text/plain": [
              "0      [велиш, присматриват, устро, червлениц, белил,...\n",
              "1              [десятк, закрыв, морщин, белил, б, угодн]\n",
              "2      [напрасн, сил, философ, украс, философ, так, б...\n",
              "3                                     [употреблен, трав]\n",
              "4                     [получа, постоянны, сказа, цветны]\n",
              "                             ...                        \n",
              "110    [крестин, чарк, треб, денежн, вклад, молод, зу...\n",
              "111    [сто, цветны, коробочк, пудр, затейливаг, вид,...\n",
              "112    [перезрел, китаянк, употребля, больш, количест...\n",
              "113    [лиц, подоба, образ, замен, бел, известк, жжен...\n",
              "114    [блеск, газов, фонар, груб, каза, весел, румян...\n",
              "Length: 115, dtype: object"
            ],
            "text/html": [
              "<div>\n",
              "<style scoped>\n",
              "    .dataframe tbody tr th:only-of-type {\n",
              "        vertical-align: middle;\n",
              "    }\n",
              "\n",
              "    .dataframe tbody tr th {\n",
              "        vertical-align: top;\n",
              "    }\n",
              "\n",
              "    .dataframe thead th {\n",
              "        text-align: right;\n",
              "    }\n",
              "</style>\n",
              "<table border=\"1\" class=\"dataframe\">\n",
              "  <thead>\n",
              "    <tr style=\"text-align: right;\">\n",
              "      <th></th>\n",
              "      <th>0</th>\n",
              "    </tr>\n",
              "  </thead>\n",
              "  <tbody>\n",
              "    <tr>\n",
              "      <th>0</th>\n",
              "      <td>[велиш, присматриват, устро, червлениц, белил,...</td>\n",
              "    </tr>\n",
              "    <tr>\n",
              "      <th>1</th>\n",
              "      <td>[десятк, закрыв, морщин, белил, б, угодн]</td>\n",
              "    </tr>\n",
              "    <tr>\n",
              "      <th>2</th>\n",
              "      <td>[напрасн, сил, философ, украс, философ, так, б...</td>\n",
              "    </tr>\n",
              "    <tr>\n",
              "      <th>3</th>\n",
              "      <td>[употреблен, трав]</td>\n",
              "    </tr>\n",
              "    <tr>\n",
              "      <th>4</th>\n",
              "      <td>[получа, постоянны, сказа, цветны]</td>\n",
              "    </tr>\n",
              "    <tr>\n",
              "      <th>...</th>\n",
              "      <td>...</td>\n",
              "    </tr>\n",
              "    <tr>\n",
              "      <th>110</th>\n",
              "      <td>[крестин, чарк, треб, денежн, вклад, молод, зу...</td>\n",
              "    </tr>\n",
              "    <tr>\n",
              "      <th>111</th>\n",
              "      <td>[сто, цветны, коробочк, пудр, затейливаг, вид,...</td>\n",
              "    </tr>\n",
              "    <tr>\n",
              "      <th>112</th>\n",
              "      <td>[перезрел, китаянк, употребля, больш, количест...</td>\n",
              "    </tr>\n",
              "    <tr>\n",
              "      <th>113</th>\n",
              "      <td>[лиц, подоба, образ, замен, бел, известк, жжен...</td>\n",
              "    </tr>\n",
              "    <tr>\n",
              "      <th>114</th>\n",
              "      <td>[блеск, газов, фонар, груб, каза, весел, румян...</td>\n",
              "    </tr>\n",
              "  </tbody>\n",
              "</table>\n",
              "<p>115 rows × 1 columns</p>\n",
              "</div><br><label><b>dtype:</b> object</label>"
            ]
          },
          "metadata": {},
          "execution_count": 15
        }
      ]
    },
    {
      "cell_type": "code",
      "source": [
        "# Теперь предобработаем два определения и сохраним в новые переменные.\n",
        "df_1_preprocessed = preprocess(definition_rumyana_1)\n",
        "df_2_preprocessed = preprocess(definition_rumyana_2)"
      ],
      "metadata": {
        "id": "zbYMtGebB3Ao"
      },
      "execution_count": null,
      "outputs": []
    },
    {
      "cell_type": "code",
      "source": [
        "# Напишем функцию, которая будет считать число общих слов у контекста и\n",
        "# у каждого из двух определений. Если их будет больше для первого\n",
        "# определения, то пусть функция вернет число 1; для второго - 2;\n",
        "# если их не будет, то 0, а если будет одинаково, то 3.\n",
        "def get_definition(my_list):\n",
        "    intersection_1 = [value for value in df_1_preprocessed if value in my_list]\n",
        "    intersection_2 = [value for value in df_2_preprocessed if value in my_list]\n",
        "    if intersection_1 > intersection_2:\n",
        "        return 1\n",
        "    elif intersection_1 < intersection_2:\n",
        "        return 2\n",
        "    elif intersection_1 == 0 and intersection_2 == 0:\n",
        "        return 0\n",
        "    elif intersection_1 == intersection_2:\n",
        "        return 3"
      ],
      "metadata": {
        "id": "TFaMrDsxCb_8"
      },
      "execution_count": null,
      "outputs": []
    },
    {
      "cell_type": "code",
      "source": [
        "# Обрабатываем наши контексты функцией, получаем числа для каждого контекста.\n",
        "lesk_rumyana = c_preprocessed.apply(get_definition)\n",
        "print(lesk_rumyana)"
      ],
      "metadata": {
        "id": "bq6dj7gOEldV",
        "colab": {
          "base_uri": "https://localhost:8080/"
        },
        "outputId": "9a5b93b9-8530-4dbd-a11a-579c14312ef2"
      },
      "execution_count": null,
      "outputs": [
        {
          "output_type": "stream",
          "name": "stdout",
          "text": [
            "0      1\n",
            "1      3\n",
            "2      3\n",
            "3      2\n",
            "4      3\n",
            "      ..\n",
            "110    1\n",
            "111    1\n",
            "112    3\n",
            "113    1\n",
            "114    1\n",
            "Length: 115, dtype: int64\n"
          ]
        }
      ]
    },
    {
      "cell_type": "code",
      "source": [
        "# Посмотрим, какие контексты относят к первому более привычному определению.\n",
        "contexts[lesk_rumyana[lesk_rumyana==1].index].to_list()\n",
        "# Ну, вроде, окей, примеры похожи на то, что речь в них идет именно о косметическом средстве."
      ],
      "metadata": {
        "colab": {
          "base_uri": "https://localhost:8080/"
        },
        "id": "LX_g16tgFRzs",
        "outputId": "84f5809e-e75d-479f-8510-0d473c00b0c0"
      },
      "execution_count": null,
      "outputs": [
        {
          "output_type": "execute_result",
          "data": {
            "text/plain": [
              "['велиш присматриватися, что хорошо устроилася, червленицею ( румянами и белилом лице умастила, чело свое',\n",
              " 'борозды ея чела, а бѣлила съ  румянами на старомъ лицѣ дѣлаютъ изрядную молодую',\n",
              " 'отмалевано ее лицо разными притираньями, помадами,  румянами и прочим, и прежде, нежели все',\n",
              " 'У вас на щеках  румяна на сердце румяна, на совести, румяна',\n",
              " 'вас на щеках румяна, на сердце  румяна на совести, румяна, на искренности... сажа. ',\n",
              " 'румяна, на сердце румяна, на совести,  румяна на искренности... сажа. ',\n",
              " 'отвергая все излишние украшения, или французские  румяна которые человеку с естественным вкусом не',\n",
              " 'сплетенные из пчелиной шерстки; то, увы!  румяна которые от духу налетали на щечку. ',\n",
              " 'которой толстые губы и щеки, нащекатуренные  румянами так нравятся многим гуляющим, а более',\n",
              " 'которые не должны были полинять под  румянами образованности? ',\n",
              " 'Теперь взошло солнце истины, осветило  румяна на лицах, тление под искусственною жизнью',\n",
              " 'эгоизме, что очарование мое исчезало, как  румяна на лице старой кокетки. ',\n",
              " 'восхищались свежестью ее лица, подавая ей  румяна и неизменной моложавостью, напяливая на ее',\n",
              " 'которые не должны были полинять под  румянами образованности? ',\n",
              " 'некоторые уверяли, будто на лицах, сквозь  румяна и белила, были иногда заметны синие',\n",
              " 'пару сапогов, ларец, в котором находились  румяна перстни, гребешок, мыло и зеркальце; а',\n",
              " 'можно было узнать по белилам и  румянам покрывающим их лица, опухлые, изношенные, да',\n",
              " 'облачений, как самую мишуру, белила и  румяна как белила и румяна an sich',\n",
              " 'белила и румяна, как белила и  румяна an sich любит. ',\n",
              " 'пару сапогов, ларец, в котором находились  румяна перстни, гребешок, мыло и зеркальце; а',\n",
              " 'беспрерывно отставлять ногу утомительно; белила и  румяны ползут с его лица, на котором',\n",
              " 'какъ люди смываютъ съ своихъ лицъ  румяна снимаютъ напудренные парики, стаскиваютъ съ затекшихъ',\n",
              " 'с его подленькой мордочки только осыпались  румяна которыми она была щедро оштукатурена; ',\n",
              " 'Смотри, со щекъ текутъ  румяна ',\n",
              " 'у нея то, вѣроятно, и текли  румяна со щекъ. ',\n",
              " 'Дочь взвизгнула и поблѣднѣла, такъ что  румяна образовали на щекахъ нѣчто въ родѣ',\n",
              " 'в другое время не увлекся бы  румянами и блестящими тряпками отцветшего и вовсе',\n",
              " 'и блаженно сияя широким лицом, натертым  румянами и карточным мелом. ',\n",
              " 'попроще и поскромнее, смою с лица  румяна и белила. ',\n",
              " 'помады, благоухающие эссенции, нежная пудра, дорогие  румяна и белила и другие снадобья этого',\n",
              " 'и пиджаках; другим удалось только смыть  румяна и белила и наскоро набросить пальто',\n",
              " 'серебряные браслеты, серьги, кольца, гребенки, зеркальца,  румяна пудра и другие принадлежности женского туалета',\n",
              " 'и электричество выдало и белила, и  румяна сделав ее лицо совсем лиловым. ',\n",
              " 'текли из ее прекрасных глаз, смывая  румяна со щек. ',\n",
              " 'правительство ей платило жалованье, якобы на  румяны в размере 4000 р. в год',\n",
              " 'Она позеленела под белилами и  румянами и бессмысленно водила глазами от Консты',\n",
              " 'выступила даже сквозь покрывавшие ее щеки  румяна ',\n",
              " 'как крахмал из сарацинского пшена, а  румяна добываются китайцами из сафлора (carthamus tinctorius). ',\n",
              " 'пусть она хоть на палец наложит  румян все-таки лицо ее будет, наконец, таким',\n",
              " 'искусственными приемами красноречия -- как молодая девушка  румянами и белилами. ',\n",
              " 'мишуре наряда, заставлял безобразными нашлепками выступать  румяна на щеках красотки. ',\n",
              " 'крестинах чарки, требуют денежного вклада на  румяна молодой, на зубок новорожденному и т',\n",
              " 'стоятъ цвѣтныя коробочки съ пудрами и  румянами затѣйливаго вида флакончики съ духами. ',\n",
              " 'лицо подобающим образом, заменяя белила и  румяна известкой, жженым кирпичом и тому подобным',\n",
              " 'При блеске газовых фонарей грубые  румяна казались веселым румянцем, сами женщины были']"
            ]
          },
          "metadata": {},
          "execution_count": 19
        }
      ]
    },
    {
      "cell_type": "code",
      "source": [
        "# Посмотрим на контексты, которые отсылают ко второму определению.\n",
        "contexts[lesk_rumyana[lesk_rumyana==2].index].to_list()\n",
        "# Первый пример, конечно, the best. А вот остальные - сомнительно.\n",
        "# Радует, что здесь примеров меньше, чем для первого определения."
      ],
      "metadata": {
        "id": "SkHmEVWVLOJJ",
        "outputId": "bc7c35bf-5d7e-4df4-f521-6ff78260720f",
        "colab": {
          "base_uri": "https://localhost:8080/"
        }
      },
      "execution_count": null,
      "outputs": [
        {
          "output_type": "execute_result",
          "data": {
            "text/plain": [
              "['Употребленіе травы  румянъ ',\n",
              " 'пѣнѣ съ красной селитры, ни въ  румянахъ которые привозятъ къ намъ изъ Иллиріи',\n",
              " 'одной свечи заметны были белила и  румяна ',\n",
              " 'брюнетки ни одной, косы -- крысьи хвосты,  румяна и белила наложены щедро. ',\n",
              " 'никем не зримый, Досады и стыда  румянами палимый, Искать хотя одной загадочной черты',\n",
              " 'никем не зримый, Досады и стыда  румянами палимый, Искать хотя одной загадочной черты',\n",
              " 'Это, отвѣчалъ я, -- въ одной банкѣ  румяна а въ другой бѣлила. ',\n",
              " 'Съ ея полудѣтскаго лица сошли  румяна оно было грустно и утомлено; казалось',\n",
              " 'Кроме того, женщины румянятся китайскими  румянами а летом соком земляники. ',\n",
              " 'сока розовых раковин; кисточкой с этими  румянами Констанций искусно провел по своим смуглым']"
            ]
          },
          "metadata": {},
          "execution_count": 20
        }
      ]
    },
    {
      "cell_type": "markdown",
      "source": [
        "Попробуем теперь изменить наш алгоритм вот как. \"Румяна\" как растение - это фитоним, т.е. слово, которое отсылает к объекту класса \"растение\". Используем семантические вектора, чтобы определить, какие контексты слова \"румяна\" по семантике ближе всего к слову \"растение\"."
      ],
      "metadata": {
        "id": "WUHrS_bPMnkw"
      }
    },
    {
      "cell_type": "code",
      "source": [
        "# Используем для этого библиотеку spacy https://spacy.io\n",
        "import spacy\n",
        "# Команда !python запускает Питон и он скачивает модуль\n",
        "# для spacy под названием 'ru_core_news_lg'.\n",
        "# lg - означает large, большая модель.\n",
        "!python -m spacy download ru_core_news_lg\n",
        "nlp = spacy.load('ru_core_news_lg')"
      ],
      "metadata": {
        "colab": {
          "base_uri": "https://localhost:8080/"
        },
        "collapsed": true,
        "id": "iQEDrGOchYcT",
        "outputId": "22ee1120-f43d-469a-caec-b9131fab6d2a"
      },
      "execution_count": null,
      "outputs": [
        {
          "output_type": "stream",
          "name": "stdout",
          "text": [
            "Collecting ru-core-news-lg==3.7.0\n",
            "  Downloading https://github.com/explosion/spacy-models/releases/download/ru_core_news_lg-3.7.0/ru_core_news_lg-3.7.0-py3-none-any.whl (513.4 MB)\n",
            "\u001b[2K     \u001b[90m━━━━━━━━━━━━━━━━━━━━━━━━━━━━━━━━━━━━━━━━\u001b[0m \u001b[32m513.4/513.4 MB\u001b[0m \u001b[31m3.4 MB/s\u001b[0m eta \u001b[36m0:00:00\u001b[0m\n",
            "\u001b[?25hRequirement already satisfied: spacy<3.8.0,>=3.7.0 in /usr/local/lib/python3.10/dist-packages (from ru-core-news-lg==3.7.0) (3.7.5)\n",
            "Collecting pymorphy3>=1.0.0 (from ru-core-news-lg==3.7.0)\n",
            "  Downloading pymorphy3-2.0.2-py3-none-any.whl.metadata (1.8 kB)\n",
            "Collecting dawg-python>=0.7.1 (from pymorphy3>=1.0.0->ru-core-news-lg==3.7.0)\n",
            "  Downloading DAWG_Python-0.7.2-py2.py3-none-any.whl.metadata (7.0 kB)\n",
            "Collecting pymorphy3-dicts-ru (from pymorphy3>=1.0.0->ru-core-news-lg==3.7.0)\n",
            "  Downloading pymorphy3_dicts_ru-2.4.417150.4580142-py2.py3-none-any.whl.metadata (2.0 kB)\n",
            "Requirement already satisfied: spacy-legacy<3.1.0,>=3.0.11 in /usr/local/lib/python3.10/dist-packages (from spacy<3.8.0,>=3.7.0->ru-core-news-lg==3.7.0) (3.0.12)\n",
            "Requirement already satisfied: spacy-loggers<2.0.0,>=1.0.0 in /usr/local/lib/python3.10/dist-packages (from spacy<3.8.0,>=3.7.0->ru-core-news-lg==3.7.0) (1.0.5)\n",
            "Requirement already satisfied: murmurhash<1.1.0,>=0.28.0 in /usr/local/lib/python3.10/dist-packages (from spacy<3.8.0,>=3.7.0->ru-core-news-lg==3.7.0) (1.0.10)\n",
            "Requirement already satisfied: cymem<2.1.0,>=2.0.2 in /usr/local/lib/python3.10/dist-packages (from spacy<3.8.0,>=3.7.0->ru-core-news-lg==3.7.0) (2.0.8)\n",
            "Requirement already satisfied: preshed<3.1.0,>=3.0.2 in /usr/local/lib/python3.10/dist-packages (from spacy<3.8.0,>=3.7.0->ru-core-news-lg==3.7.0) (3.0.9)\n",
            "Requirement already satisfied: thinc<8.3.0,>=8.2.2 in /usr/local/lib/python3.10/dist-packages (from spacy<3.8.0,>=3.7.0->ru-core-news-lg==3.7.0) (8.2.5)\n",
            "Requirement already satisfied: wasabi<1.2.0,>=0.9.1 in /usr/local/lib/python3.10/dist-packages (from spacy<3.8.0,>=3.7.0->ru-core-news-lg==3.7.0) (1.1.3)\n",
            "Requirement already satisfied: srsly<3.0.0,>=2.4.3 in /usr/local/lib/python3.10/dist-packages (from spacy<3.8.0,>=3.7.0->ru-core-news-lg==3.7.0) (2.4.8)\n",
            "Requirement already satisfied: catalogue<2.1.0,>=2.0.6 in /usr/local/lib/python3.10/dist-packages (from spacy<3.8.0,>=3.7.0->ru-core-news-lg==3.7.0) (2.0.10)\n",
            "Requirement already satisfied: weasel<0.5.0,>=0.1.0 in /usr/local/lib/python3.10/dist-packages (from spacy<3.8.0,>=3.7.0->ru-core-news-lg==3.7.0) (0.4.1)\n",
            "Requirement already satisfied: typer<1.0.0,>=0.3.0 in /usr/local/lib/python3.10/dist-packages (from spacy<3.8.0,>=3.7.0->ru-core-news-lg==3.7.0) (0.12.5)\n",
            "Requirement already satisfied: tqdm<5.0.0,>=4.38.0 in /usr/local/lib/python3.10/dist-packages (from spacy<3.8.0,>=3.7.0->ru-core-news-lg==3.7.0) (4.66.6)\n",
            "Requirement already satisfied: requests<3.0.0,>=2.13.0 in /usr/local/lib/python3.10/dist-packages (from spacy<3.8.0,>=3.7.0->ru-core-news-lg==3.7.0) (2.32.3)\n",
            "Requirement already satisfied: pydantic!=1.8,!=1.8.1,<3.0.0,>=1.7.4 in /usr/local/lib/python3.10/dist-packages (from spacy<3.8.0,>=3.7.0->ru-core-news-lg==3.7.0) (2.9.2)\n",
            "Requirement already satisfied: jinja2 in /usr/local/lib/python3.10/dist-packages (from spacy<3.8.0,>=3.7.0->ru-core-news-lg==3.7.0) (3.1.4)\n",
            "Requirement already satisfied: setuptools in /usr/local/lib/python3.10/dist-packages (from spacy<3.8.0,>=3.7.0->ru-core-news-lg==3.7.0) (75.1.0)\n",
            "Requirement already satisfied: packaging>=20.0 in /usr/local/lib/python3.10/dist-packages (from spacy<3.8.0,>=3.7.0->ru-core-news-lg==3.7.0) (24.1)\n",
            "Requirement already satisfied: langcodes<4.0.0,>=3.2.0 in /usr/local/lib/python3.10/dist-packages (from spacy<3.8.0,>=3.7.0->ru-core-news-lg==3.7.0) (3.4.1)\n",
            "Requirement already satisfied: numpy>=1.19.0 in /usr/local/lib/python3.10/dist-packages (from spacy<3.8.0,>=3.7.0->ru-core-news-lg==3.7.0) (1.26.4)\n",
            "Requirement already satisfied: language-data>=1.2 in /usr/local/lib/python3.10/dist-packages (from langcodes<4.0.0,>=3.2.0->spacy<3.8.0,>=3.7.0->ru-core-news-lg==3.7.0) (1.2.0)\n",
            "Requirement already satisfied: annotated-types>=0.6.0 in /usr/local/lib/python3.10/dist-packages (from pydantic!=1.8,!=1.8.1,<3.0.0,>=1.7.4->spacy<3.8.0,>=3.7.0->ru-core-news-lg==3.7.0) (0.7.0)\n",
            "Requirement already satisfied: pydantic-core==2.23.4 in /usr/local/lib/python3.10/dist-packages (from pydantic!=1.8,!=1.8.1,<3.0.0,>=1.7.4->spacy<3.8.0,>=3.7.0->ru-core-news-lg==3.7.0) (2.23.4)\n",
            "Requirement already satisfied: typing-extensions>=4.6.1 in /usr/local/lib/python3.10/dist-packages (from pydantic!=1.8,!=1.8.1,<3.0.0,>=1.7.4->spacy<3.8.0,>=3.7.0->ru-core-news-lg==3.7.0) (4.12.2)\n",
            "Requirement already satisfied: charset-normalizer<4,>=2 in /usr/local/lib/python3.10/dist-packages (from requests<3.0.0,>=2.13.0->spacy<3.8.0,>=3.7.0->ru-core-news-lg==3.7.0) (3.4.0)\n",
            "Requirement already satisfied: idna<4,>=2.5 in /usr/local/lib/python3.10/dist-packages (from requests<3.0.0,>=2.13.0->spacy<3.8.0,>=3.7.0->ru-core-news-lg==3.7.0) (3.10)\n",
            "Requirement already satisfied: urllib3<3,>=1.21.1 in /usr/local/lib/python3.10/dist-packages (from requests<3.0.0,>=2.13.0->spacy<3.8.0,>=3.7.0->ru-core-news-lg==3.7.0) (2.2.3)\n",
            "Requirement already satisfied: certifi>=2017.4.17 in /usr/local/lib/python3.10/dist-packages (from requests<3.0.0,>=2.13.0->spacy<3.8.0,>=3.7.0->ru-core-news-lg==3.7.0) (2024.8.30)\n",
            "Requirement already satisfied: blis<0.8.0,>=0.7.8 in /usr/local/lib/python3.10/dist-packages (from thinc<8.3.0,>=8.2.2->spacy<3.8.0,>=3.7.0->ru-core-news-lg==3.7.0) (0.7.11)\n",
            "Requirement already satisfied: confection<1.0.0,>=0.0.1 in /usr/local/lib/python3.10/dist-packages (from thinc<8.3.0,>=8.2.2->spacy<3.8.0,>=3.7.0->ru-core-news-lg==3.7.0) (0.1.5)\n",
            "Requirement already satisfied: click>=8.0.0 in /usr/local/lib/python3.10/dist-packages (from typer<1.0.0,>=0.3.0->spacy<3.8.0,>=3.7.0->ru-core-news-lg==3.7.0) (8.1.7)\n",
            "Requirement already satisfied: shellingham>=1.3.0 in /usr/local/lib/python3.10/dist-packages (from typer<1.0.0,>=0.3.0->spacy<3.8.0,>=3.7.0->ru-core-news-lg==3.7.0) (1.5.4)\n",
            "Requirement already satisfied: rich>=10.11.0 in /usr/local/lib/python3.10/dist-packages (from typer<1.0.0,>=0.3.0->spacy<3.8.0,>=3.7.0->ru-core-news-lg==3.7.0) (13.9.4)\n",
            "Requirement already satisfied: cloudpathlib<1.0.0,>=0.7.0 in /usr/local/lib/python3.10/dist-packages (from weasel<0.5.0,>=0.1.0->spacy<3.8.0,>=3.7.0->ru-core-news-lg==3.7.0) (0.20.0)\n",
            "Requirement already satisfied: smart-open<8.0.0,>=5.2.1 in /usr/local/lib/python3.10/dist-packages (from weasel<0.5.0,>=0.1.0->spacy<3.8.0,>=3.7.0->ru-core-news-lg==3.7.0) (7.0.5)\n",
            "Requirement already satisfied: MarkupSafe>=2.0 in /usr/local/lib/python3.10/dist-packages (from jinja2->spacy<3.8.0,>=3.7.0->ru-core-news-lg==3.7.0) (3.0.2)\n",
            "Requirement already satisfied: marisa-trie>=0.7.7 in /usr/local/lib/python3.10/dist-packages (from language-data>=1.2->langcodes<4.0.0,>=3.2.0->spacy<3.8.0,>=3.7.0->ru-core-news-lg==3.7.0) (1.2.1)\n",
            "Requirement already satisfied: markdown-it-py>=2.2.0 in /usr/local/lib/python3.10/dist-packages (from rich>=10.11.0->typer<1.0.0,>=0.3.0->spacy<3.8.0,>=3.7.0->ru-core-news-lg==3.7.0) (3.0.0)\n",
            "Requirement already satisfied: pygments<3.0.0,>=2.13.0 in /usr/local/lib/python3.10/dist-packages (from rich>=10.11.0->typer<1.0.0,>=0.3.0->spacy<3.8.0,>=3.7.0->ru-core-news-lg==3.7.0) (2.18.0)\n",
            "Requirement already satisfied: wrapt in /usr/local/lib/python3.10/dist-packages (from smart-open<8.0.0,>=5.2.1->weasel<0.5.0,>=0.1.0->spacy<3.8.0,>=3.7.0->ru-core-news-lg==3.7.0) (1.16.0)\n",
            "Requirement already satisfied: mdurl~=0.1 in /usr/local/lib/python3.10/dist-packages (from markdown-it-py>=2.2.0->rich>=10.11.0->typer<1.0.0,>=0.3.0->spacy<3.8.0,>=3.7.0->ru-core-news-lg==3.7.0) (0.1.2)\n",
            "Downloading pymorphy3-2.0.2-py3-none-any.whl (53 kB)\n",
            "\u001b[2K   \u001b[90m━━━━━━━━━━━━━━━━━━━━━━━━━━━━━━━━━━━━━━━━\u001b[0m \u001b[32m53.8/53.8 kB\u001b[0m \u001b[31m2.2 MB/s\u001b[0m eta \u001b[36m0:00:00\u001b[0m\n",
            "\u001b[?25hDownloading DAWG_Python-0.7.2-py2.py3-none-any.whl (11 kB)\n",
            "Downloading pymorphy3_dicts_ru-2.4.417150.4580142-py2.py3-none-any.whl (8.4 MB)\n",
            "\u001b[2K   \u001b[90m━━━━━━━━━━━━━━━━━━━━━━━━━━━━━━━━━━━━━━━━\u001b[0m \u001b[32m8.4/8.4 MB\u001b[0m \u001b[31m49.2 MB/s\u001b[0m eta \u001b[36m0:00:00\u001b[0m\n",
            "\u001b[?25hInstalling collected packages: pymorphy3-dicts-ru, dawg-python, pymorphy3, ru-core-news-lg\n",
            "Successfully installed dawg-python-0.7.2 pymorphy3-2.0.2 pymorphy3-dicts-ru-2.4.417150.4580142 ru-core-news-lg-3.7.0\n",
            "\u001b[38;5;2m✔ Download and installation successful\u001b[0m\n",
            "You can now load the package via spacy.load('ru_core_news_lg')\n",
            "\u001b[38;5;3m⚠ Restart to reload dependencies\u001b[0m\n",
            "If you are in a Jupyter or Colab notebook, you may need to restart Python in\n",
            "order to load all the package's dependencies. You can do this by selecting the\n",
            "'Restart kernel' or 'Restart runtime' option.\n"
          ]
        }
      ]
    },
    {
      "cell_type": "code",
      "source": [
        "# Определение слову задавать не будем - обойдемся одной лексемой \"растение\".\n",
        "definition_plant = 'растение'"
      ],
      "metadata": {
        "id": "oKKEwxGplF1q"
      },
      "execution_count": null,
      "outputs": []
    },
    {
      "cell_type": "code",
      "source": [
        "# Векторизуем сначала наше растение.\n",
        "nlp_plant = nlp(definition_plant)"
      ],
      "metadata": {
        "id": "hnomU20usXa9"
      },
      "execution_count": null,
      "outputs": []
    },
    {
      "cell_type": "code",
      "source": [
        "# Напишем функцию, которая будет определять семантическое расстояние от вектора\n",
        "# лексемы \"растение\" к вектору каждого контекста - косинусное расстояние. Если расстояние равно 1,\n",
        "# значит, контекст тождественен слову растение. Чем оно ближе к 1, тем более контекст\n",
        "# семантически похож на растение, т.е. указывает на фитоним. А чем ближе к 0,\n",
        "# тем он дальше от фитонима. Отрицательные значения совсем не играют роли.\n",
        "def cos_sim_plant(text):\n",
        "    text_nlp = nlp(text)\n",
        "    return nlp_plant.similarity(text_nlp)"
      ],
      "metadata": {
        "id": "THOoJN5whhFD"
      },
      "execution_count": null,
      "outputs": []
    },
    {
      "cell_type": "code",
      "source": [
        "# Посмотрим на примере нескольких контекстов, какие получаются значения\n",
        "# косинусного расстояния.\n",
        "print(cos_sim_plant('пѣнѣ съ красной селитры, ни въ  румянахъ которые привозятъ къ намъ изъ Иллиріи'))\n",
        "print(cos_sim_plant('Употребленіе травы  румянъ '))\n",
        "print(cos_sim_plant('как крахмал из сарацинского пшена, а  румяна добываются китайцами из сафлора (carthamus tinctorius). '))\n",
        "# У первого контекста значение очень близко к 0. Здесь румяна - это просто косметика.\n",
        "# Второй контекст получил сильно большее значение - по самому контексту видно,\n",
        "# что здесь речь именно о траве - румяне.\n",
        "# В третьем контексте тоже упомянуто растение - сафлор. Оно называется не \"румяна\",\n",
        "# но оно тоже фитоним. Если бы мы хотели поискать именно фитонимы, то 0.16 -\n",
        "# значение косинусного расстония для именно третьего контекста, мы бы задали как пороговое."
      ],
      "metadata": {
        "colab": {
          "base_uri": "https://localhost:8080/"
        },
        "id": "z6wgw0DUiRyT",
        "outputId": "a9401790-d4b4-40fc-c89e-c9a624dcb879"
      },
      "execution_count": null,
      "outputs": [
        {
          "output_type": "stream",
          "name": "stdout",
          "text": [
            "0.059415570324038144\n",
            "0.4467041338398088\n",
            "0.16124935432088472\n"
          ]
        }
      ]
    },
    {
      "cell_type": "code",
      "source": [
        "# Напишем функцию, которая возвращает число 2, если косинусное расстояние больше\n",
        "# или равно 0.16, и 1 - если оно меньше.\n",
        "def cossim_is_plant(text):\n",
        "    text_nlp = nlp(text)\n",
        "    sim = nlp_plant.similarity(text_nlp)\n",
        "    if sim >= 0.16:\n",
        "        return 2\n",
        "    else:\n",
        "        return 1"
      ],
      "metadata": {
        "id": "gXJV4FU5uQia"
      },
      "execution_count": null,
      "outputs": []
    },
    {
      "cell_type": "code",
      "source": [
        "# Обработаем наши котнексты этой функцией.\n",
        "spacy_rumyana = contexts.apply(cossim_is_plant)"
      ],
      "metadata": {
        "colab": {
          "base_uri": "https://localhost:8080/"
        },
        "id": "nqbug67QtoJO",
        "outputId": "c2e3db23-6a07-402b-c0b4-98c918898440"
      },
      "execution_count": null,
      "outputs": [
        {
          "output_type": "stream",
          "name": "stderr",
          "text": [
            "<ipython-input-49-1350ee28a211>:5: UserWarning: [W008] Evaluating Doc.similarity based on empty vectors.\n",
            "  sim = nlp_plant.similarity(text_nlp)\n"
          ]
        }
      ]
    },
    {
      "cell_type": "code",
      "source": [
        "# Посмотрим на потенциальные фитонимы.\n",
        "contexts[spacy_rumyana[spacy_rumyana==2].index].to_list()\n",
        "# Контекстов немного. Несколько из них явно отсылают к фитонимам.\n",
        "# В нескольких есть упоминания рецептов изготовления румян, что тоже неплохо.\n",
        "# Ну и пара нерелевантных контекстов тоже попала, но это неизбежно.\n",
        "# Чем выше будет пороговое значение косинусного расстояния, тем больше контекстов отсеется."
      ],
      "metadata": {
        "colab": {
          "base_uri": "https://localhost:8080/"
        },
        "id": "GfyzZFUgu-_O",
        "outputId": "20d460f2-5e14-495e-c486-b27dd528ceaf"
      },
      "execution_count": null,
      "outputs": [
        {
          "output_type": "execute_result",
          "data": {
            "text/plain": [
              "['Употребленіе травы  румянъ ',\n",
              " 'получаютъ постоянныя, и можно сказать, цвѣтныя  румяна ',\n",
              " 'отвергая все излишние украшения, или французские  румяна которые человеку с естественным вкусом не',\n",
              " 'Белила и  румяны так же в большом употреблении, но',\n",
              " 'заставил его отыскать среди банок с  румянами бумажку. ',\n",
              " 'можно было кокетничать или щеголять, как  румянами и красивыми тряпками, а потому, что',\n",
              " 'Кроме того, женщины румянятся китайскими  румянами а летом соком земляники. ',\n",
              " 'сока розовых раковин; кисточкой с этими  румянами Констанций искусно провел по своим смуглым',\n",
              " 'как крахмал из сарацинского пшена, а  румяна добываются китайцами из сафлора (carthamus tinctorius). ',\n",
              " 'искусственными приемами красноречия -- как молодая девушка  румянами и белилами. ',\n",
              " 'перезрелые китаянки употребляют в большом количестве  румяна и белила. ']"
            ]
          },
          "metadata": {},
          "execution_count": 51
        }
      ]
    }
  ]
}