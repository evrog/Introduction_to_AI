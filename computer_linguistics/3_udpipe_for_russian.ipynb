{
  "nbformat": 4,
  "nbformat_minor": 0,
  "metadata": {
    "colab": {
      "provenance": []
    },
    "kernelspec": {
      "name": "python3",
      "display_name": "Python 3"
    },
    "language_info": {
      "name": "python"
    }
  },
  "cells": [
    {
      "cell_type": "markdown",
      "source": [
        "В этом ноутбуке я поазываю пример работы с библиотекой UDPipe для морфологического и синтаксического анализа текста."
      ],
      "metadata": {
        "id": "RRbHA41T7_6Q"
      }
    },
    {
      "cell_type": "code",
      "source": [
        "# Команда !pip устанавливает (install) библиотеки для Питона.\n",
        "# Если запустить !pip freeze, можно увидеть, какие библиотеки у вас уже есть.\n",
        "# Сначала установим сам udpipe.\n",
        "!pip install ufal.udpipe\n",
        "# И еще установим дополнительную библиотеку.\n",
        "!pip install corpy"
      ],
      "metadata": {
        "colab": {
          "base_uri": "https://localhost:8080/"
        },
        "id": "PS1jT6IPB0g6",
        "outputId": "6b83ae0b-1d0c-4f1a-8595-555272825118"
      },
      "execution_count": null,
      "outputs": [
        {
          "output_type": "stream",
          "name": "stdout",
          "text": [
            "Collecting ufal.udpipe\n",
            "  Downloading ufal.udpipe-1.3.1.1-cp310-cp310-manylinux_2_17_x86_64.manylinux2014_x86_64.whl (936 kB)\n",
            "\u001b[2K     \u001b[90m━━━━━━━━━━━━━━━━━━━━━━━━━━━━━━━━━━━━━━━━\u001b[0m \u001b[32m936.8/936.8 kB\u001b[0m \u001b[31m7.2 MB/s\u001b[0m eta \u001b[36m0:00:00\u001b[0m\n",
            "\u001b[?25hInstalling collected packages: ufal.udpipe\n",
            "Successfully installed ufal.udpipe-1.3.1.1\n",
            "Collecting corpy\n",
            "  Downloading corpy-0.6.1-py3-none-any.whl (38 kB)\n",
            "Requirement already satisfied: regex in /usr/local/lib/python3.10/dist-packages (from corpy) (2023.12.25)\n",
            "Requirement already satisfied: lxml>=4.6.1 in /usr/local/lib/python3.10/dist-packages (from corpy) (4.9.4)\n",
            "Requirement already satisfied: wordcloud>=1.8.1 in /usr/local/lib/python3.10/dist-packages (from corpy) (1.9.3)\n",
            "Collecting ufal.morphodita>=1.10 (from corpy)\n",
            "  Downloading ufal.morphodita-1.11.2.1-cp310-cp310-manylinux_2_17_x86_64.manylinux2014_x86_64.whl (425 kB)\n",
            "\u001b[2K     \u001b[90m━━━━━━━━━━━━━━━━━━━━━━━━━━━━━━━━━━━━━━━━\u001b[0m \u001b[32m425.5/425.5 kB\u001b[0m \u001b[31m8.0 MB/s\u001b[0m eta \u001b[36m0:00:00\u001b[0m\n",
            "\u001b[?25hRequirement already satisfied: ufal.udpipe>=1.2 in /usr/local/lib/python3.10/dist-packages (from corpy) (1.3.1.1)\n",
            "Requirement already satisfied: numpy>=1.16 in /usr/local/lib/python3.10/dist-packages (from corpy) (1.25.2)\n",
            "Requirement already satisfied: click>=7.0 in /usr/local/lib/python3.10/dist-packages (from corpy) (8.1.7)\n",
            "Requirement already satisfied: pillow in /usr/local/lib/python3.10/dist-packages (from wordcloud>=1.8.1->corpy) (9.4.0)\n",
            "Requirement already satisfied: matplotlib in /usr/local/lib/python3.10/dist-packages (from wordcloud>=1.8.1->corpy) (3.7.1)\n",
            "Requirement already satisfied: contourpy>=1.0.1 in /usr/local/lib/python3.10/dist-packages (from matplotlib->wordcloud>=1.8.1->corpy) (1.2.1)\n",
            "Requirement already satisfied: cycler>=0.10 in /usr/local/lib/python3.10/dist-packages (from matplotlib->wordcloud>=1.8.1->corpy) (0.12.1)\n",
            "Requirement already satisfied: fonttools>=4.22.0 in /usr/local/lib/python3.10/dist-packages (from matplotlib->wordcloud>=1.8.1->corpy) (4.51.0)\n",
            "Requirement already satisfied: kiwisolver>=1.0.1 in /usr/local/lib/python3.10/dist-packages (from matplotlib->wordcloud>=1.8.1->corpy) (1.4.5)\n",
            "Requirement already satisfied: packaging>=20.0 in /usr/local/lib/python3.10/dist-packages (from matplotlib->wordcloud>=1.8.1->corpy) (24.0)\n",
            "Requirement already satisfied: pyparsing>=2.3.1 in /usr/local/lib/python3.10/dist-packages (from matplotlib->wordcloud>=1.8.1->corpy) (3.1.2)\n",
            "Requirement already satisfied: python-dateutil>=2.7 in /usr/local/lib/python3.10/dist-packages (from matplotlib->wordcloud>=1.8.1->corpy) (2.8.2)\n",
            "Requirement already satisfied: six>=1.5 in /usr/local/lib/python3.10/dist-packages (from python-dateutil>=2.7->matplotlib->wordcloud>=1.8.1->corpy) (1.16.0)\n",
            "Installing collected packages: ufal.morphodita, corpy\n",
            "Successfully installed corpy-0.6.1 ufal.morphodita-1.11.2.1\n"
          ]
        }
      ]
    },
    {
      "cell_type": "code",
      "execution_count": null,
      "metadata": {
        "colab": {
          "base_uri": "https://localhost:8080/"
        },
        "id": "jxUQP8RxoajR",
        "outputId": "17da112a-79b4-4a75-f704-7d2cc1d23d4b"
      },
      "outputs": [
        {
          "output_type": "stream",
          "name": "stdout",
          "text": [
            "--2024-05-15 05:55:25--  https://rusvectores.org/static/models/udpipe_syntagrus.model\n",
            "Resolving rusvectores.org (rusvectores.org)... 172.104.228.108\n",
            "Connecting to rusvectores.org (rusvectores.org)|172.104.228.108|:443... connected.\n",
            "HTTP request sent, awaiting response... 200 OK\n",
            "Length: 40616122 (39M)\n",
            "Saving to: ‘udpipe_syntagrus.model’\n",
            "\n",
            "udpipe_syntagrus.mo 100%[===================>]  38.73M  13.3MB/s    in 2.9s    \n",
            "\n",
            "2024-05-15 05:55:29 (13.3 MB/s) - ‘udpipe_syntagrus.model’ saved [40616122/40616122]\n",
            "\n"
          ]
        }
      ],
      "source": [
        "# Что это за библиотека - UDPipe? Это бибилиотека для \"tagging, lemmatization\n",
        "# and syntactic analysis of CoNLL-U input\" - теггирования, лемматизации и\n",
        "# синтаксического анализа данных в формате CoNLL-U. Следовательно,\n",
        "# можно взять файлы с размеченными текстами с Universal Dependencies\n",
        "# для любого языка и обучить модель для аннотирования текста.\n",
        "# https://github.com/ufal/udpipe\n",
        "# Теперь скачаем предобученную модель udpipe для русского языка,\n",
        "# созданную командой rusvectores https://rusvectores.org/ru/ .\n",
        "# Библиотека udpipe позволяет обучать свои модели для разных языков\n",
        "!wget 'https://rusvectores.org/static/models/udpipe_syntagrus.model'\n",
        "modelfile = '/content/udpipe_syntagrus.model'"
      ]
    },
    {
      "cell_type": "code",
      "source": [
        "# Импортируем инструмент для загрузки модели.\n",
        "from corpy.udpipe import Model"
      ],
      "metadata": {
        "id": "_QWGzP9KpXdm"
      },
      "execution_count": null,
      "outputs": []
    },
    {
      "cell_type": "code",
      "source": [
        "# Распаковываем модель. Она у нас сейчас на виртуальном диске в папке content.\n",
        "m = Model('/content/udpipe_syntagrus.model')"
      ],
      "metadata": {
        "id": "tV0nneCL0SFr"
      },
      "execution_count": null,
      "outputs": []
    },
    {
      "cell_type": "code",
      "source": [
        "# Основной метод для разметки текста на основе модели - это process.\n",
        "parsed = m.process('Тюмень - лучший город Земли!')"
      ],
      "metadata": {
        "id": "eEfftXvJ0rpz"
      },
      "execution_count": null,
      "outputs": []
    },
    {
      "cell_type": "code",
      "source": [
        "# Частая проблема некоммерческих бибилиотек в том, что они не user-friendly.\n",
        "# Чтоы добраться до результата парсинга, придется немного попотеть.\n",
        "# Если мы сейчас просто попробуем распечатать результат, то будет пшик.\n",
        "print(parsed)\n",
        "# generator означает, что у нас есть набор каких-то элементов внутри этой\n",
        "# переменной, но print их просто так не напечатает.\n",
        "for p in parsed:\n",
        "    print(p)\n",
        "# Более того, стоит нам один раз пройтись по этому объекту, он становится пустым.\n",
        "# Поэтому создадим снова объект parsed и созраним его в список - от греха подальше.\n",
        "parsed = list(m.process('Тюмень - лучший город Земли!'))"
      ],
      "metadata": {
        "colab": {
          "base_uri": "https://localhost:8080/"
        },
        "id": "tmrcn-9X5D1F",
        "outputId": "4551ce29-04f0-4928-de40-2f4728dfc32a"
      },
      "execution_count": null,
      "outputs": [
        {
          "output_type": "stream",
          "name": "stdout",
          "text": [
            "<generator object Model.process at 0x780f29700e40>\n",
            "<Swig Object of type 'sentence *' at 0x780f2971f4f0>\n"
          ]
        }
      ]
    },
    {
      "cell_type": "code",
      "source": [
        "# Вот теперь у нас сохранено одно распарщенное предложение, но мы не можем\n",
        "# добраться до его содержания.\n",
        "print(parsed)"
      ],
      "metadata": {
        "colab": {
          "base_uri": "https://localhost:8080/"
        },
        "id": "2fkv-0FH6rtN",
        "outputId": "a4687b92-18bf-4c7c-8dc9-d97b914622bc"
      },
      "execution_count": null,
      "outputs": [
        {
          "output_type": "stream",
          "name": "stdout",
          "text": [
            "[<Swig Object of type 'sentence *' at 0x780f2971e9b0>]\n"
          ]
        }
      ]
    },
    {
      "cell_type": "code",
      "source": [
        "# Используем функцию pprint.\n",
        "from corpy.udpipe import pprint"
      ],
      "metadata": {
        "id": "73peZVcg45Zl"
      },
      "execution_count": null,
      "outputs": []
    },
    {
      "cell_type": "code",
      "source": [
        "# Вот теперь мы видим, что UDPipe умеет парсить.\n",
        "# Смотрите, там есть и морфология, и синтаксис. И все размечено правильно.\n",
        "pprint(list(parsed))"
      ],
      "metadata": {
        "colab": {
          "base_uri": "https://localhost:8080/"
        },
        "id": "Ga8azEvA07Iz",
        "outputId": "dc8a3224-38af-4109-8ad5-7021db1ca683"
      },
      "execution_count": null,
      "outputs": [
        {
          "output_type": "stream",
          "name": "stdout",
          "text": [
            "[Sentence(\n",
            "   comments=[\n",
            "     '# newdoc',\n",
            "     '# newpar',\n",
            "     '# sent_id = 1',\n",
            "     '# text = Тюмень - лучший город Земли!'],\n",
            "   words=[\n",
            "     Word(id=0, <root>),\n",
            "     Word(id=1,\n",
            "          form='Тюмень',\n",
            "          lemma='тюмень',\n",
            "          upostag='PROPN',\n",
            "          feats='Animacy=Inan|Case=Nom|Gender=Fem|Number=Sing',\n",
            "          head=4,\n",
            "          deprel='nsubj'),\n",
            "     Word(id=2, form='-', lemma='-', upostag='PUNCT', head=1, deprel='punct'),\n",
            "     Word(id=3,\n",
            "          form='лучший',\n",
            "          lemma='лучший',\n",
            "          upostag='ADJ',\n",
            "          feats='Case=Nom|Degree=Pos|Gender=Masc|Number=Sing',\n",
            "          head=4,\n",
            "          deprel='amod'),\n",
            "     Word(id=4,\n",
            "          form='город',\n",
            "          lemma='город',\n",
            "          upostag='NOUN',\n",
            "          feats='Animacy=Inan|Case=Nom|Gender=Masc|Number=Sing',\n",
            "          head=0,\n",
            "          deprel='root'),\n",
            "     Word(id=5,\n",
            "          form='Земли',\n",
            "          lemma='земля',\n",
            "          upostag='PROPN',\n",
            "          feats='Animacy=Inan|Case=Gen|Gender=Fem|Number=Sing',\n",
            "          head=4,\n",
            "          deprel='nmod',\n",
            "          misc='SpaceAfter=No'),\n",
            "     Word(id=6,\n",
            "          form='!',\n",
            "          lemma='!',\n",
            "          upostag='PUNCT',\n",
            "          head=5,\n",
            "          deprel='punct',\n",
            "          misc='SpaceAfter=No')])]\n"
          ]
        }
      ]
    },
    {
      "cell_type": "code",
      "source": [
        "# UDPipe нашел одно предложение в тексте.\n",
        "for p in parsed:\n",
        "    print(p.comments[2])\n",
        "# Такие сложности в доступом отчасти связаны с тем, что инструмент\n",
        "# изначально написан на C++."
      ],
      "metadata": {
        "colab": {
          "base_uri": "https://localhost:8080/"
        },
        "id": "WAOq2eFc8iV9",
        "outputId": "8b3e8f4e-009e-442d-a3a6-e30a289dc71f"
      },
      "execution_count": null,
      "outputs": [
        {
          "output_type": "stream",
          "name": "stdout",
          "text": [
            "# sent_id = 1\n"
          ]
        }
      ]
    },
    {
      "cell_type": "code",
      "source": [
        "# Доберемся до начальных форм слов при помощи цикла for.\n",
        "for w in parsed[0].words:\n",
        "    print(w.lemma)\n",
        "# Можем сохранить их в список при помощи list comprehension.\n",
        "[w.lemma for w in parsed[0].words]"
      ],
      "metadata": {
        "colab": {
          "base_uri": "https://localhost:8080/"
        },
        "id": "FJw7-Lon76qm",
        "outputId": "25f50abd-62bc-4d51-da2a-f773105e1170"
      },
      "execution_count": null,
      "outputs": [
        {
          "output_type": "stream",
          "name": "stdout",
          "text": [
            "<root>\n",
            "тюмень\n",
            "-\n",
            "лучший\n",
            "город\n",
            "земля\n",
            "!\n"
          ]
        },
        {
          "output_type": "execute_result",
          "data": {
            "text/plain": [
              "['<root>', 'тюмень', '-', 'лучший', 'город', 'земля', '!']"
            ]
          },
          "metadata": {},
          "execution_count": 58
        }
      ]
    },
    {
      "cell_type": "code",
      "source": [
        "# А теперь вытащим все именованные сущности.\n",
        "for w in parsed[0].words:\n",
        "    if w.upostag == 'PROPN':\n",
        "        print(w.form)"
      ],
      "metadata": {
        "colab": {
          "base_uri": "https://localhost:8080/"
        },
        "id": "QPgBBLg6_O6O",
        "outputId": "50784221-bdbd-4bdb-e6c3-0a3ca9b94e3d"
      },
      "execution_count": null,
      "outputs": [
        {
          "output_type": "stream",
          "name": "stdout",
          "text": [
            "Тюмень\n",
            "Земли\n"
          ]
        }
      ]
    },
    {
      "cell_type": "markdown",
      "source": [
        "Повторю, UDPipe  - это инструмент для теггирования, лемматизации и синтаксического анализа. (В разметке выше синтаксис есть, кстати, в тэгах head и deprel. Про них будем говорить отдельно.) Для более сложных задач нужно достраивать \"лингвистическую трубу\" после обработки текста UDPipe'ом. Но я решила законичть этот ноутбук маленьким бонусом. В ботах часто возникает необходимость поставить слово в нужную форму после числительного. Для русского языка есть целый отдельный инструмент для такой задачи - pymorphy2."
      ],
      "metadata": {
        "id": "OhLR5E75Dn9G"
      }
    },
    {
      "cell_type": "code",
      "source": [
        "!pip install pymorphy2"
      ],
      "metadata": {
        "id": "-k9rd6wxrnNP",
        "colab": {
          "base_uri": "https://localhost:8080/"
        },
        "outputId": "2e2b2fb9-2b6c-473b-c7f1-6f437e56e519"
      },
      "execution_count": null,
      "outputs": [
        {
          "output_type": "stream",
          "name": "stdout",
          "text": [
            "Collecting pymorphy2\n",
            "  Downloading pymorphy2-0.9.1-py3-none-any.whl (55 kB)\n",
            "\u001b[?25l     \u001b[90m━━━━━━━━━━━━━━━━━━━━━━━━━━━━━━━━━━━━━━━━\u001b[0m \u001b[32m0.0/55.5 kB\u001b[0m \u001b[31m?\u001b[0m eta \u001b[36m-:--:--\u001b[0m\r\u001b[2K     \u001b[90m━━━━━━━━━━━━━━━━━━━━━━━━━━━━━━━━━━━━━━━━\u001b[0m \u001b[32m55.5/55.5 kB\u001b[0m \u001b[31m1.5 MB/s\u001b[0m eta \u001b[36m0:00:00\u001b[0m\n",
            "\u001b[?25hCollecting dawg-python>=0.7.1 (from pymorphy2)\n",
            "  Downloading DAWG_Python-0.7.2-py2.py3-none-any.whl (11 kB)\n",
            "Collecting pymorphy2-dicts-ru<3.0,>=2.4 (from pymorphy2)\n",
            "  Downloading pymorphy2_dicts_ru-2.4.417127.4579844-py2.py3-none-any.whl (8.2 MB)\n",
            "\u001b[2K     \u001b[90m━━━━━━━━━━━━━━━━━━━━━━━━━━━━━━━━━━━━━━━━\u001b[0m \u001b[32m8.2/8.2 MB\u001b[0m \u001b[31m49.9 MB/s\u001b[0m eta \u001b[36m0:00:00\u001b[0m\n",
            "\u001b[?25hCollecting docopt>=0.6 (from pymorphy2)\n",
            "  Downloading docopt-0.6.2.tar.gz (25 kB)\n",
            "  Preparing metadata (setup.py) ... \u001b[?25l\u001b[?25hdone\n",
            "Building wheels for collected packages: docopt\n",
            "  Building wheel for docopt (setup.py) ... \u001b[?25l\u001b[?25hdone\n",
            "  Created wheel for docopt: filename=docopt-0.6.2-py2.py3-none-any.whl size=13706 sha256=306b4bc91f8447e6157aaa6f07f036b28c81dfc575feee40b35b514e51c79a1e\n",
            "  Stored in directory: /root/.cache/pip/wheels/fc/ab/d4/5da2067ac95b36618c629a5f93f809425700506f72c9732fac\n",
            "Successfully built docopt\n",
            "Installing collected packages: pymorphy2-dicts-ru, docopt, dawg-python, pymorphy2\n",
            "Successfully installed dawg-python-0.7.2 docopt-0.6.2 pymorphy2-0.9.1 pymorphy2-dicts-ru-2.4.417127.4579844\n"
          ]
        }
      ]
    },
    {
      "cell_type": "code",
      "source": [
        "import pymorphy2\n",
        "morph = pymorphy2.MorphAnalyzer()"
      ],
      "metadata": {
        "id": "VxrGmmFZHTKQ"
      },
      "execution_count": null,
      "outputs": []
    },
    {
      "cell_type": "code",
      "source": [
        "coin = morph.parse('монета')[0]"
      ],
      "metadata": {
        "id": "6_38Um_AHIeK"
      },
      "execution_count": null,
      "outputs": []
    },
    {
      "cell_type": "code",
      "source": [
        "print(f'ноль {coin.make_agree_with_number(0).word}')\n",
        "print(f'одна {coin.make_agree_with_number(1).word}')\n",
        "print(f'две {coin.make_agree_with_number(2).word}')\n",
        "print(f'пять {coin.make_agree_with_number(5).word}')\n",
        "print(f'двадцать одна {coin.make_agree_with_number(21).word}')\n",
        "print(f'тысяча {coin.make_agree_with_number(1000).word}')\n",
        "print(f'сто тысяч {coin.make_agree_with_number(100000).word}')\n",
        "# А если захотите перевести число, написанное цифрой, в буквенный вид,\n",
        "# то есть библиотека num2words."
      ],
      "metadata": {
        "colab": {
          "base_uri": "https://localhost:8080/"
        },
        "id": "tm36eSTRHa7w",
        "outputId": "ebf761a8-f52f-421f-9bf0-c38525767297"
      },
      "execution_count": null,
      "outputs": [
        {
          "output_type": "stream",
          "name": "stdout",
          "text": [
            "ноль монет\n",
            "одна монета\n",
            "две монеты\n",
            "пять монет\n",
            "двадцать одна монета\n",
            "тысяча монет\n",
            "сто тысяч монет\n"
          ]
        }
      ]
    }
  ]
}