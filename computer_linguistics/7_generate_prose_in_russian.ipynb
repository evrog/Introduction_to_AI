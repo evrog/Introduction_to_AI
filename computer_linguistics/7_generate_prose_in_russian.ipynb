{
  "nbformat": 4,
  "nbformat_minor": 0,
  "metadata": {
    "colab": {
      "provenance": []
    },
    "kernelspec": {
      "name": "python3",
      "display_name": "Python 3"
    },
    "language_info": {
      "name": "python"
    }
  },
  "cells": [
    {
      "cell_type": "markdown",
      "source": [
        "Используем модель rugpt3large от команды, часть которой точно работала в Сбере, и бибилиотеку Transformers, чтобы вот так легко парой строк кода сгенерить прозаический текст."
      ],
      "metadata": {
        "id": "7dHLYG4X7blp"
      }
    },
    {
      "cell_type": "code",
      "execution_count": null,
      "metadata": {
        "id": "zr7zgP-p4FoZ"
      },
      "outputs": [],
      "source": [
        "from transformers import pipeline"
      ]
    },
    {
      "cell_type": "code",
      "source": [
        "generator = pipeline('text-generation', model='ai-forever/rugpt3large_based_on_gpt2')"
      ],
      "metadata": {
        "id": "Z29wKGrx4qyc"
      },
      "execution_count": null,
      "outputs": []
    },
    {
      "cell_type": "code",
      "source": [
        "text = generator(\"Жил-был\",\n",
        "                 max_length=300,\n",
        "                 truncation=True,\n",
        "                 do_sample=True,\n",
        "                 temperature=0.7)"
      ],
      "metadata": {
        "id": "21KhWM9H4vJK"
      },
      "execution_count": null,
      "outputs": []
    },
    {
      "cell_type": "code",
      "source": [
        "print(text[0]['generated_text'])"
      ],
      "metadata": {
        "colab": {
          "base_uri": "https://localhost:8080/"
        },
        "id": "Tafq_DNyJK2t",
        "outputId": "5c8da6e8-ac72-44a6-a942-6459829f8043"
      },
      "execution_count": null,
      "outputs": [
        {
          "output_type": "stream",
          "name": "stdout",
          "text": [
            "Жил-был один мудрец, который в старости пришел в свое имение и увидел, что из земли, из глубины его, вылезают какие-то существа и пожирают его скот и все его добро. Тогда он собрал всех своих слуг, всех крестьян, и сказал им:\n",
            "— Почему вы не пускаете меня в дом и не прогоняете прочь этих чудовищ? Ведь я вам платил за то, чтобы вы не пускали меня.\n",
            "— Мы никого не пускаем, — сказали они, — потому что нам стыдно прогнать тебя.\n",
            "— Ах, так! Тогда я и в самом деле не могу вам больше платить! — воскликнул мудрец.\n",
            "— Так как же нам быть? — спросили крестьяне.\n",
            "— А вот как, — отвечал мудрец. — Не впускайте меня в дом, потому что я не могу есть и пить в вашем присутствии.\n",
            "И, выйдя из дома, мудрец пошел по дороге и, дойдя до места, где дорога делала крутой поворот, свернул с нее и пошел по этому склону. А за ним вслед шли его слуги и крестьяне и все, кого он встречал.\n",
            "Пошел он по горам и долам, по долинам и по взгорьям и шел, пока не вышел к морю. А там увидел он, что посреди моря стоит замок, а вокруг замка стоит стража.\n",
            "— Ну, — сказал мудрец, — теперь я могу\n"
          ]
        }
      ]
    }
  ]
}