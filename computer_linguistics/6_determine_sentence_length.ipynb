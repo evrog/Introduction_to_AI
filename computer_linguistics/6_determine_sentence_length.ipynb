{
  "nbformat": 4,
  "nbformat_minor": 0,
  "metadata": {
    "colab": {
      "provenance": []
    },
    "kernelspec": {
      "name": "python3",
      "display_name": "Python 3"
    },
    "language_info": {
      "name": "python"
    }
  },
  "cells": [
    {
      "cell_type": "markdown",
      "source": [
        "В этом ноутбуке мы определим примерное количество слов в предложениях романа \"Война и мир\" Л. Толстого и сравним их с длиной предложений в рассказе В. Астафьева \"Васюткино озеро\"."
      ],
      "metadata": {
        "id": "-Orn2SVyxkEs"
      }
    },
    {
      "cell_type": "code",
      "execution_count": null,
      "metadata": {
        "colab": {
          "base_uri": "https://localhost:8080/"
        },
        "id": "pFfM3FLhpAWJ",
        "outputId": "d978d40f-9cfb-494f-e84c-a6d38c563ea7"
      },
      "outputs": [
        {
          "output_type": "stream",
          "name": "stdout",
          "text": [
            "--2024-12-14 20:27:21--  https://drive.google.com/uc?export=download&id=1ZIElnB1MivsynYRkd5XkrrXqiko-HR0d\n",
            "Resolving drive.google.com (drive.google.com)... 74.125.20.101, 74.125.20.100, 74.125.20.139, ...\n",
            "Connecting to drive.google.com (drive.google.com)|74.125.20.101|:443... connected.\n",
            "HTTP request sent, awaiting response... 303 See Other\n",
            "Location: https://drive.usercontent.google.com/download?id=1ZIElnB1MivsynYRkd5XkrrXqiko-HR0d&export=download [following]\n",
            "--2024-12-14 20:27:21--  https://drive.usercontent.google.com/download?id=1ZIElnB1MivsynYRkd5XkrrXqiko-HR0d&export=download\n",
            "Resolving drive.usercontent.google.com (drive.usercontent.google.com)... 172.253.117.132, 2607:f8b0:400e:c0a::84\n",
            "Connecting to drive.usercontent.google.com (drive.usercontent.google.com)|172.253.117.132|:443... connected.\n",
            "HTTP request sent, awaiting response... 200 OK\n",
            "Length: 2730682 (2.6M) [application/octet-stream]\n",
            "Saving to: ‘leo.txt’\n",
            "\n",
            "leo.txt             100%[===================>]   2.60M  --.-KB/s    in 0.02s   \n",
            "\n",
            "2024-12-14 20:27:24 (144 MB/s) - ‘leo.txt’ saved [2730682/2730682]\n",
            "\n",
            "--2024-12-14 20:27:24--  https://docs.google.com/uc?export=download&id=15H5OfD3eabJz6TdmFj-8H7-rVQNdnCky\n",
            "Resolving docs.google.com (docs.google.com)... 173.194.202.101, 173.194.202.138, 173.194.202.102, ...\n",
            "Connecting to docs.google.com (docs.google.com)|173.194.202.101|:443... connected.\n",
            "HTTP request sent, awaiting response... 303 See Other\n",
            "Location: https://drive.usercontent.google.com/download?id=15H5OfD3eabJz6TdmFj-8H7-rVQNdnCky&export=download [following]\n",
            "--2024-12-14 20:27:24--  https://drive.usercontent.google.com/download?id=15H5OfD3eabJz6TdmFj-8H7-rVQNdnCky&export=download\n",
            "Resolving drive.usercontent.google.com (drive.usercontent.google.com)... 172.253.117.132, 2607:f8b0:400e:c0a::84\n",
            "Connecting to drive.usercontent.google.com (drive.usercontent.google.com)|172.253.117.132|:443... connected.\n",
            "HTTP request sent, awaiting response... 200 OK\n",
            "Length: 84147 (82K) [application/octet-stream]\n",
            "Saving to: ‘oz.txt’\n",
            "\n",
            "oz.txt              100%[===================>]  82.17K  --.-KB/s    in 0.001s  \n",
            "\n",
            "2024-12-14 20:27:26 (97.0 MB/s) - ‘oz.txt’ saved [84147/84147]\n",
            "\n"
          ]
        }
      ],
      "source": [
        "# Скачаем два текста: \"Войну и мир\" Толстого и \"Васюткино озеро\" Астафьева.\n",
        "!wget 'https://drive.google.com/uc?export=download&id=1ZIElnB1MivsynYRkd5XkrrXqiko-HR0d' -O 'leo.txt'\n",
        "!wget 'https://docs.google.com/uc?export=download&id=15H5OfD3eabJz6TdmFj-8H7-rVQNdnCky' -O 'oz.txt'"
      ]
    },
    {
      "cell_type": "code",
      "source": [
        "# Создадим переменные с путями к файлам.\n",
        "leo_file = 'leo.txt'\n",
        "oz_file = 'oz.txt'"
      ],
      "metadata": {
        "id": "FDNiER4zqMBG"
      },
      "execution_count": null,
      "outputs": []
    },
    {
      "cell_type": "code",
      "source": [
        "# Откроем файлы и создадим переменные с текстами этих файлов.\n",
        "with open(leo_file, 'r') as leo:\n",
        "    leo_text = leo.read()\n",
        "\n",
        "with open(oz_file, 'r') as oz:\n",
        "    oz_text = oz.read()"
      ],
      "metadata": {
        "id": "m6vhR-QErs40"
      },
      "execution_count": null,
      "outputs": []
    },
    {
      "cell_type": "code",
      "source": [
        "# Считать предложения будем библиотекой NLTK.\n",
        "import nltk"
      ],
      "metadata": {
        "id": "eNuBmTZIwqER"
      },
      "execution_count": null,
      "outputs": []
    },
    {
      "cell_type": "code",
      "source": [
        "# Импортируем нужный модуль и скачаем еще пару зависимых модулей.\n",
        "from nltk.tokenize import sent_tokenize\n",
        "nltk.download('punkt')\n",
        "nltk.download('punkt_tab')"
      ],
      "metadata": {
        "colab": {
          "base_uri": "https://localhost:8080/"
        },
        "id": "P_9az3SRtb9E",
        "outputId": "1d32973c-7180-4025-9b53-e00f7712646f"
      },
      "execution_count": null,
      "outputs": [
        {
          "output_type": "stream",
          "name": "stderr",
          "text": [
            "[nltk_data] Downloading package punkt to /root/nltk_data...\n",
            "[nltk_data]   Package punkt is already up-to-date!\n",
            "[nltk_data] Downloading package punkt_tab to /root/nltk_data...\n",
            "[nltk_data]   Unzipping tokenizers/punkt_tab.zip.\n"
          ]
        },
        {
          "output_type": "execute_result",
          "data": {
            "text/plain": [
              "True"
            ]
          },
          "metadata": {},
          "execution_count": 8
        }
      ]
    },
    {
      "cell_type": "code",
      "source": [
        "# Разбиваем текст на предложения, в параметрах указываем русский язык.\n",
        "leo_sents = sent_tokenize(leo_text, language='russian')\n",
        "oz_sents = sent_tokenize(oz_text, language='russian')"
      ],
      "metadata": {
        "collapsed": true,
        "id": "k9bJGOifwmIZ"
      },
      "execution_count": null,
      "outputs": []
    },
    {
      "cell_type": "code",
      "source": [
        "# Посчитаем, сколько всего предложений в двух текстах.\n",
        "total_leo_sents = len(leo_sents)\n",
        "total_oz_sents = len(oz_sents)\n",
        "# Т.к. \"Война и мир\" - роман, а \"Васюткино озеро\" - рассказ, то, конечно,\n",
        "# в \"Озере\" предложений меньше. Но по поводу их длины отмечу, что можно\n",
        "# представить рассказ и из очень длинных предложений. Просто их будет меньше.\n",
        "# А роман может быть написан и не очень длинными предложениями.\n",
        "print(f'Число предложений в \"Войне и мире\": {total_leo_sents}, в \"Васюткином озере\": {total_oz_sents}.')"
      ],
      "metadata": {
        "colab": {
          "base_uri": "https://localhost:8080/"
        },
        "id": "eOGntIS7zaQg",
        "outputId": "9a4dd330-8bc3-4ab0-cc40-d73ef1a7661c"
      },
      "execution_count": null,
      "outputs": [
        {
          "output_type": "stream",
          "name": "stdout",
          "text": [
            "Число предложений в \"Войне и мире\": 17252, \"Васюткином озере\": 792.\n"
          ]
        }
      ]
    },
    {
      "cell_type": "code",
      "source": [
        "# Более показательной будет средняя длина предложений. Посчитаем грубо, деля\n",
        "# предложения на слова по пробелам методом split.\n",
        "length_of_leo_sents = [len(s.split()) for s in leo_sents]\n",
        "length_of_oz_sents = [len(s.split()) for s in oz_sents]\n",
        "print(f'Средняя длина предложения в \"Войне и мире\": {sum(length_of_leo_sents)/total_leo_sents}, в \"Васюткином озере\": {sum(length_of_oz_sents)/total_oz_sents}.')\n",
        "# У Толстого ожидаемо в среднем предложения длиннее."
      ],
      "metadata": {
        "colab": {
          "base_uri": "https://localhost:8080/"
        },
        "id": "bWTbH4Z0xTv5",
        "outputId": "71032adf-9563-4e92-bde2-77789ddd5107"
      },
      "execution_count": null,
      "outputs": [
        {
          "output_type": "stream",
          "name": "stdout",
          "text": [
            "Средняя длина предложения в \"Войне и мире\": 14.183341061905866, \"Васюткином озере\": 9.231060606060606.\n"
          ]
        }
      ]
    },
    {
      "cell_type": "code",
      "source": [
        "# Посмотрим на максимальные длины предложений.\n",
        "print(f'Максимальная длина предложения в \"Войне и мире\": {max(length_of_leo_sents)}, в \"Васюткином озере\": {max(length_of_oz_sents)}.')\n",
        "# Толстой лидирует очень значительно."
      ],
      "metadata": {
        "colab": {
          "base_uri": "https://localhost:8080/"
        },
        "id": "jAeTq1tKxfyv",
        "outputId": "fe6399a5-d47d-452e-b44b-1f0f68734f97"
      },
      "execution_count": null,
      "outputs": [
        {
          "output_type": "stream",
          "name": "stdout",
          "text": [
            "Максимальная длина предложения в \"Войне и мире\": 114, в \"Васюткином озере\": 41.\n"
          ]
        }
      ]
    },
    {
      "cell_type": "code",
      "source": [
        "# Последнее, что я хочу сделать, это посмотреть на распределение предложений по\n",
        "# их длине - построим график распределения при помощи matplotlib\n",
        "import matplotlib.pyplot as plt"
      ],
      "metadata": {
        "id": "6h6fuQi5xiun"
      },
      "execution_count": null,
      "outputs": []
    },
    {
      "cell_type": "code",
      "source": [
        "# Само распределение посчитаем с Counter.\n",
        "from collections import Counter"
      ],
      "metadata": {
        "id": "Cyn0wSteyE9Q"
      },
      "execution_count": null,
      "outputs": []
    },
    {
      "cell_type": "code",
      "source": [
        "# Посчитаем, сколько в текстах предложений разной длины - для этого Counter\n",
        "# создаст словарь, где ключем будет длина предложения, а значением - сколько\n",
        "# предложений таковой длины встретилось в тексте.\n",
        "count_leo = Counter(length_of_leo_sents)\n",
        "count_oz = Counter(length_of_oz_sents)"
      ],
      "metadata": {
        "id": "UyZ3KHuIyMpf"
      },
      "execution_count": null,
      "outputs": []
    },
    {
      "cell_type": "code",
      "source": [
        "# Теперь сортируем этот словарь по ключам, т.е. расставим полученные пары ключ-значение\n",
        "# по длине предложений от 1 слова до максимальной длины. Значение, напоминаю, это\n",
        "# сколько предложений данной длины встретилось в тексте.\n",
        "ordered_leo = sorted(count_leo.items(), key=lambda pair: pair[0])\n",
        "ordered_oz = sorted(count_oz.items(), key=lambda pair: pair[0])"
      ],
      "metadata": {
        "id": "3M57whjhyUa4"
      },
      "execution_count": null,
      "outputs": []
    },
    {
      "cell_type": "code",
      "source": [
        "# Вот такая сортировка для \"Озера\"\n",
        "ordered_oz"
      ],
      "metadata": {
        "colab": {
          "base_uri": "https://localhost:8080/"
        },
        "collapsed": true,
        "id": "yCI3Mulp1qpl",
        "outputId": "4bd4d741-c075-44ee-8eb2-00e5d2024bc7"
      },
      "execution_count": null,
      "outputs": [
        {
          "output_type": "execute_result",
          "data": {
            "text/plain": [
              "[(1, 23),\n",
              " (2, 44),\n",
              " (3, 56),\n",
              " (4, 87),\n",
              " (5, 60),\n",
              " (6, 51),\n",
              " (7, 53),\n",
              " (8, 37),\n",
              " (9, 50),\n",
              " (10, 39),\n",
              " (11, 46),\n",
              " (12, 43),\n",
              " (13, 37),\n",
              " (14, 29),\n",
              " (15, 28),\n",
              " (16, 21),\n",
              " (17, 13),\n",
              " (18, 17),\n",
              " (19, 11),\n",
              " (20, 12),\n",
              " (21, 7),\n",
              " (22, 3),\n",
              " (23, 4),\n",
              " (24, 4),\n",
              " (26, 2),\n",
              " (27, 1),\n",
              " (28, 2),\n",
              " (29, 3),\n",
              " (30, 2),\n",
              " (31, 1),\n",
              " (32, 2),\n",
              " (33, 1),\n",
              " (38, 1),\n",
              " (40, 1),\n",
              " (41, 1)]"
            ]
          },
          "metadata": {},
          "execution_count": 64
        }
      ]
    },
    {
      "cell_type": "code",
      "source": [
        "# Теперь нарисуем обычный точечный график - он нам все хорошо покажет.\n",
        "# Но нам надо нормировать значения по их доле от общего числа предложений.\n",
        "# Иначе в очень большем тексте будут очень большие значения (предложений то там больше).\n",
        "# Для этого поделим каждое значение на общее число предложений в тексте.\n",
        "plt.plot([n[1]/total_leo_sents for n in ordered_leo])\n",
        "plt.plot([n[1]/total_oz_sents for n in ordered_oz])\n",
        "# Ну что, вот и видно стратегию двух писателей: Астафьев (оранжевым) почти все свои предложения\n",
        "# ограничил длиной 20, у Толстого (синим) длина предложений плавно растет, а кривая снижается и\n",
        "# образует длинный хвост, который переходит за сотню - это и есть те самые\n",
        "# толстовские предложения."
      ],
      "metadata": {
        "colab": {
          "base_uri": "https://localhost:8080/",
          "height": 447
        },
        "id": "fQhcGRq4xuZg",
        "outputId": "5c742d07-08e9-4353-859a-f59409df1a53"
      },
      "execution_count": null,
      "outputs": [
        {
          "output_type": "execute_result",
          "data": {
            "text/plain": [
              "[<matplotlib.lines.Line2D at 0x7e22c6a6d240>]"
            ]
          },
          "metadata": {},
          "execution_count": 65
        },
        {
          "output_type": "display_data",
          "data": {
            "text/plain": [
              "<Figure size 640x480 with 1 Axes>"
            ],
            "image/png": "[encoded data removed]"
          },
          "metadata": {}
        }
      ]
    }
  ]
}