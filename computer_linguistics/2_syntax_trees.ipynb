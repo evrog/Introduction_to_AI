{
  "nbformat": 4,
  "nbformat_minor": 0,
  "metadata": {
    "colab": {
      "provenance": []
    },
    "kernelspec": {
      "name": "python3",
      "display_name": "Python 3"
    },
    "language_info": {
      "name": "python"
    }
  },
  "cells": [
    {
      "cell_type": "markdown",
      "source": [
        "Пример синтаксического разбора и визуализации при помощи синтаксических деревьев. Разбор сделан бибилиотекой Spacy, а визуализация - NLTK."
      ],
      "metadata": {
        "id": "BxafrelW-NN4"
      }
    },
    {
      "cell_type": "code",
      "source": [
        "import spacy\n",
        "from nltk import Tree"
      ],
      "metadata": {
        "id": "X72Aum2qjqz4"
      },
      "execution_count": null,
      "outputs": []
    },
    {
      "cell_type": "code",
      "source": [
        "!python -m spacy download ru_core_news_lg"
      ],
      "metadata": {
        "id": "ihlKuGudjvjQ"
      },
      "execution_count": null,
      "outputs": []
    },
    {
      "cell_type": "code",
      "source": [
        "ru_nlp = spacy.load('ru_core_news_lg')"
      ],
      "metadata": {
        "id": "JGQ5WKaaklvY"
      },
      "execution_count": null,
      "outputs": []
    },
    {
      "cell_type": "code",
      "source": [
        "doc = ru_nlp(\"Съешь ещё этих мягких французских булок, да выпей чаю.\")\n",
        "\n",
        "def to_nltk_tree(node):\n",
        "    if node.n_lefts + node.n_rights > 0:\n",
        "        return Tree(node.orth_, [to_nltk_tree(child) for child in node.children])\n",
        "    else:\n",
        "        return node.orth_"
      ],
      "metadata": {
        "id": "u8txMzf8jp0w"
      },
      "execution_count": null,
      "outputs": []
    },
    {
      "cell_type": "code",
      "source": [
        "[to_nltk_tree(sent.root).pretty_print() for sent in doc.sents]"
      ],
      "metadata": {
        "colab": {
          "base_uri": "https://localhost:8080/"
        },
        "id": "hZGzGkEw_B6-",
        "outputId": "75bacc27-72ee-4912-cf06-08431e52e253"
      },
      "execution_count": null,
      "outputs": [
        {
          "output_type": "stream",
          "name": "stdout",
          "text": [
            "             Съешь                           \n",
            "  _____________|______________________        \n",
            " |   |       булок                  выпей    \n",
            " |   |    _____|_________         ____|____   \n",
            "ещё  .  этих мягких французских  ,    да  чаю\n",
            "\n"
          ]
        },
        {
          "output_type": "execute_result",
          "data": {
            "text/plain": [
              "[None]"
            ]
          },
          "metadata": {},
          "execution_count": 8
        }
      ]
    },
    {
      "cell_type": "code",
      "source": [
        "doc = ru_nlp(\"Кошка на рогожке.\")\n",
        "\n",
        "def to_nltk_tree(node):\n",
        "    if node.n_lefts + node.n_rights > 0:\n",
        "        return Tree(node.orth_, [to_nltk_tree(child) for child in node.children])\n",
        "    else:\n",
        "        return node.orth_\n",
        "\n",
        "[to_nltk_tree(sent.root).pretty_print() for sent in doc.sents]"
      ],
      "metadata": {
        "colab": {
          "base_uri": "https://localhost:8080/"
        },
        "id": "vkTuw1sTLXXY",
        "outputId": "8a9f5db1-a455-45c6-df57-3a5ff253bef6"
      },
      "execution_count": null,
      "outputs": [
        {
          "output_type": "stream",
          "name": "stdout",
          "text": [
            "    Кошка        \n",
            "  ____|______     \n",
            " |        рогожке\n",
            " |           |    \n",
            " .           на  \n",
            "\n"
          ]
        },
        {
          "output_type": "execute_result",
          "data": {
            "text/plain": [
              "[None]"
            ]
          },
          "metadata": {},
          "execution_count": 9
        }
      ]
    },
    {
      "cell_type": "code",
      "source": [
        "doc = ru_nlp(\"Кошка лежит на рогожке.\")\n",
        "\n",
        "def to_nltk_tree(node):\n",
        "    if node.n_lefts + node.n_rights > 0:\n",
        "        return Tree(node.orth_, [to_nltk_tree(child) for child in node.children])\n",
        "    else:\n",
        "        return node.orth_\n",
        "\n",
        "[to_nltk_tree(sent.root).pretty_print() for sent in doc.sents]"
      ],
      "metadata": {
        "id": "Vh8OGUqiLdGf",
        "outputId": "473d5303-da42-4707-e5ef-371c751bddc8",
        "colab": {
          "base_uri": "https://localhost:8080/"
        }
      },
      "execution_count": null,
      "outputs": [
        {
          "output_type": "stream",
          "name": "stdout",
          "text": [
            "      лежит        \n",
            "   _____|______     \n",
            "  |     |   рогожке\n",
            "  |     |      |    \n",
            "Кошка   .      на  \n",
            "\n"
          ]
        },
        {
          "output_type": "execute_result",
          "data": {
            "text/plain": [
              "[None]"
            ]
          },
          "metadata": {},
          "execution_count": 10
        }
      ]
    }
  ]
}