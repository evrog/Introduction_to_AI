{
  "nbformat": 4,
  "nbformat_minor": 0,
  "metadata": {
    "colab": {
      "provenance": []
    },
    "kernelspec": {
      "name": "python3",
      "display_name": "Python 3"
    },
    "language_info": {
      "name": "python"
    }
  },
  "cells": [
    {
      "cell_type": "markdown",
      "source": [
        "Составим запросы к API сервиса RusVectores, чтобы получать семантические вектора слов.\n",
        "\n",
        "Чтобы получить список семантически близких слов, необходимо выполнить запрос по адресу в следующем формате:\n",
        "\n",
        "https://rusvectores.org/MODEL/WORD/api/FORMAT/\n",
        "\n",
        "- MODEL - модель, к которой мы хотим обратиться. Список моделей: https://rusvectores.org/ru/models/ **В АПИ не получится использовать модели ELMO.**\n",
        "- WORD - слово, для которого мы хотим узнать его \"семантических соседей\". Можно добавить частеречный тэг. Вы можете отправлять запросы и без него, но тогда части речи ваших слов сервер определит автоматически.\n",
        "- FORMAT - формат выходных данных, в настоящий момент это csv с разделением через табуляцию либо json."
      ],
      "metadata": {
        "id": "IYigSvukT1j9"
      }
    },
    {
      "cell_type": "code",
      "source": [
        "import requests"
      ],
      "metadata": {
        "id": "8P_UaY1iVoG2"
      },
      "execution_count": null,
      "outputs": []
    },
    {
      "cell_type": "code",
      "execution_count": null,
      "metadata": {
        "id": "TCbPz2h1Tm9l"
      },
      "outputs": [],
      "source": [
        "# Зададим модель, слово и формат.\n",
        "MODEL = 'ruscorpora_upos_cbow_300_20_2019'\n",
        "FORMAT = 'csv'\n",
        "WORD = 'кот'"
      ]
    },
    {
      "cell_type": "code",
      "source": [
        "# Соберем ссылку для запроса к серверу.\n",
        "url = 'http://rusvectores.org/'+MODEL+'/'+WORD+'/api/'+FORMAT+'/'\n",
        "print(url)"
      ],
      "metadata": {
        "colab": {
          "base_uri": "https://localhost:8080/"
        },
        "id": "SV6NfHPfUtSO",
        "outputId": "4e1ce223-92e2-4499-eac5-0bdc204c6512"
      },
      "execution_count": null,
      "outputs": [
        {
          "output_type": "stream",
          "name": "stdout",
          "text": [
            "http://rusvectores.org/ruscorpora_upos_cbow_300_20_2019/кот/api/csv/\n"
          ]
        }
      ]
    },
    {
      "cell_type": "code",
      "source": [
        "# Т.к. формат у нас .csv, мы сейчас получим в результате запроса файл.\n",
        "r = requests.get(url=url)"
      ],
      "metadata": {
        "id": "AEN9axJIVZ69"
      },
      "execution_count": null,
      "outputs": []
    },
    {
      "cell_type": "code",
      "source": [
        "print(r.text)"
      ],
      "metadata": {
        "colab": {
          "base_uri": "https://localhost:8080/"
        },
        "id": "P8zjPAgxV6st",
        "outputId": "120a3e4a-70af-418c-e40a-de6c387c8aa2"
      },
      "execution_count": null,
      "outputs": [
        {
          "output_type": "stream",
          "name": "stdout",
          "text": [
            "ruscorpora_upos_cbow_300_20_2019\n",
            "кот_NOUN\n",
            "кошка_NOUN\t0.8207473158836365\n",
            "котенок_NOUN\t0.7027614116668701\n",
            "котенка_NOUN\t0.6645157933235168\n",
            "кошечка_NOUN\t0.6332343816757202\n",
            "пес_NOUN\t0.6239610910415649\n",
            "щенок_NOUN\t0.6239476799964905\n",
            "кота_NOUN\t0.6218219995498657\n",
            "котяра_NOUN\t0.6177297234535217\n",
            "котенок_VERB\t0.613097608089447\n",
            "дворняга_NOUN\t0.6005702018737793\n",
            "\n"
          ]
        }
      ]
    },
    {
      "cell_type": "code",
      "source": [
        "# Попробуем теперь вычислить семантическую близость двух слов.\n",
        "# Используем другую модель.\n",
        "# Соберем ссылку для запроса к серверу.\n",
        "url = 'http://rusvectores.org/tayga_upos_skipgram_300_2_2019/кот__пес/api/similarity/'\n",
        "print(url)"
      ],
      "metadata": {
        "colab": {
          "base_uri": "https://localhost:8080/"
        },
        "id": "J81GpwPfWnk9",
        "outputId": "1ce0f2bb-a61d-4c45-eda6-5b70f9280ffd"
      },
      "execution_count": null,
      "outputs": [
        {
          "output_type": "stream",
          "name": "stdout",
          "text": [
            "http://rusvectores.org/tayga_upos_skipgram_300_2_2019/кот__пес/api/similarity/\n"
          ]
        }
      ]
    },
    {
      "cell_type": "code",
      "source": [
        "r = requests.get(url)"
      ],
      "metadata": {
        "id": "orJQOYp4XM4-"
      },
      "execution_count": null,
      "outputs": []
    },
    {
      "cell_type": "code",
      "source": [
        "# Напоминаю, что семантическая близость может быть от -1 до 1. Чем ближе она к 1,\n",
        "# тем ближе слова по смыслу. Кот и пес получили 0.72\n",
        "print(r.text)"
      ],
      "metadata": {
        "colab": {
          "base_uri": "https://localhost:8080/"
        },
        "id": "EnKVCQQQXOE9",
        "outputId": "1c941776-54ac-4ba4-fb47-8e4c1fdc755c"
      },
      "execution_count": null,
      "outputs": [
        {
          "output_type": "stream",
          "name": "stdout",
          "text": [
            "0.7201968431472778\tкот_NOUN\tпес_NOUN\ttayga_upos_skipgram_300_2_2019\n"
          ]
        }
      ]
    },
    {
      "cell_type": "code",
      "source": [
        "# Посмотрим, что у кота и кошки.\n",
        "url = 'http://rusvectores.org/tayga_upos_skipgram_300_2_2019/кот__кошка/api/similarity/'\n",
        "r = requests.get(url)\n",
        "# 0.81 - Пожалуй, соглашусь, эти слова более близки семантически.\n",
        "print(r.text)"
      ],
      "metadata": {
        "colab": {
          "base_uri": "https://localhost:8080/"
        },
        "id": "K8VaDIZVYlvO",
        "outputId": "bb5478ec-c9d5-490b-d4ba-5329fb64cce6"
      },
      "execution_count": null,
      "outputs": [
        {
          "output_type": "stream",
          "name": "stdout",
          "text": [
            "0.8161196708679199\tкот_NOUN\tкошка_NOUN\ttayga_upos_skipgram_300_2_2019\n"
          ]
        }
      ]
    }
  ]
}